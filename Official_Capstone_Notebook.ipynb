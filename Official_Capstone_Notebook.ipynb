{
  "nbformat": 4,
  "nbformat_minor": 0,
  "metadata": {
    "colab": {
      "provenance": []
    },
    "kernelspec": {
      "name": "python3",
      "display_name": "Python 3"
    },
    "language_info": {
      "name": "python"
    }
  },
  "cells": [
    {
      "cell_type": "code",
      "execution_count": 7,
      "metadata": {
        "id": "7wM9fXAED0KL",
        "colab": {
          "base_uri": "https://localhost:8080/"
        },
        "outputId": "d4abd9db-0198-445b-8b2a-bdcd22b93f1c"
      },
      "outputs": [
        {
          "output_type": "stream",
          "name": "stdout",
          "text": [
            "Mounted at /content/drive\n"
          ]
        }
      ],
      "source": [
        "from google.colab import drive\n",
        "drive.mount('/content/drive')"
      ]
    },
    {
      "cell_type": "code",
      "source": [
        "#!git clone https://github.com/neheller/kits23\n",
        "#https://github.com/neheller/kits23/tree/main\n",
        "#Challenge home page https://kits-challenge.org/kits23/"
      ],
      "metadata": {
        "id": "AmtKtZsDYNgh"
      },
      "execution_count": null,
      "outputs": []
    },
    {
      "cell_type": "code",
      "source": [
        "dataset_dir = \"/content/drive/MyDrive/kits23-sample/dataset\""
      ],
      "metadata": {
        "id": "znH7W5eIE9aH"
      },
      "execution_count": 2,
      "outputs": []
    },
    {
      "cell_type": "code",
      "source": [
        "import os\n",
        "def list_files(startpath):\n",
        "    for root, dirs, files in os.walk(startpath):\n",
        "        level = root.replace(startpath, '').count(os.sep)\n",
        "        indent = ' ' * 4 * (level)\n",
        "        print('{}{}/'.format(indent, os.path.basename(root)))\n",
        "        sub_indent = ' ' * 4 * (level + 1)\n",
        "        for f in files:\n",
        "            print('{}{}'.format(sub_indent, f))\n",
        "\n",
        "dataset_folder_path = '/content/drive/MyDrive/kits23-sample/dataset'\n",
        "list_files(dataset_folder_path)"
      ],
      "metadata": {
        "id": "UkTd8peleEil"
      },
      "execution_count": 3,
      "outputs": []
    },
    {
      "cell_type": "code",
      "source": [
        "!pip install nibabel"
      ],
      "metadata": {
        "id": "GjSGDN77ZZjl",
        "colab": {
          "base_uri": "https://localhost:8080/"
        },
        "outputId": "7b5257a4-d654-4b5c-cca2-76d2066fed21"
      },
      "execution_count": 5,
      "outputs": [
        {
          "output_type": "stream",
          "name": "stdout",
          "text": [
            "Requirement already satisfied: nibabel in /usr/local/lib/python3.10/dist-packages (4.0.2)\n",
            "Requirement already satisfied: numpy>=1.17 in /usr/local/lib/python3.10/dist-packages (from nibabel) (1.23.5)\n",
            "Requirement already satisfied: packaging>=17.0 in /usr/local/lib/python3.10/dist-packages (from nibabel) (23.1)\n",
            "Requirement already satisfied: setuptools in /usr/local/lib/python3.10/dist-packages (from nibabel) (67.7.2)\n"
          ]
        }
      ]
    },
    {
      "cell_type": "code",
      "source": [
        "import os\n",
        "import numpy as np\n",
        "import nibabel as nib\n",
        "import matplotlib.pyplot as plt"
      ],
      "metadata": {
        "id": "089nLKbwffad"
      },
      "execution_count": 4,
      "outputs": []
    },
    {
      "cell_type": "code",
      "source": [
        "def get_all_case_dirs(root_path):\n",
        "    \"\"\"Get all case directories under the root path.\"\"\"\n",
        "    paths = [os.path.join(root_path, d) for d in os.listdir(root_path) if os.path.isdir(os.path.join(root_path, d))]\n",
        "    return paths\n",
        "\n",
        "def safe_load_nii_gz_data(case_path, filename):\n",
        "    \"\"\"Load .nii.gz data using nibabel, return None if file doesn't exist.\"\"\"\n",
        "    file_path = os.path.join(case_path, filename)\n",
        "    if os.path.exists(file_path):\n",
        "        nii_data = nib.load(file_path)\n",
        "        return nii_data.get_fdata()\n",
        "    else:\n",
        "        print(f\"File {file_path} not found.\")\n",
        "        return None\n",
        "\n",
        "def visualize_slice(data, slice_index):\n",
        "    \"\"\"Visualize a slice of the 3D data.\"\"\"\n",
        "    plt.imshow(data[slice_index, :, :].T, cmap=\"gray\")\n",
        "    plt.axis('off')\n",
        "    plt.show()\n",
        "\n"
      ],
      "metadata": {
        "id": "zFwLPIgUflDT"
      },
      "execution_count": 59,
      "outputs": []
    },
    {
      "cell_type": "code",
      "source": [
        "all_case_dirs = get_all_case_dirs(dataset_dir)\n",
        "\n",
        "print(all_case_dirs)\n",
        "\n",
        "# Loading segmentations for the first few cases and visualize the first one that works\n",
        "for case_dir in all_case_dirs[:10]:  # only testing first 10 for quick verification\n",
        "    if case_dir.endswith('.ipynb_checkpoints') : continue\n",
        "    segmentation_data = safe_load_nii_gz_data(\"/content/drive/MyDrive/kits23-sample/dataset/case_0\", \"segmentation.nii.gz\")\n",
        "    if segmentation_data is not None:\n",
        "        visualize_slice(segmentation_data, 29)\n",
        "        break\n"
      ],
      "metadata": {
        "colab": {
          "base_uri": "https://localhost:8080/",
          "height": 443
        },
        "id": "Y1owBRZZfox2",
        "outputId": "40cec1f4-084e-48f7-cdc0-0c68ea50000d"
      },
      "execution_count": 60,
      "outputs": [
        {
          "output_type": "stream",
          "name": "stdout",
          "text": [
            "['/content/drive/MyDrive/kits23-sample/dataset/.ipynb_checkpoints', '/content/drive/MyDrive/kits23-sample/dataset/case_4', '/content/drive/MyDrive/kits23-sample/dataset/case_5', '/content/drive/MyDrive/kits23-sample/dataset/case_6', '/content/drive/MyDrive/kits23-sample/dataset/case_588', '/content/drive/MyDrive/kits23-sample/dataset/case_7', '/content/drive/MyDrive/kits23-sample/dataset/case_8', '/content/drive/MyDrive/kits23-sample/dataset/case_9', '/content/drive/MyDrive/kits23-sample/dataset/case_1', '/content/drive/MyDrive/kits23-sample/dataset/case_11', '/content/drive/MyDrive/kits23-sample/dataset/case_12', '/content/drive/MyDrive/kits23-sample/dataset/case_13', '/content/drive/MyDrive/kits23-sample/dataset/case_14', '/content/drive/MyDrive/kits23-sample/dataset/case_15', '/content/drive/MyDrive/kits23-sample/dataset/case_16', '/content/drive/MyDrive/kits23-sample/dataset/case_17', '/content/drive/MyDrive/kits23-sample/dataset/case_18', '/content/drive/MyDrive/kits23-sample/dataset/case_19', '/content/drive/MyDrive/kits23-sample/dataset/case_2', '/content/drive/MyDrive/kits23-sample/dataset/case_21', '/content/drive/MyDrive/kits23-sample/dataset/case_22', '/content/drive/MyDrive/kits23-sample/dataset/case_23', '/content/drive/MyDrive/kits23-sample/dataset/case_24', '/content/drive/MyDrive/kits23-sample/dataset/case_25', '/content/drive/MyDrive/kits23-sample/dataset/case_26', '/content/drive/MyDrive/kits23-sample/dataset/case_27', '/content/drive/MyDrive/kits23-sample/dataset/case_28', '/content/drive/MyDrive/kits23-sample/dataset/case_29', '/content/drive/MyDrive/kits23-sample/dataset/case_3', '/content/drive/MyDrive/kits23-sample/dataset/case_579', '/content/drive/MyDrive/kits23-sample/dataset/case_58', '/content/drive/MyDrive/kits23-sample/dataset/case_581', '/content/drive/MyDrive/kits23-sample/dataset/case_582', '/content/drive/MyDrive/kits23-sample/dataset/case_583', '/content/drive/MyDrive/kits23-sample/dataset/case_584', '/content/drive/MyDrive/kits23-sample/dataset/case_585', '/content/drive/MyDrive/kits23-sample/dataset/case_586', '/content/drive/MyDrive/kits23-sample/dataset/case_587', '/content/drive/MyDrive/kits23-sample/dataset/case_0']\n"
          ]
        },
        {
          "output_type": "display_data",
          "data": {
            "text/plain": [
              "<Figure size 640x480 with 1 Axes>"
            ],
            "image/png": "[encoded data removed]"
          },
          "metadata": {}
        }
      ]
    },
    {
      "cell_type": "code",
      "source": [
        "# Loading segmentations for the first few cases and visualize the first one that works\n",
        "for case_dir in all_case_dirs[:10]:  # only testing first 10 for quick verification\n",
        "    if case_dir.endswith('.ipynb_checkpoints') : continue\n",
        "    segmentation_data = safe_load_nii_gz_data(\"/content/drive/MyDrive/kits23-sample/dataset/case_0\", \"imaging.nii.gz\")\n",
        "    if segmentation_data is not None:\n",
        "        visualize_slice(segmentation_data, 60)\n",
        "        break"
      ],
      "metadata": {
        "colab": {
          "base_uri": "https://localhost:8080/",
          "height": 406
        },
        "id": "FF4Nl2NJ2wja",
        "outputId": "a9e6a587-b71e-49ff-aed7-677a4bd068c2"
      },
      "execution_count": 66,
      "outputs": [
        {
          "output_type": "display_data",
          "data": {
            "text/plain": [
              "<Figure size 640x480 with 1 Axes>"
            ],
            "image/png": "[encoded data removed]"
          },
          "metadata": {}
        }
      ]
    },
    {
      "cell_type": "code",
      "source": [
        "# Loading segmentations for the first few cases and visualize the first one that works\n",
        "for case_dir in all_case_dirs[:10]:  # only testing first 10 for quick verification\n",
        "    if case_dir.endswith('.ipynb_checkpoints') : continue\n",
        "    segmentation_data = safe_load_nii_gz_data(\"/content/drive/MyDrive/kits23-sample/dataset/case_0/instances\", \"tumor_instance-1_annotation-1.nii.gz\")\n",
        "    if segmentation_data is not None:\n",
        "        visualize_slice(segmentation_data, 60)\n",
        "        break"
      ],
      "metadata": {
        "colab": {
          "base_uri": "https://localhost:8080/",
          "height": 406
        },
        "id": "-yF8yco5-Agb",
        "outputId": "e609cada-d563-42ea-f7a5-bb2342f3f3c3"
      },
      "execution_count": 67,
      "outputs": [
        {
          "output_type": "display_data",
          "data": {
            "text/plain": [
              "<Figure size 640x480 with 1 Axes>"
            ],
            "image/png": "[encoded data removed]"
          },
          "metadata": {}
        }
      ]
    },
    {
      "cell_type": "code",
      "source": [
        "#If a case lacks segmentation.nii.gz, it implies that we don't have a reference segmentation for that particular case, making it unsuitable for training (since we wouldn't have a ground truth to compare the model's output to)."
      ],
      "metadata": {
        "id": "BJzePU-dhUsO"
      },
      "execution_count": null,
      "outputs": []
    },
    {
      "cell_type": "code",
      "source": [
        "#!python \"/content/drive/MyDrive/kits23-sample/kits23/annotation/visualize.py\" -c case_0 -d \"/content/drive/MyDrive/kits23-sample/dataset/case_0/png_axial_view\""
      ],
      "metadata": {
        "colab": {
          "base_uri": "https://localhost:8080/"
        },
        "id": "jtDb5UnIGqaB",
        "outputId": "a1e71fbc-129c-4ad2-9398-a185164ed698"
      },
      "execution_count": 43,
      "outputs": [
        {
          "output_type": "stream",
          "name": "stdout",
          "text": [
            "/content/drive/MyDrive/kits23-sample/kits23/annotation/visualize.py:81: DeprecationWarning: get_data() is deprecated in favor of get_fdata(), which has a more predictable return type. To obtain get_data() behavior going forward, use numpy.asanyarray(img.dataobj).\n",
            "\n",
            "* deprecated from version: 3.0\n",
            "* Will raise <class 'nibabel.deprecator.ExpiredDeprecationError'> as of version: 5.0\n",
            "  vol = vol.get_data()\n",
            "/content/drive/MyDrive/kits23-sample/kits23/annotation/visualize.py:82: DeprecationWarning: get_data() is deprecated in favor of get_fdata(), which has a more predictable return type. To obtain get_data() behavior going forward, use numpy.asanyarray(img.dataobj).\n",
            "\n",
            "* deprecated from version: 3.0\n",
            "* Will raise <class 'nibabel.deprecator.ExpiredDeprecationError'> as of version: 5.0\n",
            "  seg = seg.get_data()\n"
          ]
        }
      ]
    },
    {
      "cell_type": "markdown",
      "source": [
        "#Filtering Out Incomplete Data"
      ],
      "metadata": {
        "id": "T72Nb1RhhrT0"
      }
    },
    {
      "cell_type": "markdown",
      "source": [
        "### Data Preparation"
      ],
      "metadata": {
        "id": "WTarGcskhyPS"
      }
    },
    {
      "cell_type": "markdown",
      "source": [
        "####Cleaning the dataset by identifying and removing any cases that lack the segmentation.nii.gz file. If a case lacks segmentation.nii.gz, it implies that we don't have a reference segmentation for that particular case, making it unsuitable for training (since we wouldn't have a ground truth to compare the model's output to)."
      ],
      "metadata": {
        "id": "Aoh9CT8uq80r"
      }
    },
    {
      "cell_type": "code",
      "source": [
        "# to delete\n",
        "# import os\n",
        "\n",
        "# # List all cases\n",
        "# all_cases = [d for d in os.listdir(dataset_dir) if os.path.isdir(os.path.join(dataset_dir, d))]\n",
        "\n",
        "# # Filter cases that have segmentation.nii.gz\n",
        "# valid_cases = [case for case in all_cases if os.path.exists(os.path.join(dataset_dir, case, \"segmentation.nii.gz\"))]\n",
        "\n",
        "# print(f\"Total cases: {len(all_cases)}\")\n",
        "# print(f\"Valid cases with segmentation: {len(valid_cases)}\")\n"
      ],
      "metadata": {
        "id": "O3kMTK2KhWte"
      },
      "execution_count": null,
      "outputs": []
    },
    {
      "cell_type": "code",
      "source": [
        "# Helper function to determine if a directory contains at least one instance (kidney, tumor, or cyst)\n",
        "def contains_instance(case_dir):\n",
        "    instance_files = os.listdir(case_dir)\n",
        "    for filename in instance_files:\n",
        "        if filename.startswith((\"kidney\", \"tumor\", \"cyst\")):\n",
        "            return True\n",
        "    return False\n"
      ],
      "metadata": {
        "id": "2rpKAlhOxHbb"
      },
      "execution_count": 5,
      "outputs": []
    },
    {
      "cell_type": "code",
      "source": [
        "import os\n",
        "\n",
        "# List all cases\n",
        "all_cases = [d for d in os.listdir(dataset_dir) if os.path.isdir(os.path.join(dataset_dir, d))]\n",
        "\n",
        "# Filter cases that have segmentation.nii.gz and at least one instance\n",
        "valid_cases = [\n",
        "    case\n",
        "    for case in all_cases\n",
        "    if os.path.exists(os.path.join(dataset_dir, case, \"segmentation.nii.gz\")) and\n",
        "    contains_instance(os.path.join(dataset_dir, case, \"instances\"))\n",
        "]\n",
        "\n",
        "print(f\"Total cases: {len(all_cases)}\")\n",
        "print(f\"Valid cases with segmentation and at least one instance: {len(valid_cases)}\")\n",
        "\n"
      ],
      "metadata": {
        "colab": {
          "base_uri": "https://localhost:8080/"
        },
        "id": "tTIJIgt6xPNE",
        "outputId": "89ebd6cb-751a-4f72-94df-500fd64da8ae"
      },
      "execution_count": 8,
      "outputs": [
        {
          "output_type": "stream",
          "name": "stdout",
          "text": [
            "Total cases: 39\n",
            "Valid cases with segmentation and at least one instance: 38\n"
          ]
        }
      ]
    },
    {
      "cell_type": "code",
      "source": [
        "# Print the names of the valid cases in order\n",
        "print(\"\\nNames of valid cases:\")\n",
        "for case_name in sorted(valid_cases):\n",
        "    print(case_name)\n"
      ],
      "metadata": {
        "colab": {
          "base_uri": "https://localhost:8080/"
        },
        "id": "o8zyXwtXwjsK",
        "outputId": "1dda06e3-a8ac-4160-ddb0-4e53f7873c0b"
      },
      "execution_count": 23,
      "outputs": [
        {
          "output_type": "stream",
          "name": "stdout",
          "text": [
            "\n",
            "Names of valid cases:\n",
            "case_0\n",
            "case_1\n",
            "case_11\n",
            "case_12\n",
            "case_13\n",
            "case_14\n",
            "case_15\n",
            "case_16\n",
            "case_17\n",
            "case_18\n",
            "case_19\n",
            "case_2\n",
            "case_21\n",
            "case_22\n",
            "case_23\n",
            "case_24\n",
            "case_25\n",
            "case_26\n",
            "case_27\n",
            "case_28\n",
            "case_29\n",
            "case_3\n",
            "case_4\n",
            "case_5\n",
            "case_579\n",
            "case_58\n",
            "case_581\n",
            "case_582\n",
            "case_583\n",
            "case_584\n",
            "case_585\n",
            "case_586\n",
            "case_587\n",
            "case_588\n",
            "case_6\n",
            "case_7\n",
            "case_8\n",
            "case_9\n"
          ]
        }
      ]
    },
    {
      "cell_type": "code",
      "source": [
        "set(all_cases) - set(valid_cases)"
      ],
      "metadata": {
        "colab": {
          "base_uri": "https://localhost:8080/"
        },
        "id": "k4B4gB1s6PBr",
        "outputId": "ffc235a0-0ad6-48cd-e14b-e91ae4f8511f"
      },
      "execution_count": 25,
      "outputs": [
        {
          "output_type": "execute_result",
          "data": {
            "text/plain": [
              "{'.ipynb_checkpoints'}"
            ]
          },
          "metadata": {},
          "execution_count": 25
        }
      ]
    },
    {
      "cell_type": "markdown",
      "source": [
        "#Data Preprocessing"
      ],
      "metadata": {
        "id": "eGdzbYZXr7zg"
      }
    },
    {
      "cell_type": "code",
      "source": [
        "def one_hot_encode(segmentation, num_classes):\n",
        "    \"\"\"\n",
        "    One hot encodes the segmentation mask.\n",
        "    Args:\n",
        "    - segmentation : numpy array, the segmentation mask\n",
        "    - num_classes : int, number of classes\n",
        "    Returns:\n",
        "    - one_hot : numpy array, the one-hot encoded mask\n",
        "    \"\"\"\n",
        "    one_hot = np.zeros((*segmentation.shape, num_classes))\n",
        "    for i in range(num_classes):\n",
        "        one_hot[..., i] = (segmentation == i)\n",
        "    return one_hot\n"
      ],
      "metadata": {
        "id": "I8iAFt2e5EYw"
      },
      "execution_count": 9,
      "outputs": []
    },
    {
      "cell_type": "code",
      "source": [
        "def preprocess_data(image, label, num_classes=4):\n",
        "    \"\"\"\n",
        "    Preprocesses the image and label:\n",
        "    - Resizes to the target shape.\n",
        "    - Normalizes the image to [0, 1] range.\n",
        "    - One-hot encodes the label.\n",
        "\n",
        "    Parameters:\n",
        "    - image: The MRI image.\n",
        "    - label: The corresponding label.\n",
        "\n",
        "    Returns:\n",
        "    - preprocessed_image: Resized and normalized image.\n",
        "    - preprocessed_label: Resized and one-hot encoded label.\n",
        "    \"\"\"\n",
        "\n",
        "    # Determine the current shape of the image data\n",
        "    current_shape = image.shape\n",
        "\n",
        "    # Calculate the zoom factors\n",
        "    zoom_factors = (128/current_shape[0], 128/current_shape[1], 64/current_shape[2])\n",
        "\n",
        "    # Resizing\n",
        "    resized_image = zoom(image, zoom_factors, mode='nearest')\n",
        "    resized_label = zoom(label, zoom_factors, order=0, mode='nearest')\n",
        "    # using order=0 (nearest neighbor) for labels\n",
        "\n",
        "    # Normalizing image data to [0, 1]\n",
        "    normalized_image = (resized_image - np.min(resized_image)) / (np.max(resized_image) - np.min(resized_image))\n",
        "\n",
        "    # One-hot encode the label\n",
        "    one_hot_label = one_hot_encode(resized_label, num_classes)\n",
        "\n",
        "    return normalized_image, one_hot_label\n"
      ],
      "metadata": {
        "id": "dbujrJaKr-dI"
      },
      "execution_count": 10,
      "outputs": []
    },
    {
      "cell_type": "markdown",
      "source": [
        "#Generator : data is loaded and preprocessed on-the-fly during training"
      ],
      "metadata": {
        "id": "_Q_sqREwmOmq"
      }
    },
    {
      "cell_type": "code",
      "source": [
        "import nibabel as nib\n",
        "import numpy as np\n",
        "from scipy.ndimage import zoom\n"
      ],
      "metadata": {
        "id": "ZlarVJ_9mUyV"
      },
      "execution_count": 28,
      "outputs": []
    },
    {
      "cell_type": "code",
      "source": [
        "def one_hot_encode(label, num_classes=4):\n",
        "    \"\"\"\n",
        "    One-hot encodes the labels.\n",
        "    Assumes label values are 0, 1, 2, ... up to num_classes-1.\n",
        "    \"\"\"\n",
        "    return np.eye(num_classes)[label.astype(int)]"
      ],
      "metadata": {
        "id": "UgBZbKQV6ls2"
      },
      "execution_count": 29,
      "outputs": []
    },
    {
      "cell_type": "code",
      "source": [
        " #Each batch is consistent and has a shape (batch_size, 128, 128, 64, 1) for images and (batch_size, 128, 128, 64, num_classes) for labels\n",
        "def data_generator(case_list, dataset_dir, batch_size=2, image_shape=(128, 128, 64, 1), num_classes=4):\n",
        "    while True:\n",
        "        # Randomly sample batch_size cases\n",
        "        batch_cases = np.random.choice(case_list, size=batch_size)\n",
        "\n",
        "        batch_images = []\n",
        "        batch_labels = []\n",
        "\n",
        "        for case in batch_cases:\n",
        "            instances_dir = os.path.join(dataset_dir, case, 'instances')\n",
        "\n",
        "            # List all instance files within the directory\n",
        "            all_files = os.listdir(instances_dir)\n",
        "\n",
        "            # Filter out the kidney, cyst, and tumor instances\n",
        "            image_files = [f for f in all_files if f.startswith(\"kidney\") or f.startswith(\"tumor\") or f.startswith(\"cyst\")]\n",
        "\n",
        "            if not image_files:\n",
        "                continue  # If there are no instance files, skip this case\n",
        "\n",
        "            # Select a random instance for this case (assuming each case might have different instances)\n",
        "            random_instance = np.random.choice(image_files)\n",
        "\n",
        "            image_path = os.path.join(instances_dir, random_instance)\n",
        "            label_path = os.path.join(dataset_dir, case, 'segmentation.nii.gz')\n",
        "\n",
        "            # Load the image and label\n",
        "            image = nib.load(image_path).get_fdata()\n",
        "            label = nib.load(label_path).get_fdata()\n",
        "\n",
        "            # Preprocess (resize and normalize) the image and label\n",
        "            image, label = preprocess_data(image, label)\n",
        "\n",
        "            # One-hot encode the labels\n",
        "            #label = one_hot_encode(label, num_classes=num_classes)\n",
        "\n",
        "            batch_images.append(image)\n",
        "            batch_labels.append(label)\n",
        "\n",
        "        # Ensure batch size consistency\n",
        "        while len(batch_images) < batch_size:\n",
        "            # simply reuse the data from the current batch. This is a basic approach, may change it\n",
        "            batch_images.extend(batch_images[:batch_size - len(batch_images)])\n",
        "            batch_labels.extend(batch_labels[:batch_size - len(batch_labels)])\n",
        "\n",
        "        # Convert lists to numpy arrays and try to reshape them to ensure the consistency\n",
        "        batch_images = np.array(batch_images)\n",
        "        batch_labels = np.array(batch_labels)\n",
        "\n",
        "        # Print the shapes before reshaping\n",
        "        print(\"Shapes before reshaping:\", batch_images.shape, batch_labels.shape)\n",
        "\n",
        "        # Now, try reshaping , problem here\n",
        "        try:\n",
        "            batch_images = batch_images.reshape((batch_size, *image_shape))\n",
        "            batch_labels = batch_labels.reshape((batch_size, *image_shape[:-1], num_classes))\n",
        "        except ValueError as e:\n",
        "            print(f\"Error reshaping for batch: {e}\")\n",
        "            print(\"Cases in the problematic batch:\", batch_cases)\n",
        "            continue  # Skip the problematic batch\n",
        "\n",
        "        yield (batch_images, batch_labels)"
      ],
      "metadata": {
        "id": "6d2t_T0WmhY5"
      },
      "execution_count": 30,
      "outputs": []
    },
    {
      "cell_type": "code",
      "source": [
        "# def data_generator(case_list, dataset_dir, batch_size=8, image_shape=(128, 128, 64, 1), num_classes=4):\n",
        "#     while True:\n",
        "#         # Randomly sample batch_size cases\n",
        "#         batch_cases = np.random.choice(case_list, size=batch_size)\n",
        "\n",
        "#         # Pre-allocate memory for images and labels\n",
        "#         batch_images = np.zeros((batch_size, *image_shape))\n",
        "#         batch_labels = np.zeros((batch_size, *image_shape[:-1], num_classes))\n",
        "\n",
        "#         i = 0\n",
        "#         for case in batch_cases:\n",
        "#             instances_dir = os.path.join(dataset_dir, case, 'instances')\n",
        "#             all_files = os.listdir(instances_dir)\n",
        "#             image_files = [f for f in all_files if f.startswith(\"kidney\") or f.startswith(\"tumor\") or f.startswith(\"cyst\")]\n",
        "\n",
        "#             if not image_files:\n",
        "#                 continue  # If there are no instance files, skip this case\n",
        "\n",
        "#             random_instance = np.random.choice(image_files)\n",
        "#             image_path = os.path.join(instances_dir, random_instance)\n",
        "#             label_path = os.path.join(dataset_dir, case, 'segmentation.nii.gz')\n",
        "\n",
        "#             image = nib.load(image_path).get_fdata()\n",
        "#             label = nib.load(label_path).get_fdata()\n",
        "\n",
        "#             image, label = preprocess_data(image, label)\n",
        "\n",
        "#             # Insert data into pre-allocated arrays\n",
        "#             batch_images[i] = image\n",
        "#             batch_labels[i] = label\n",
        "#             i += 1\n",
        "\n",
        "#         yield (batch_images, batch_labels)\n"
      ],
      "metadata": {
        "id": "JY_OyarjCVr-"
      },
      "execution_count": null,
      "outputs": []
    },
    {
      "cell_type": "markdown",
      "source": [
        "#Splitting Dataset into Training and Validation"
      ],
      "metadata": {
        "id": "VloULHJlsj9W"
      }
    },
    {
      "cell_type": "code",
      "source": [
        "from sklearn.model_selection import train_test_split\n",
        "train_cases, val_cases = train_test_split(valid_cases, test_size=0.1)  # Split 10% for validation"
      ],
      "metadata": {
        "id": "hwN-ikSVsl93"
      },
      "execution_count": 31,
      "outputs": []
    },
    {
      "cell_type": "code",
      "source": [
        "batch_size = 2  #change this value if needed\n",
        "\n",
        "train_gen = data_generator(train_cases, dataset_dir, batch_size=batch_size)\n",
        "val_gen = data_generator(val_cases, dataset_dir, batch_size=batch_size)"
      ],
      "metadata": {
        "id": "kowpMMJksrGB"
      },
      "execution_count": 32,
      "outputs": []
    },
    {
      "cell_type": "code",
      "source": [
        "x, y = next(train_gen)\n",
        "print(x.shape, y.shape)"
      ],
      "metadata": {
        "id": "HmTZrGai89AN",
        "colab": {
          "base_uri": "https://localhost:8080/"
        },
        "outputId": "308ada6f-117f-45c0-c437-7a5f36b870ec"
      },
      "execution_count": 33,
      "outputs": [
        {
          "output_type": "stream",
          "name": "stdout",
          "text": [
            "Shapes before reshaping: (2, 128, 128, 64) (2, 128, 128, 64, 4)\n",
            "(2, 128, 128, 64, 1) (2, 128, 128, 64, 4)\n"
          ]
        }
      ]
    },
    {
      "cell_type": "code",
      "source": [
        "counter = 0\n",
        "\n",
        "print(\"\\n-- TRAINING DATA -- \")\n",
        "for x,y in train_gen.__iter__():\n",
        "  if counter == 1:\n",
        "    break\n",
        "  print(type(x))\n",
        "  print(f\"Shape X: ({len(x)}, {len(x[0]), len(x[1])}\")\n",
        "  print(f\"Shape Y: ({y.shape}\\n\")\n",
        "  counter += 1"
      ],
      "metadata": {
        "colab": {
          "base_uri": "https://localhost:8080/"
        },
        "id": "4dzR5cuO8qN2",
        "outputId": "00e6d6be-3077-4335-b7db-161d20ee8497"
      },
      "execution_count": 36,
      "outputs": [
        {
          "output_type": "stream",
          "name": "stdout",
          "text": [
            "\n",
            "-- TRAINING DATA -- \n",
            "Shapes before reshaping: (2, 128, 128, 64) (2, 128, 128, 64, 4)\n",
            "<class 'numpy.ndarray'>\n",
            "Shape X: (2, (128, 128)\n",
            "Shape Y: ((2, 128, 128, 64, 4)\n",
            "\n",
            "Shapes before reshaping: (2, 128, 128, 64) (2, 128, 128, 64, 4)\n"
          ]
        }
      ]
    },
    {
      "cell_type": "markdown",
      "source": [
        "#Model"
      ],
      "metadata": {
        "id": "nCkqQeQ6nkl0"
      }
    },
    {
      "cell_type": "markdown",
      "source": [
        "###Define the U-Net Model"
      ],
      "metadata": {
        "id": "pgbK3j-5nqGN"
      }
    },
    {
      "cell_type": "code",
      "source": [
        "import tensorflow as tf\n",
        "from tensorflow.keras.layers import Input, Conv3D, MaxPooling3D, UpSampling3D, Concatenate"
      ],
      "metadata": {
        "id": "0Y_quZTqnmpa"
      },
      "execution_count": 12,
      "outputs": []
    },
    {
      "cell_type": "code",
      "source": [
        "!pip install keras-unet"
      ],
      "metadata": {
        "colab": {
          "base_uri": "https://localhost:8080/"
        },
        "id": "_myLLXkKPAhd",
        "outputId": "0d830410-204c-4d84-ab12-bf1fed14ef77"
      },
      "execution_count": 11,
      "outputs": [
        {
          "output_type": "stream",
          "name": "stdout",
          "text": [
            "Collecting keras-unet\n",
            "  Downloading keras_unet-0.1.2-py3-none-any.whl (16 kB)\n",
            "Installing collected packages: keras-unet\n",
            "Successfully installed keras-unet-0.1.2\n"
          ]
        }
      ]
    },
    {
      "cell_type": "code",
      "source": [
        "from keras_unet.models import custom_unet"
      ],
      "metadata": {
        "colab": {
          "base_uri": "https://localhost:8080/"
        },
        "id": "IuCyBNaVPWRI",
        "outputId": "95a4b7ae-d7e9-4e88-a04e-5def2fd91b84"
      },
      "execution_count": 14,
      "outputs": [
        {
          "output_type": "stream",
          "name": "stdout",
          "text": [
            "-----------------------------------------\n",
            "keras-unet init: TF version is >= 2.0.0 - using `tf.keras` instead of `Keras`\n",
            "-----------------------------------------\n"
          ]
        }
      ]
    },
    {
      "cell_type": "code",
      "source": [
        "def unet_model(input_shape=(128, 128, 64, 1), num_classes=4):\n",
        "    inputs = Input(input_shape)\n",
        "\n",
        "    # Encoder\n",
        "    c1 = Conv3D(32, (3, 3, 3), activation='relu', padding='same')(inputs)\n",
        "    p1 = MaxPooling3D((2, 2, 2))(c1)\n",
        "\n",
        "    c2 = Conv3D(64, (3, 3, 3), activation='relu', padding='same')(p1)\n",
        "\n",
        "    # Decoder\n",
        "    u1 = UpSampling3D((2, 2, 2))(c2)\n",
        "    c3 = Conv3D(32, (3, 3, 3), activation='relu', padding='same')(u1)\n",
        "    merge1 = Concatenate()([c3, c1])\n",
        "\n",
        "    c4 = Conv3D(32, (3, 3, 3), activation='relu', padding='same')(merge1)\n",
        "\n",
        "    # Segmentation Map\n",
        "    outputs = Conv3D(num_classes, (1, 1, 1), activation='softmax')(c4)\n",
        "\n",
        "    return tf.keras.Model(inputs=inputs, outputs=outputs)\n",
        "\n",
        "model = unet_model()\n",
        "model.summary()\n"
      ],
      "metadata": {
        "colab": {
          "base_uri": "https://localhost:8080/"
        },
        "id": "0me4gfRfno01",
        "outputId": "c1dc27a3-00ec-4b12-c6e9-ce49457b9c34"
      },
      "execution_count": 13,
      "outputs": [
        {
          "output_type": "stream",
          "name": "stdout",
          "text": [
            "Model: \"model\"\n",
            "__________________________________________________________________________________________________\n",
            " Layer (type)                Output Shape                 Param #   Connected to                  \n",
            "==================================================================================================\n",
            " input_1 (InputLayer)        [(None, 128, 128, 64, 1)]    0         []                            \n",
            "                                                                                                  \n",
            " conv3d (Conv3D)             (None, 128, 128, 64, 32)     896       ['input_1[0][0]']             \n",
            "                                                                                                  \n",
            " max_pooling3d (MaxPooling3  (None, 64, 64, 32, 32)       0         ['conv3d[0][0]']              \n",
            " D)                                                                                               \n",
            "                                                                                                  \n",
            " conv3d_1 (Conv3D)           (None, 64, 64, 32, 64)       55360     ['max_pooling3d[0][0]']       \n",
            "                                                                                                  \n",
            " up_sampling3d (UpSampling3  (None, 128, 128, 64, 64)     0         ['conv3d_1[0][0]']            \n",
            " D)                                                                                               \n",
            "                                                                                                  \n",
            " conv3d_2 (Conv3D)           (None, 128, 128, 64, 32)     55328     ['up_sampling3d[0][0]']       \n",
            "                                                                                                  \n",
            " concatenate (Concatenate)   (None, 128, 128, 64, 64)     0         ['conv3d_2[0][0]',            \n",
            "                                                                     'conv3d[0][0]']              \n",
            "                                                                                                  \n",
            " conv3d_3 (Conv3D)           (None, 128, 128, 64, 32)     55328     ['concatenate[0][0]']         \n",
            "                                                                                                  \n",
            " conv3d_4 (Conv3D)           (None, 128, 128, 64, 4)      132       ['conv3d_3[0][0]']            \n",
            "                                                                                                  \n",
            "==================================================================================================\n",
            "Total params: 167044 (652.52 KB)\n",
            "Trainable params: 167044 (652.52 KB)\n",
            "Non-trainable params: 0 (0.00 Byte)\n",
            "__________________________________________________________________________________________________\n"
          ]
        }
      ]
    },
    {
      "cell_type": "code",
      "source": [
        "!pip install visualkeras"
      ],
      "metadata": {
        "colab": {
          "base_uri": "https://localhost:8080/"
        },
        "id": "eysT_e5RAkUh",
        "outputId": "3bfd4b9c-86ba-4b44-9f0a-75a450b653d7"
      },
      "execution_count": 10,
      "outputs": [
        {
          "output_type": "stream",
          "name": "stdout",
          "text": [
            "Collecting visualkeras\n",
            "  Downloading visualkeras-0.0.2-py3-none-any.whl (12 kB)\n",
            "Requirement already satisfied: pillow>=6.2.0 in /usr/local/lib/python3.10/dist-packages (from visualkeras) (9.4.0)\n",
            "Requirement already satisfied: numpy>=1.18.1 in /usr/local/lib/python3.10/dist-packages (from visualkeras) (1.23.5)\n",
            "Collecting aggdraw>=1.3.11 (from visualkeras)\n",
            "  Downloading aggdraw-1.3.16-cp310-cp310-manylinux_2_17_x86_64.manylinux2014_x86_64.whl (993 kB)\n",
            "\u001b[2K     \u001b[90m━━━━━━━━━━━━━━━━━━━━━━━━━━━━━━━━━━━━━━━\u001b[0m \u001b[32m993.0/993.0 kB\u001b[0m \u001b[31m5.6 MB/s\u001b[0m eta \u001b[36m0:00:00\u001b[0m\n",
            "\u001b[?25hInstalling collected packages: aggdraw, visualkeras\n",
            "Successfully installed aggdraw-1.3.16 visualkeras-0.0.2\n"
          ]
        }
      ]
    },
    {
      "cell_type": "code",
      "source": [
        "!pip install keras"
      ],
      "metadata": {
        "colab": {
          "base_uri": "https://localhost:8080/"
        },
        "id": "b9P66udwCTkn",
        "outputId": "7868a871-136b-4582-c633-1fed3b419bc1"
      },
      "execution_count": 24,
      "outputs": [
        {
          "output_type": "stream",
          "name": "stdout",
          "text": [
            "Requirement already satisfied: keras in /usr/local/lib/python3.10/dist-packages (2.13.1)\n"
          ]
        }
      ]
    },
    {
      "cell_type": "code",
      "source": [
        "from keras.utils.vis_utils import plot_model\n",
        "plot_model(model, show_shapes=True)"
      ],
      "metadata": {
        "colab": {
          "base_uri": "https://localhost:8080/",
          "height": 332
        },
        "id": "U_tvF_tVAlbw",
        "outputId": "9447b19d-b5ce-449c-9aba-08d6169dd9b1"
      },
      "execution_count": 26,
      "outputs": [
        {
          "output_type": "error",
          "ename": "ModuleNotFoundError",
          "evalue": "ignored",
          "traceback": [
            "\u001b[0;31m---------------------------------------------------------------------------\u001b[0m",
            "\u001b[0;31mModuleNotFoundError\u001b[0m                       Traceback (most recent call last)",
            "\u001b[0;32m<ipython-input-26-32b548d8b93f>\u001b[0m in \u001b[0;36m<cell line: 1>\u001b[0;34m()\u001b[0m\n\u001b[0;32m----> 1\u001b[0;31m \u001b[0;32mfrom\u001b[0m \u001b[0mkeras\u001b[0m\u001b[0;34m.\u001b[0m\u001b[0mutils\u001b[0m\u001b[0;34m.\u001b[0m\u001b[0mvis_utils\u001b[0m \u001b[0;32mimport\u001b[0m \u001b[0mplot_model\u001b[0m\u001b[0;34m\u001b[0m\u001b[0;34m\u001b[0m\u001b[0m\n\u001b[0m\u001b[1;32m      2\u001b[0m \u001b[0mplot_model\u001b[0m\u001b[0;34m(\u001b[0m\u001b[0mmodel\u001b[0m\u001b[0;34m,\u001b[0m \u001b[0mshow_shapes\u001b[0m\u001b[0;34m=\u001b[0m\u001b[0;32mTrue\u001b[0m\u001b[0;34m)\u001b[0m\u001b[0;34m\u001b[0m\u001b[0;34m\u001b[0m\u001b[0m\n",
            "\u001b[0;31mModuleNotFoundError\u001b[0m: No module named 'keras.utils.vis_utils'",
            "",
            "\u001b[0;31m---------------------------------------------------------------------------\u001b[0;32m\nNOTE: If your import is failing due to a missing package, you can\nmanually install dependencies using either !pip or !apt.\n\nTo view examples of installing some common dependencies, click the\n\"Open Examples\" button below.\n\u001b[0;31m---------------------------------------------------------------------------\u001b[0m\n"
          ],
          "errorDetails": {
            "actions": [
              {
                "action": "open_url",
                "actionText": "Open Examples",
                "url": "/notebooks/snippets/importing_libraries.ipynb"
              }
            ]
          }
        }
      ]
    },
    {
      "cell_type": "markdown",
      "source": [
        "##Complie Model"
      ],
      "metadata": {
        "id": "4xIbfAN6o8RU"
      }
    },
    {
      "cell_type": "code",
      "source": [
        "# Compile the model (may need to change metrix here)\n",
        "model.compile(optimizer='adam',\n",
        "              loss='categorical_crossentropy',\n",
        "              metrics=['accuracy'])\n"
      ],
      "metadata": {
        "id": "f1AQ7OtXo__f"
      },
      "execution_count": 39,
      "outputs": []
    },
    {
      "cell_type": "markdown",
      "source": [
        "#Train Model"
      ],
      "metadata": {
        "id": "0c1zY6Qps-Fd"
      }
    },
    {
      "cell_type": "code",
      "source": [
        "# Number of steps per epoch should be the number of batches of data  per epoch\n",
        "steps_per_epoch = len(train_cases) // batch_size\n",
        "validation_steps = len(val_cases) // batch_size  # similar calculation for validation data"
      ],
      "metadata": {
        "id": "SXI251C7tAoW"
      },
      "execution_count": 40,
      "outputs": []
    },
    {
      "cell_type": "code",
      "source": [
        "num_epochs = 50\n",
        "# Reduced for debugging\n",
        "debug_steps_per_epoch = 5\n",
        "history = model.fit(\n",
        "    train_gen,\n",
        "    steps_per_epoch=steps_per_epoch,\n",
        "    #steps_per_epoch=debug_steps_per_epoch,\n",
        "    epochs=num_epochs,\n",
        "    validation_data=val_gen,\n",
        "    validation_steps=validation_steps\n",
        ")"
      ],
      "metadata": {
        "colab": {
          "base_uri": "https://localhost:8080/"
        },
        "id": "fzUPpWjktKKQ",
        "outputId": "9b72cec9-c33b-426b-9152-4c48b30caeef"
      },
      "execution_count": null,
      "outputs": [
        {
          "output_type": "stream",
          "name": "stdout",
          "text": [
            "Shapes before reshaping: (2, 128, 128, 64) (2, 128, 128, 64, 4)\n",
            "Epoch 1/50\n",
            "Shapes before reshaping: (2, 128, 128, 64) (2, 128, 128, 64, 4)\n"
          ]
        }
      ]
    }
  ]
}