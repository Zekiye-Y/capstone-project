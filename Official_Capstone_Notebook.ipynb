{
  "cells": [
    {
      "cell_type": "code",
      "execution_count": 16,
      "metadata": {
        "id": "089nLKbwffad"
      },
      "outputs": [],
      "source": [
        "import os\n",
        "os.environ[\"KERAS_BACKEND\"] = \"tensorflow\"\n",
        "import numpy as np\n",
        "import nibabel as nib\n",
        "import matplotlib.pyplot as plt\n",
        "from google.colab import drive\n",
        "import keras\n",
        "import tensorflow as tf\n",
        "from sklearn.preprocessing import MinMaxScaler\n",
        "from scipy.ndimage import zoom"
      ]
    },
    {
      "cell_type": "code",
      "execution_count": null,
      "metadata": {
        "colab": {
          "base_uri": "https://localhost:8080/",
          "height": 35
        },
        "id": "L-gIbTkEPRa1",
        "outputId": "86970ec8-a474-42fd-efd9-4457597349d1"
      },
      "outputs": [
        {
          "data": {
            "application/vnd.google.colaboratory.intrinsic+json": {
              "type": "string"
            },
            "text/plain": [
              "'2.13.0'"
            ]
          },
          "execution_count": 2,
          "metadata": {},
          "output_type": "execute_result"
        }
      ],
      "source": [
        "tf.__version__"
      ]
    },
    {
      "cell_type": "code",
      "execution_count": null,
      "metadata": {
        "colab": {
          "base_uri": "https://localhost:8080/",
          "height": 35
        },
        "id": "RzgyT4-yT6U4",
        "outputId": "bc838f06-0585-4f31-be87-190680146bf9"
      },
      "outputs": [
        {
          "data": {
            "application/vnd.google.colaboratory.intrinsic+json": {
              "type": "string"
            },
            "text/plain": [
              "'2.13.1'"
            ]
          },
          "execution_count": 3,
          "metadata": {},
          "output_type": "execute_result"
        }
      ],
      "source": [
        "keras.__version__"
      ]
    },
    {
      "cell_type": "code",
      "execution_count": 2,
      "metadata": {
        "colab": {
          "base_uri": "https://localhost:8080/"
        },
        "id": "7wM9fXAED0KL",
        "outputId": "49f8968c-7061-49f2-8188-bedc50222038"
      },
      "outputs": [
        {
          "output_type": "stream",
          "name": "stdout",
          "text": [
            "Mounted at /content/drive\n"
          ]
        }
      ],
      "source": [
        "drive.mount('/content/drive')"
      ]
    },
    {
      "cell_type": "markdown",
      "source": [
        "## Switch Board\n",
        "The following is a switch board which will allow you to determine whether to use sample dataset or full."
      ],
      "metadata": {
        "id": "9DefqWav7yFC"
      }
    },
    {
      "cell_type": "code",
      "source": [
        "full_or_sample = input(\"[F]ull or [S]ample Dataset? \")\n",
        "try:\n",
        "  if full_or_sample[0].lower() == 'f':\n",
        "      dataset_dir = \"/content/drive/MyDrive/kits23-sample/dataset\"\n",
        "      dataset_folder_path = '/content/drive/MyDrive/kits23-sample/dataset'\n",
        "  elif full_or_sample[0].lower() == 's':\n",
        "      dataset_dir = \"/content/drive/MyDrive/kits23-sample/dataset\"\n",
        "      dataset_folder_path = '/content/drive/MyDrive/kits23-sample/dataset'\n",
        "  else:\n",
        "    raise Exception()\n",
        "except:\n",
        "  print(\"Please use either [F] or [S]\")"
      ],
      "metadata": {
        "colab": {
          "base_uri": "https://localhost:8080/"
        },
        "id": "j-Z_LDsg78uC",
        "outputId": "9a133e5f-2e8c-49ff-852b-7b0d947851be"
      },
      "execution_count": 3,
      "outputs": [
        {
          "name": "stdout",
          "output_type": "stream",
          "text": [
            "[F]ull or [S]ample Dataset? sample\n"
          ]
        }
      ]
    },
    {
      "cell_type": "code",
      "execution_count": null,
      "metadata": {
        "id": "UkTd8peleEil"
      },
      "outputs": [],
      "source": [
        "import os\n",
        "def list_files(startpath):\n",
        "    for root, dirs, files in os.walk(startpath):\n",
        "        level = root.replace(startpath, '').count(os.sep)\n",
        "        indent = ' ' * 4 * (level)\n",
        "        print('{}{}/'.format(indent, os.path.basename(root)))\n",
        "        sub_indent = ' ' * 4 * (level + 1)\n",
        "        for f in files:\n",
        "            print('{}{}'.format(sub_indent, f))\n",
        "\n",
        "list_files(dataset_folder_path)"
      ]
    },
    {
      "cell_type": "code",
      "execution_count": null,
      "metadata": {
        "colab": {
          "base_uri": "https://localhost:8080/"
        },
        "id": "GjSGDN77ZZjl",
        "outputId": "7b5257a4-d654-4b5c-cca2-76d2066fed21"
      },
      "outputs": [
        {
          "name": "stdout",
          "output_type": "stream",
          "text": [
            "Requirement already satisfied: nibabel in /usr/local/lib/python3.10/dist-packages (4.0.2)\n",
            "Requirement already satisfied: numpy>=1.17 in /usr/local/lib/python3.10/dist-packages (from nibabel) (1.23.5)\n",
            "Requirement already satisfied: packaging>=17.0 in /usr/local/lib/python3.10/dist-packages (from nibabel) (23.1)\n",
            "Requirement already satisfied: setuptools in /usr/local/lib/python3.10/dist-packages (from nibabel) (67.7.2)\n"
          ]
        }
      ],
      "source": [
        "#!pip install nibabel"
      ]
    },
    {
      "cell_type": "code",
      "execution_count": 17,
      "metadata": {
        "id": "zFwLPIgUflDT"
      },
      "outputs": [],
      "source": [
        "def get_all_case_dirs(root_path):\n",
        "    \"\"\"Get all case directories under the root path.\"\"\"\n",
        "    paths = [os.path.join(root_path, d) for d in os.listdir(root_path) if os.path.isdir(os.path.join(root_path, d))]\n",
        "    return paths\n",
        "\n",
        "def safe_load_nii_gz_data(case_path, filename):\n",
        "    \"\"\"Load .nii.gz data using nibabel, return None if file doesn't exist.\"\"\"\n",
        "    file_path = os.path.join(case_path, filename)\n",
        "    if os.path.exists(file_path):\n",
        "        nii_data = nib.load(file_path)\n",
        "        return nii_data.get_fdata()\n",
        "    else:\n",
        "        print(f\"File {file_path} not found.\")\n",
        "        return None\n",
        "\n",
        "def visualize_slice(data, slice_index):\n",
        "    \"\"\"Visualize a slice of the 3D data.\"\"\"\n",
        "    plt.imshow(data[data.shape[0] // 2, :, :].T, cmap=\"gray\")\n",
        "    plt.show()\n",
        "\n"
      ]
    },
    {
      "cell_type": "code",
      "execution_count": 18,
      "metadata": {
        "colab": {
          "base_uri": "https://localhost:8080/",
          "height": 487
        },
        "id": "Y1owBRZZfox2",
        "outputId": "fe4f550e-8871-4551-ab61-6bf7b71af838"
      },
      "outputs": [
        {
          "output_type": "display_data",
          "data": {
            "text/plain": [
              "<Figure size 640x480 with 1 Axes>"
            ],
            "image/png": "[encoded data removed]"
          },
          "metadata": {}
        },
        {
          "output_type": "stream",
          "name": "stdout",
          "text": [
            "(611, 512, 512)\n",
            "<class 'numpy.ndarray'>\n",
            "[0. 1. 2.]\n"
          ]
        }
      ],
      "source": [
        "all_case_dirs = get_all_case_dirs(dataset_dir)\n",
        "\n",
        "# Loading segmentations for the first few cases and visualize the first one that works\n",
        "for case_dir in all_case_dirs[:2]:  # only testing first 10 for quick verification\n",
        "    if case_dir.endswith('.ipynb_checkpoints') : continue\n",
        "    segmentation_data = safe_load_nii_gz_data(\"/content/drive/MyDrive/kits23-sample/dataset/case_0\", \"segmentation.nii.gz\")\n",
        "    if segmentation_data is not None:\n",
        "        visualize_slice(segmentation_data, 50)\n",
        "        print(segmentation_data.shape)\n",
        "        print(type(segmentation_data))\n",
        "        print(np.unique(segmentation_data))\n",
        "        break\n"
      ]
    },
    {
      "cell_type": "code",
      "execution_count": 19,
      "metadata": {
        "colab": {
          "base_uri": "https://localhost:8080/",
          "height": 470
        },
        "id": "FF4Nl2NJ2wja",
        "outputId": "af051621-226b-45a7-a98c-cbf5055a7744"
      },
      "outputs": [
        {
          "output_type": "display_data",
          "data": {
            "text/plain": [
              "<Figure size 640x480 with 1 Axes>"
            ],
            "image/png": "[encoded data removed]"
          },
          "metadata": {}
        },
        {
          "output_type": "stream",
          "name": "stdout",
          "text": [
            "(611, 512, 512)\n",
            "<class 'numpy.ndarray'>\n"
          ]
        }
      ],
      "source": [
        "# Loading segmentations for the first few cases and visualize the first one that works\n",
        "for case_dir in all_case_dirs[:10]:  # only testing first 10 for quick verification\n",
        "    if case_dir.endswith('.ipynb_checkpoints') : continue\n",
        "    segmentation_data = safe_load_nii_gz_data(\"/content/drive/MyDrive/kits23-sample/dataset/case_0\", \"imaging.nii.gz\")\n",
        "    if segmentation_data is not None:\n",
        "        visualize_slice(segmentation_data, 60)\n",
        "        print(segmentation_data.shape)\n",
        "        print(type(segmentation_data))\n",
        "        break"
      ]
    },
    {
      "cell_type": "code",
      "execution_count": null,
      "metadata": {
        "colab": {
          "base_uri": "https://localhost:8080/",
          "height": 406
        },
        "id": "-yF8yco5-Agb",
        "outputId": "cb6fe582-b548-4546-dd84-9c09ca1c1e3b"
      },
      "outputs": [
        {
          "output_type": "display_data",
          "data": {
            "text/plain": [
              "<Figure size 640x480 with 1 Axes>"
            ],
            "image/png": "[encoded data removed]"
          },
          "metadata": {}
        }
      ],
      "source": [
        "# Loading segmentations for the first few cases and visualize the first one that works\n",
        "# for case_dir in all_case_dirs[:10]:  # only testing first 10 for quick verification\n",
        "#     if case_dir.endswith('.ipynb_checkpoints') : continue\n",
        "#     segmentation_data = safe_load_nii_gz_data(\"/content/drive/MyDrive/kits23-sample/dataset/case_584/instances\", \"tumor_instance-1_annotation-1.nii.gz\")\n",
        "#     if segmentation_data is not None:\n",
        "#         visualize_slice(segmentation_data, 60)\n",
        "#         break"
      ]
    },
    {
      "cell_type": "markdown",
      "source": [
        "## Explicit Labels of Segmentation Data"
      ],
      "metadata": {
        "id": "xGsbjeDcwlty"
      }
    },
    {
      "cell_type": "code",
      "execution_count": null,
      "metadata": {
        "colab": {
          "base_uri": "https://localhost:8080/"
        },
        "id": "hOUB8GKMYaIC",
        "outputId": "cf031db6-70d1-44a2-becf-c610bd1c8f8e"
      },
      "outputs": [
        {
          "output_type": "stream",
          "name": "stdout",
          "text": [
            "[0 1 2]\n"
          ]
        }
      ],
      "source": [
        "seg_file = nib.load(\"/content/drive/MyDrive/kits23-sample/dataset/case_584/segmentation.nii.gz\").get_fdata()\n",
        "seg_file = seg_file.astype(np.uint8)\n",
        "\n",
        "print(np.unique(seg_file))"
      ]
    },
    {
      "cell_type": "markdown",
      "metadata": {
        "id": "T72Nb1RhhrT0"
      },
      "source": [
        "#Filtering Out Incomplete Data"
      ]
    },
    {
      "cell_type": "markdown",
      "metadata": {
        "id": "WTarGcskhyPS"
      },
      "source": [
        "### Data Preparation"
      ]
    },
    {
      "cell_type": "markdown",
      "metadata": {
        "id": "Aoh9CT8uq80r"
      },
      "source": [
        "Cleaning the dataset by identifying and removing any cases that lack the segmentation.nii.gz file. If a case lacks segmentation.nii.gz, it implies that we don't have a reference segmentation for that particular case, making it unsuitable for training (since we wouldn't have a ground truth to compare the model's output to)."
      ]
    },
    {
      "cell_type": "code",
      "execution_count": 20,
      "metadata": {
        "id": "2rpKAlhOxHbb"
      },
      "outputs": [],
      "source": [
        "# Helper function to determine if a directory contains at least one instance (kidney, tumor, or cyst)\n",
        "def contains_instance(case_dir):\n",
        "    instance_files = os.listdir(case_dir)\n",
        "    for filename in instance_files:\n",
        "        if filename.startswith((\"kidney\", \"tumor\", \"cyst\")):\n",
        "            return True\n",
        "    return False\n"
      ]
    },
    {
      "cell_type": "code",
      "execution_count": 21,
      "metadata": {
        "id": "_F8MMoTZ2weL"
      },
      "outputs": [],
      "source": [
        "# List all cases\n",
        "all_cases = [d for d in os.listdir(dataset_dir) if os.path.isdir(os.path.join(dataset_dir, d))]"
      ]
    },
    {
      "cell_type": "code",
      "execution_count": 22,
      "metadata": {
        "colab": {
          "base_uri": "https://localhost:8080/"
        },
        "id": "tTIJIgt6xPNE",
        "outputId": "e82df731-b7a8-4664-da07-5b9a20438d3d"
      },
      "outputs": [
        {
          "output_type": "stream",
          "name": "stdout",
          "text": [
            "Total cases: 39\n",
            "Valid cases with segmentation and at least one instance: 38\n"
          ]
        }
      ],
      "source": [
        "# Filter cases that have segmentation.nii.gz and at least one instance\n",
        "valid_cases = [\n",
        "    case\n",
        "    for case in all_cases\n",
        "    if os.path.exists(os.path.join(dataset_dir, case, \"segmentation.nii.gz\")) and\n",
        "    os.path.exists(os.path.join(dataset_dir, case, \"imaging.nii.gz\"))\n",
        "]\n",
        "\n",
        "print(f\"Total cases: {len(all_cases)}\")\n",
        "print(f\"Valid cases with segmentation and at least one instance: {len(valid_cases)}\")"
      ]
    },
    {
      "cell_type": "code",
      "execution_count": null,
      "metadata": {
        "colab": {
          "base_uri": "https://localhost:8080/"
        },
        "id": "o8zyXwtXwjsK",
        "outputId": "b459bfac-25fa-4726-af2c-2db256541d38"
      },
      "outputs": [
        {
          "output_type": "stream",
          "name": "stdout",
          "text": [
            "\n",
            "Names of valid cases:\n",
            "case_0\n",
            "case_1\n",
            "case_11\n",
            "case_12\n",
            "case_13\n",
            "case_14\n",
            "case_15\n",
            "case_16\n",
            "case_17\n",
            "case_18\n",
            "case_19\n",
            "case_2\n",
            "case_21\n",
            "case_22\n",
            "case_23\n",
            "case_24\n",
            "case_25\n",
            "case_26\n",
            "case_27\n",
            "case_28\n",
            "case_29\n",
            "case_3\n",
            "case_4\n",
            "case_5\n",
            "case_579\n",
            "case_58\n",
            "case_581\n",
            "case_582\n",
            "case_583\n",
            "case_584\n",
            "case_585\n",
            "case_586\n",
            "case_587\n",
            "case_588\n",
            "case_6\n",
            "case_7\n",
            "case_8\n",
            "case_9\n"
          ]
        }
      ],
      "source": [
        "# Print the names of the valid cases in order\n",
        "print(\"\\nNames of valid cases:\")\n",
        "for case_name in sorted(valid_cases):\n",
        "    print(case_name)\n"
      ]
    },
    {
      "cell_type": "code",
      "execution_count": 23,
      "metadata": {
        "colab": {
          "base_uri": "https://localhost:8080/"
        },
        "id": "k4B4gB1s6PBr",
        "outputId": "0c16991b-7bf2-4a35-ff62-6c7e7a0768e3"
      },
      "outputs": [
        {
          "output_type": "execute_result",
          "data": {
            "text/plain": [
              "{'.ipynb_checkpoints'}"
            ]
          },
          "metadata": {},
          "execution_count": 23
        }
      ],
      "source": [
        "set(all_cases) - set(valid_cases)"
      ]
    },
    {
      "cell_type": "markdown",
      "metadata": {
        "id": "eGdzbYZXr7zg"
      },
      "source": [
        "#Data Preprocessing"
      ]
    },
    {
      "cell_type": "markdown",
      "source": [
        "### Find the average number of Z-axis slices to perform interpolation\n"
      ],
      "metadata": {
        "id": "aVTaXk9jQNrq"
      }
    },
    {
      "cell_type": "code",
      "source": [
        "all_case_dirs = get_all_case_dirs(dataset_dir)\n",
        "volumes = []\n",
        "\n",
        "for i, case_dir in enumerate(all_case_dirs):\n",
        "    if case_dir.endswith('.ipynb_checkpoints') : continue\n",
        "    # elif i == 5 : break\n",
        "    segmentation_data = safe_load_nii_gz_data(case_dir, \"imaging.nii.gz\")\n",
        "    print(case_dir, segmentation_data.shape)\n",
        "    volumes.append(segmentation_data.shape[0])\n",
        "\n",
        "average_slices = int(sum(volumes) / len(volumes))\n",
        "print(\"Average number of slices: \", average_slices)\n"
      ],
      "metadata": {
        "colab": {
          "base_uri": "https://localhost:8080/"
        },
        "id": "ndEv3B85QXkh",
        "outputId": "3f253d15-1ecc-4fa9-b22e-bf13daf0516e"
      },
      "execution_count": 26,
      "outputs": [
        {
          "output_type": "stream",
          "name": "stdout",
          "text": [
            "/content/drive/MyDrive/kits23-sample/dataset/case_4 (64, 512, 512)\n",
            "/content/drive/MyDrive/kits23-sample/dataset/case_5 (834, 512, 512)\n",
            "/content/drive/MyDrive/kits23-sample/dataset/case_6 (157, 512, 512)\n",
            "/content/drive/MyDrive/kits23-sample/dataset/case_588 (248, 512, 512)\n",
            "/content/drive/MyDrive/kits23-sample/dataset/case_7 (61, 512, 512)\n",
            "/content/drive/MyDrive/kits23-sample/dataset/case_8 (227, 512, 512)\n",
            "/content/drive/MyDrive/kits23-sample/dataset/case_9 (77, 512, 512)\n",
            "/content/drive/MyDrive/kits23-sample/dataset/case_1 (50, 512, 512)\n",
            "/content/drive/MyDrive/kits23-sample/dataset/case_11 (80, 512, 512)\n",
            "/content/drive/MyDrive/kits23-sample/dataset/case_12 (89, 512, 512)\n",
            "/content/drive/MyDrive/kits23-sample/dataset/case_13 (92, 512, 512)\n",
            "/content/drive/MyDrive/kits23-sample/dataset/case_14 (439, 512, 512)\n",
            "/content/drive/MyDrive/kits23-sample/dataset/case_15 (75, 512, 512)\n",
            "/content/drive/MyDrive/kits23-sample/dataset/case_16 (178, 512, 512)\n",
            "/content/drive/MyDrive/kits23-sample/dataset/case_17 (97, 512, 512)\n",
            "/content/drive/MyDrive/kits23-sample/dataset/case_18 (121, 512, 512)\n",
            "/content/drive/MyDrive/kits23-sample/dataset/case_19 (129, 512, 512)\n",
            "/content/drive/MyDrive/kits23-sample/dataset/case_2 (96, 512, 512)\n",
            "/content/drive/MyDrive/kits23-sample/dataset/case_21 (38, 512, 512)\n",
            "/content/drive/MyDrive/kits23-sample/dataset/case_22 (541, 512, 512)\n",
            "/content/drive/MyDrive/kits23-sample/dataset/case_23 (107, 512, 512)\n",
            "/content/drive/MyDrive/kits23-sample/dataset/case_24 (85, 512, 512)\n",
            "/content/drive/MyDrive/kits23-sample/dataset/case_25 (103, 512, 512)\n",
            "/content/drive/MyDrive/kits23-sample/dataset/case_26 (302, 512, 512)\n",
            "/content/drive/MyDrive/kits23-sample/dataset/case_27 (723, 512, 512)\n",
            "/content/drive/MyDrive/kits23-sample/dataset/case_28 (98, 512, 512)\n",
            "/content/drive/MyDrive/kits23-sample/dataset/case_29 (131, 512, 512)\n",
            "/content/drive/MyDrive/kits23-sample/dataset/case_3 (38, 512, 512)\n",
            "/content/drive/MyDrive/kits23-sample/dataset/case_579 (190, 512, 512)\n",
            "/content/drive/MyDrive/kits23-sample/dataset/case_58 (202, 512, 512)\n",
            "/content/drive/MyDrive/kits23-sample/dataset/case_581 (55, 512, 512)\n",
            "/content/drive/MyDrive/kits23-sample/dataset/case_582 (163, 512, 512)\n",
            "/content/drive/MyDrive/kits23-sample/dataset/case_583 (256, 512, 512)\n",
            "/content/drive/MyDrive/kits23-sample/dataset/case_584 (100, 512, 512)\n",
            "/content/drive/MyDrive/kits23-sample/dataset/case_585 (178, 512, 512)\n",
            "/content/drive/MyDrive/kits23-sample/dataset/case_586 (153, 512, 512)\n",
            "/content/drive/MyDrive/kits23-sample/dataset/case_587 (48, 512, 512)\n",
            "/content/drive/MyDrive/kits23-sample/dataset/case_0 (611, 512, 512)\n",
            "Average number of slices:  190\n"
          ]
        }
      ]
    },
    {
      "cell_type": "code",
      "source": [
        "volumes = []\n",
        "\n",
        "for i, case_dir in enumerate(all_case_dirs):\n",
        "    if case_dir.endswith('.ipynb_checkpoints') : continue\n",
        "    elif i == 5 : break\n",
        "    segmentation_data = safe_load_nii_gz_data(case_dir, \"segmentation.nii.gz\")\n",
        "    print(i, segmentation_data.shape)\n",
        "    volumes.append(segmentation_data.shape[0])\n",
        "\n",
        "# average_slices = sum(volumes) / len(volumes)\n",
        "print(\"Average number of slices: \", average_slices)"
      ],
      "metadata": {
        "colab": {
          "base_uri": "https://localhost:8080/"
        },
        "id": "aSRj_svwvsEz",
        "outputId": "aef8ed5f-62c1-48a1-b62b-ace65fcb6963"
      },
      "execution_count": 27,
      "outputs": [
        {
          "output_type": "stream",
          "name": "stdout",
          "text": [
            "1 (64, 512, 512)\n",
            "2 (834, 512, 512)\n",
            "3 (157, 512, 512)\n",
            "4 (248, 512, 512)\n",
            "Average number of slices:  190\n"
          ]
        }
      ]
    },
    {
      "cell_type": "markdown",
      "source": [
        "## Interpolation Method\n",
        "Here we use an interpolation method to ensure that the number of CT volumetric slices are equal throughout each case."
      ],
      "metadata": {
        "id": "p0wuVXJQxEVH"
      }
    },
    {
      "cell_type": "code",
      "execution_count": 60,
      "metadata": {
        "id": "I8iAFt2e5EYw"
      },
      "outputs": [],
      "source": [
        "def one_hot_encode(segmentation, num_classes):\n",
        "    \"\"\"\n",
        "    One hot encodes the segmentation mask.\n",
        "    Args:\n",
        "    - segmentation : numpy array, the segmentation mask\n",
        "    - num_classes : int, number of classes\n",
        "    Returns:\n",
        "    - one_hot : numpy array, the one-hot encoded mask\n",
        "    \"\"\"\n",
        "    one_hot = np.zeros((*segmentation.shape, num_classes))\n",
        "    for i in range(num_classes):\n",
        "        one_hot[..., i] = (segmentation == i)\n",
        "    return one_hot\n"
      ]
    },
    {
      "cell_type": "code",
      "execution_count": 62,
      "metadata": {
        "id": "dbujrJaKr-dI"
      },
      "outputs": [],
      "source": [
        "def preprocess_data(image, label, target_num_slices = average_slices, num_classes=4):\n",
        "    \"\"\"\n",
        "    Preprocesses the image and label:\n",
        "    - Normalizes the image to [0, 1] range.\n",
        "    - One-hot encodes the label.\n",
        "\n",
        "    Parameters:\n",
        "    - image: The MRI image.\n",
        "    - label: The corresponding label.\n",
        "\n",
        "    Returns:\n",
        "    - preprocessed_image: normalized image.\n",
        "    - preprocessed_label: noramlized one-hot encoded label.\n",
        "    \"\"\"\n",
        "\n",
        "    current_num_slices = image.shape[0]\n",
        "\n",
        "    if current_num_slices == target_num_slices:\n",
        "        resampled_volume = image\n",
        "\n",
        "    elif current_num_slices < target_num_slices:\n",
        "        # Upsample using cubic interpolation\n",
        "        scale_factor = target_num_slices / current_num_slices\n",
        "        resampled_volume = zoom(image, (scale_factor, 1, 1), order=3)\n",
        "\n",
        "    else:  # current_num_slices > target_num_slices\n",
        "        # Downsample by selecting equidistant slices\n",
        "        step_size = current_num_slices // target_num_slices\n",
        "        selected_slices = [image[:, :, i] for i in range(0, current_num_slices, step_size)][:target_num_slices]\n",
        "        resampled_volume = np.stack(selected_slices, axis=0)\n",
        "\n",
        "    # Normalizing image data to [0, 1]\n",
        "    scaler = MinMaxScaler()\n",
        "    flattened_image = resampled_volume.reshape(-1, resampled_volume.shape[-1])\n",
        "    normalized_image = scaler.fit_transform(flattened_image).reshape(resampled_volume.shape)\n",
        "    visualize_slice(normalized_image, 60)\n",
        "    print(\"NORMALISED IMAGE SHAPE: \", normalized_image.shape)\n",
        "\n",
        "    # One-hot encode the label\n",
        "    one_hot_label = one_hot_encode(normalized_image, num_classes)\n",
        "\n",
        "    return normalized_image, one_hot_label\n"
      ]
    },
    {
      "cell_type": "markdown",
      "metadata": {
        "id": "_Q_sqREwmOmq"
      },
      "source": [
        "#Generator : data is loaded and preprocessed on-the-fly during training"
      ]
    },
    {
      "cell_type": "code",
      "execution_count": 63,
      "metadata": {
        "id": "6d2t_T0WmhY5"
      },
      "outputs": [],
      "source": [
        " #Each batch is consistent and has a shape (batch_size, 128, 128, 64, 1) for images and (batch_size, 128, 128, 64, num_classes) for labels\n",
        "def data_generator(case_list, dataset_dir, batch_size=2, image_shape=(512, 512, average_slices, 1), num_classes=4):\n",
        "    while True:\n",
        "        # Randomly sample batch_size cases\n",
        "        batch_cases = np.random.choice(case_list, size=batch_size)\n",
        "\n",
        "        batch_images = []\n",
        "        batch_labels = []\n",
        "\n",
        "        for case in batch_cases:\n",
        "            instances_dir = os.path.join(dataset_dir, case)\n",
        "\n",
        "            # List all instance files within the directory\n",
        "            all_files = os.listdir(instances_dir)\n",
        "\n",
        "            # Filter out the kidney, cyst, and tumor instances\n",
        "            image_files = [f for f in all_files if f.startswith(\"segmentation\")]\n",
        "\n",
        "            # print(image_files)\n",
        "\n",
        "            if not image_files:\n",
        "                continue  # If there are no instance files, skip this case\n",
        "\n",
        "            # Select a random instance for this case (assuming each case might have different instances)\n",
        "            random_instance = np.random.choice(image_files)\n",
        "\n",
        "            image_path = os.path.join(instances_dir, random_instance)\n",
        "            label_path = os.path.join(dataset_dir, case, 'segmentation.nii.gz')\n",
        "\n",
        "            # Load the image and label\n",
        "            image = nib.load(image_path).get_fdata()\n",
        "            label = nib.load(label_path).get_fdata()\n",
        "\n",
        "            #print(np.unique(label))\n",
        "\n",
        "            # Preprocess (resize and normalize) the image and label\n",
        "            image, label = preprocess_data(image, label)\n",
        "\n",
        "            # One-hot encode the labels\n",
        "            #label = one_hot_encode(label, num_classes=num_classes)\n",
        "\n",
        "            batch_images.append(image)\n",
        "            batch_labels.append(label)\n",
        "\n",
        "        # Ensure batch size consistency\n",
        "        while len(batch_images) < batch_size:\n",
        "            # simply reuse the data from the current batch. This is a basic approach, may change it\n",
        "            batch_images.extend(batch_images[:batch_size - len(batch_images)])\n",
        "            batch_labels.extend(batch_labels[:batch_size - len(batch_labels)])\n",
        "\n",
        "        # Convert lists to numpy arrays and try to reshape them to ensure the consistency\n",
        "        batch_images = np.array(batch_images)\n",
        "        batch_labels = np.array(batch_labels)\n",
        "\n",
        "        # Print the shapes before reshaping\n",
        "        # print(\"Shapes before reshaping:\", batch_images.shape, batch_labels.shape)\n",
        "\n",
        "        try:\n",
        "            batch_images = batch_images.reshape((batch_size, *image_shape))\n",
        "            batch_labels = batch_labels.reshape((batch_size, *image_shape[:-1], num_classes))\n",
        "        except ValueError as e:\n",
        "            print(f\"Error reshaping for batch: {e}\")\n",
        "            print(\"Cases in the problematic batch:\", batch_cases)\n",
        "            continue  # Skip the problematic batch\n",
        "\n",
        "        yield (batch_images, batch_labels)"
      ]
    },
    {
      "cell_type": "markdown",
      "metadata": {
        "id": "VloULHJlsj9W"
      },
      "source": [
        "#Splitting Dataset into Training and Validation"
      ]
    },
    {
      "cell_type": "code",
      "execution_count": 64,
      "metadata": {
        "id": "hwN-ikSVsl93"
      },
      "outputs": [],
      "source": [
        "from sklearn.model_selection import train_test_split\n",
        "train_cases, val_cases = train_test_split(valid_cases, test_size=0.1)  # Split 10% for validation"
      ]
    },
    {
      "cell_type": "code",
      "execution_count": 65,
      "metadata": {
        "colab": {
          "base_uri": "https://localhost:8080/"
        },
        "id": "WoHlMQuO7QRl",
        "outputId": "e334c5ce-b3d7-4bc0-b16a-0cacf03003b3"
      },
      "outputs": [
        {
          "output_type": "stream",
          "name": "stdout",
          "text": [
            "['case_0', 'case_19', 'case_8', 'case_2', 'case_27', 'case_579', 'case_3', 'case_25', 'case_18', 'case_16', 'case_22', 'case_581', 'case_58', 'case_5', 'case_15', 'case_28', 'case_26', 'case_14', 'case_6', 'case_23', 'case_21', 'case_4', 'case_11', 'case_1', 'case_586', 'case_24', 'case_582', 'case_588', 'case_13', 'case_584', 'case_9', 'case_583', 'case_17', 'case_585']\n"
          ]
        }
      ],
      "source": [
        "print(train_cases)"
      ]
    },
    {
      "cell_type": "code",
      "execution_count": 66,
      "metadata": {
        "id": "kowpMMJksrGB"
      },
      "outputs": [],
      "source": [
        "batch_size = 2  #change this value if needed\n",
        "\n",
        "train_gen = data_generator(train_cases, dataset_dir, batch_size=batch_size)\n",
        "val_gen = data_generator(val_cases, dataset_dir, batch_size=batch_size)"
      ]
    },
    {
      "cell_type": "code",
      "execution_count": 67,
      "metadata": {
        "colab": {
          "base_uri": "https://localhost:8080/",
          "height": 905
        },
        "id": "HmTZrGai89AN",
        "outputId": "488c3ff0-c916-49f7-ccff-e056864f4e4e"
      },
      "outputs": [
        {
          "output_type": "display_data",
          "data": {
            "text/plain": [
              "<Figure size 640x480 with 1 Axes>"
            ],
            "image/png": "[encoded data removed]"
          },
          "metadata": {}
        },
        {
          "output_type": "stream",
          "name": "stdout",
          "text": [
            "NORMALISED IMAGE SHAPE:  (190, 512, 512)\n"
          ]
        },
        {
          "output_type": "display_data",
          "data": {
            "text/plain": [
              "<Figure size 640x480 with 1 Axes>"
            ],
            "image/png": "[encoded data removed]"
          },
          "metadata": {}
        },
        {
          "output_type": "stream",
          "name": "stdout",
          "text": [
            "NORMALISED IMAGE SHAPE:  (190, 512, 512)\n",
            "(2, 512, 512, 190, 1) (2, 512, 512, 190, 4)\n"
          ]
        }
      ],
      "source": [
        "x, y = next(train_gen)\n",
        "print(x.shape, y.shape)"
      ]
    },
    {
      "cell_type": "markdown",
      "metadata": {
        "id": "nCkqQeQ6nkl0"
      },
      "source": [
        "#Model"
      ]
    },
    {
      "cell_type": "markdown",
      "metadata": {
        "id": "pgbK3j-5nqGN"
      },
      "source": [
        "###Define the U-Net Model"
      ]
    },
    {
      "cell_type": "code",
      "execution_count": null,
      "metadata": {
        "id": "0Y_quZTqnmpa"
      },
      "outputs": [],
      "source": [
        "from keras.models import Model\n",
        "from keras.layers import Input, Conv3D, MaxPooling3D, concatenate, Conv3DTranspose, BatchNormalization, Dropout, Lambda\n",
        "from keras.optimizers import Adam\n",
        "from keras.metrics import MeanIoU"
      ]
    },
    {
      "cell_type": "code",
      "execution_count": null,
      "metadata": {
        "id": "_hqoNsNHKbkh"
      },
      "outputs": [],
      "source": [
        "kernel_initializer =  'he_uniform'"
      ]
    },
    {
      "cell_type": "code",
      "execution_count": null,
      "metadata": {
        "colab": {
          "base_uri": "https://localhost:8080/"
        },
        "id": "v82FU1jkKMGj",
        "outputId": "77fe82eb-c0b9-4da6-b2f7-b298bc9470b7"
      },
      "outputs": [
        {
          "name": "stdout",
          "output_type": "stream",
          "text": [
            "Model: \"model_2\"\n",
            "__________________________________________________________________________________________________\n",
            " Layer (type)                Output Shape                 Param #   Connected to                  \n",
            "==================================================================================================\n",
            " input_3 (InputLayer)        [(None, 128, 128, 64, 1)]    0         []                            \n",
            "                                                                                                  \n",
            " conv3d_38 (Conv3D)          (None, 128, 128, 64, 16)     448       ['input_3[0][0]']             \n",
            "                                                                                                  \n",
            " dropout_18 (Dropout)        (None, 128, 128, 64, 16)     0         ['conv3d_38[0][0]']           \n",
            "                                                                                                  \n",
            " conv3d_39 (Conv3D)          (None, 128, 128, 64, 16)     6928      ['dropout_18[0][0]']          \n",
            "                                                                                                  \n",
            " max_pooling3d_8 (MaxPoolin  (None, 64, 64, 32, 16)       0         ['conv3d_39[0][0]']           \n",
            " g3D)                                                                                             \n",
            "                                                                                                  \n",
            " conv3d_40 (Conv3D)          (None, 64, 64, 32, 32)       13856     ['max_pooling3d_8[0][0]']     \n",
            "                                                                                                  \n",
            " dropout_19 (Dropout)        (None, 64, 64, 32, 32)       0         ['conv3d_40[0][0]']           \n",
            "                                                                                                  \n",
            " conv3d_41 (Conv3D)          (None, 64, 64, 32, 32)       27680     ['dropout_19[0][0]']          \n",
            "                                                                                                  \n",
            " max_pooling3d_9 (MaxPoolin  (None, 32, 32, 16, 32)       0         ['conv3d_41[0][0]']           \n",
            " g3D)                                                                                             \n",
            "                                                                                                  \n",
            " conv3d_42 (Conv3D)          (None, 32, 32, 16, 64)       55360     ['max_pooling3d_9[0][0]']     \n",
            "                                                                                                  \n",
            " dropout_20 (Dropout)        (None, 32, 32, 16, 64)       0         ['conv3d_42[0][0]']           \n",
            "                                                                                                  \n",
            " conv3d_43 (Conv3D)          (None, 32, 32, 16, 64)       110656    ['dropout_20[0][0]']          \n",
            "                                                                                                  \n",
            " max_pooling3d_10 (MaxPooli  (None, 16, 16, 8, 64)        0         ['conv3d_43[0][0]']           \n",
            " ng3D)                                                                                            \n",
            "                                                                                                  \n",
            " conv3d_44 (Conv3D)          (None, 16, 16, 8, 128)       221312    ['max_pooling3d_10[0][0]']    \n",
            "                                                                                                  \n",
            " dropout_21 (Dropout)        (None, 16, 16, 8, 128)       0         ['conv3d_44[0][0]']           \n",
            "                                                                                                  \n",
            " conv3d_45 (Conv3D)          (None, 16, 16, 8, 128)       442496    ['dropout_21[0][0]']          \n",
            "                                                                                                  \n",
            " max_pooling3d_11 (MaxPooli  (None, 8, 8, 4, 128)         0         ['conv3d_45[0][0]']           \n",
            " ng3D)                                                                                            \n",
            "                                                                                                  \n",
            " conv3d_46 (Conv3D)          (None, 8, 8, 4, 256)         884992    ['max_pooling3d_11[0][0]']    \n",
            "                                                                                                  \n",
            " dropout_22 (Dropout)        (None, 8, 8, 4, 256)         0         ['conv3d_46[0][0]']           \n",
            "                                                                                                  \n",
            " conv3d_47 (Conv3D)          (None, 8, 8, 4, 256)         1769728   ['dropout_22[0][0]']          \n",
            "                                                                                                  \n",
            " conv3d_transpose_8 (Conv3D  (None, 16, 16, 8, 128)       262272    ['conv3d_47[0][0]']           \n",
            " Transpose)                                                                                       \n",
            "                                                                                                  \n",
            " concatenate_8 (Concatenate  (None, 16, 16, 8, 256)       0         ['conv3d_transpose_8[0][0]',  \n",
            " )                                                                   'conv3d_45[0][0]']           \n",
            "                                                                                                  \n",
            " conv3d_48 (Conv3D)          (None, 16, 16, 8, 128)       884864    ['concatenate_8[0][0]']       \n",
            "                                                                                                  \n",
            " dropout_23 (Dropout)        (None, 16, 16, 8, 128)       0         ['conv3d_48[0][0]']           \n",
            "                                                                                                  \n",
            " conv3d_49 (Conv3D)          (None, 16, 16, 8, 128)       442496    ['dropout_23[0][0]']          \n",
            "                                                                                                  \n",
            " conv3d_transpose_9 (Conv3D  (None, 32, 32, 16, 64)       65600     ['conv3d_49[0][0]']           \n",
            " Transpose)                                                                                       \n",
            "                                                                                                  \n",
            " concatenate_9 (Concatenate  (None, 32, 32, 16, 128)      0         ['conv3d_transpose_9[0][0]',  \n",
            " )                                                                   'conv3d_43[0][0]']           \n",
            "                                                                                                  \n",
            " conv3d_50 (Conv3D)          (None, 32, 32, 16, 64)       221248    ['concatenate_9[0][0]']       \n",
            "                                                                                                  \n",
            " dropout_24 (Dropout)        (None, 32, 32, 16, 64)       0         ['conv3d_50[0][0]']           \n",
            "                                                                                                  \n",
            " conv3d_51 (Conv3D)          (None, 32, 32, 16, 64)       110656    ['dropout_24[0][0]']          \n",
            "                                                                                                  \n",
            " conv3d_transpose_10 (Conv3  (None, 64, 64, 32, 32)       16416     ['conv3d_51[0][0]']           \n",
            " DTranspose)                                                                                      \n",
            "                                                                                                  \n",
            " concatenate_10 (Concatenat  (None, 64, 64, 32, 64)       0         ['conv3d_transpose_10[0][0]', \n",
            " e)                                                                  'conv3d_41[0][0]']           \n",
            "                                                                                                  \n",
            " conv3d_52 (Conv3D)          (None, 64, 64, 32, 32)       55328     ['concatenate_10[0][0]']      \n",
            "                                                                                                  \n",
            " dropout_25 (Dropout)        (None, 64, 64, 32, 32)       0         ['conv3d_52[0][0]']           \n",
            "                                                                                                  \n",
            " conv3d_53 (Conv3D)          (None, 64, 64, 32, 32)       27680     ['dropout_25[0][0]']          \n",
            "                                                                                                  \n",
            " conv3d_transpose_11 (Conv3  (None, 128, 128, 64, 16)     4112      ['conv3d_53[0][0]']           \n",
            " DTranspose)                                                                                      \n",
            "                                                                                                  \n",
            " concatenate_11 (Concatenat  (None, 128, 128, 64, 32)     0         ['conv3d_transpose_11[0][0]', \n",
            " e)                                                                  'conv3d_39[0][0]']           \n",
            "                                                                                                  \n",
            " conv3d_54 (Conv3D)          (None, 128, 128, 64, 16)     13840     ['concatenate_11[0][0]']      \n",
            "                                                                                                  \n",
            " dropout_26 (Dropout)        (None, 128, 128, 64, 16)     0         ['conv3d_54[0][0]']           \n",
            "                                                                                                  \n",
            " conv3d_55 (Conv3D)          (None, 128, 128, 64, 16)     6928      ['dropout_26[0][0]']          \n",
            "                                                                                                  \n",
            " conv3d_56 (Conv3D)          (None, 128, 128, 64, 4)      68        ['conv3d_55[0][0]']           \n",
            "                                                                                                  \n",
            "==================================================================================================\n",
            "Total params: 5644964 (21.53 MB)\n",
            "Trainable params: 5644964 (21.53 MB)\n",
            "Non-trainable params: 0 (0.00 Byte)\n",
            "__________________________________________________________________________________________________\n",
            "(None, 128, 128, 64, 1)\n",
            "(None, 128, 128, 64, 4)\n"
          ]
        }
      ],
      "source": [
        "#https://github.com/bnsreenu/python_for_microscopists/blob/master/231_234_BraTa2020_Unet_segmentation/simple_3d_unet.py\n",
        "\n",
        "def simple_unet_model(IMG_HEIGHT, IMG_WIDTH, IMG_DEPTH, IMG_CHANNELS, num_classes):\n",
        "\n",
        "    #Build the model\n",
        "    inputs = Input((IMG_HEIGHT, IMG_WIDTH, IMG_DEPTH, IMG_CHANNELS))\n",
        "    #s = Lambda(lambda x: x / 255)(inputs)   #No need for this if we normalize our inputs beforehand\n",
        "    s = inputs\n",
        "\n",
        "    #Contraction path\n",
        "    c1 = Conv3D(16, (3, 3, 3), activation='relu', kernel_initializer=kernel_initializer, padding='same')(s)\n",
        "    c1 = Dropout(0.1)(c1)\n",
        "    c1 = Conv3D(16, (3, 3, 3), activation='relu', kernel_initializer=kernel_initializer, padding='same')(c1)\n",
        "    p1 = MaxPooling3D((2, 2, 2))(c1)\n",
        "\n",
        "    c2 = Conv3D(32, (3, 3, 3), activation='relu', kernel_initializer=kernel_initializer, padding='same')(p1)\n",
        "    c2 = Dropout(0.1)(c2)\n",
        "    c2 = Conv3D(32, (3, 3, 3), activation='relu', kernel_initializer=kernel_initializer, padding='same')(c2)\n",
        "    p2 = MaxPooling3D((2, 2, 2))(c2)\n",
        "\n",
        "    c3 = Conv3D(64, (3, 3, 3), activation='relu', kernel_initializer=kernel_initializer, padding='same')(p2)\n",
        "    c3 = Dropout(0.2)(c3)\n",
        "    c3 = Conv3D(64, (3, 3, 3), activation='relu', kernel_initializer=kernel_initializer, padding='same')(c3)\n",
        "    p3 = MaxPooling3D((2, 2, 2))(c3)\n",
        "\n",
        "    c4 = Conv3D(128, (3, 3, 3), activation='relu', kernel_initializer=kernel_initializer, padding='same')(p3)\n",
        "    c4 = Dropout(0.2)(c4)\n",
        "    c4 = Conv3D(128, (3, 3, 3), activation='relu', kernel_initializer=kernel_initializer, padding='same')(c4)\n",
        "    p4 = MaxPooling3D(pool_size=(2, 2, 2))(c4)\n",
        "\n",
        "    c5 = Conv3D(256, (3, 3, 3), activation='relu', kernel_initializer=kernel_initializer, padding='same')(p4)\n",
        "    c5 = Dropout(0.3)(c5)\n",
        "    c5 = Conv3D(256, (3, 3, 3), activation='relu', kernel_initializer=kernel_initializer, padding='same')(c5)\n",
        "\n",
        "    #Expansive path\n",
        "    u6 = Conv3DTranspose(128, (2, 2, 2), strides=(2, 2, 2), padding='same')(c5)\n",
        "    u6 = concatenate([u6, c4])\n",
        "    c6 = Conv3D(128, (3, 3, 3), activation='relu', kernel_initializer=kernel_initializer, padding='same')(u6)\n",
        "    c6 = Dropout(0.2)(c6)\n",
        "    c6 = Conv3D(128, (3, 3, 3), activation='relu', kernel_initializer=kernel_initializer, padding='same')(c6)\n",
        "\n",
        "    u7 = Conv3DTranspose(64, (2, 2, 2), strides=(2, 2, 2), padding='same')(c6)\n",
        "    u7 = concatenate([u7, c3])\n",
        "    c7 = Conv3D(64, (3, 3, 3), activation='relu', kernel_initializer=kernel_initializer, padding='same')(u7)\n",
        "    c7 = Dropout(0.2)(c7)\n",
        "    c7 = Conv3D(64, (3, 3, 3), activation='relu', kernel_initializer=kernel_initializer, padding='same')(c7)\n",
        "\n",
        "    u8 = Conv3DTranspose(32, (2, 2, 2), strides=(2, 2, 2), padding='same')(c7)\n",
        "    u8 = concatenate([u8, c2])\n",
        "    c8 = Conv3D(32, (3, 3, 3), activation='relu', kernel_initializer=kernel_initializer, padding='same')(u8)\n",
        "    c8 = Dropout(0.1)(c8)\n",
        "    c8 = Conv3D(32, (3, 3, 3), activation='relu', kernel_initializer=kernel_initializer, padding='same')(c8)\n",
        "\n",
        "    u9 = Conv3DTranspose(16, (2, 2, 2), strides=(2, 2, 2), padding='same')(c8)\n",
        "    u9 = concatenate([u9, c1])\n",
        "    c9 = Conv3D(16, (3, 3, 3), activation='relu', kernel_initializer=kernel_initializer, padding='same')(u9)\n",
        "    c9 = Dropout(0.1)(c9)\n",
        "    c9 = Conv3D(16, (3, 3, 3), activation='relu', kernel_initializer=kernel_initializer, padding='same')(c9)\n",
        "\n",
        "    outputs = Conv3D(num_classes, (1, 1, 1), activation='softmax')(c9)\n",
        "\n",
        "    model = Model(inputs=[inputs], outputs=[outputs])\n",
        "    #compile model outside of this function to make it flexible.\n",
        "    #model.summary()\n",
        "\n",
        "    return model\n",
        "\n",
        "#Test if everything is working ok.\n",
        "baseline_model = simple_unet_model(128, 128, 64, 1, 4)\n",
        "print(baseline_model.input_shape)\n",
        "print(baseline_model.output_shape)"
      ]
    },
    {
      "cell_type": "markdown",
      "metadata": {
        "id": "4xIbfAN6o8RU"
      },
      "source": [
        "##Define Losses, Metrics and Optimisers"
      ]
    },
    {
      "cell_type": "code",
      "execution_count": null,
      "metadata": {
        "id": "1tHkJBZg2KXM"
      },
      "outputs": [],
      "source": [
        "# https://stackoverflow.com/questions/66023106/how-to-create-hybrid-loss-consisting-from-dice-loss-and-focal-loss-python\n",
        "\n",
        "def dice_coef(y_true, y_pred, smooth=1e-16):\n",
        "    y_true_f = tf.nest.flatten(y_true)\n",
        "    y_pred_f = tf.nest.flatten(y_pred)\n",
        "    intersection = tf.math.reduce_sum(tf.math.multiply(y_true_f, y_pred_f))\n",
        "    return (2. * intersection + smooth) / (tf.math.reduce_sum(y_true_f) + tf.math.reduce_sum(y_pred_f) + smooth)\n",
        "\n",
        "def dice_coef_multilabel(y_true, y_pred, numLabels=4):\n",
        "    dice=0\n",
        "    for index in range(numLabels):\n",
        "        dice -= dice_coef(y_true[..., index], y_pred[..., index])\n",
        "    return numLabels + dice"
      ]
    },
    {
      "cell_type": "code",
      "execution_count": null,
      "metadata": {
        "id": "0XeS-dUtUwAf"
      },
      "outputs": [],
      "source": [
        "# It would be ideal to use IOUScore as another metric\n",
        "metrics = ['accuracy', keras.metrics.MeanIoU(4)]"
      ]
    },
    {
      "cell_type": "code",
      "execution_count": null,
      "metadata": {
        "id": "CI7vOO2F0tnC"
      },
      "outputs": [],
      "source": [
        "STEPS_PER_EPOCH = len(train_cases) // batch_size\n",
        "lr = 0.0001\n",
        "\n",
        "lr_schedule = tf.keras.optimizers.schedules.InverseTimeDecay(\n",
        "  lr,\n",
        "  decay_steps=STEPS_PER_EPOCH*1000,\n",
        "  decay_rate=10,\n",
        "  staircase=False)\n",
        "\n",
        "optimizer_Adam = Adam(learning_rate=lr_schedule)"
      ]
    },
    {
      "cell_type": "markdown",
      "metadata": {
        "id": "0c1zY6Qps-Fd"
      },
      "source": [
        "#Train Model"
      ]
    },
    {
      "cell_type": "markdown",
      "metadata": {
        "id": "4sj-dlIn77Eo"
      },
      "source": [
        "## Set Up Callbacks"
      ]
    },
    {
      "cell_type": "code",
      "execution_count": null,
      "metadata": {
        "id": "HDbqTt5Q7-Q5"
      },
      "outputs": [],
      "source": [
        "def create_model_cp_dir(model_name):\n",
        "  if full_or_sample[0].lower() : parent_directory = \"/content/drive/MyDrive/kits23-sample/CheckPointing\"\n",
        "  elif full_or_sample[0].lower() : parent_directory = \"/content/drive/MyDrive/kits23/CheckPointing\"\n",
        "  leaf_directory = parent_directory + model_name + \"/\"\n",
        "  full_directory = leaf_directory + model_name + \".{epoch:04d}-{val_loss:.4f}.ckpt\"\n",
        "  if not os.path.exists(leaf_directory):\n",
        "    os.mkdir(leaf_directory)\n",
        "  return full_directory\n",
        "\n",
        "def create_saved_model_dir(model_name):\n",
        "  if full_or_sample[0].lower() : parent_directory = \"/content/drive/MyDrive/kits23-sample/SavedModels\"\n",
        "  elif full_or_sample[0].lower() : parent_directory = \"/content/drive/MyDrive/kits23/SavedModels\"\n",
        "  leaf_directory = parent_directory + model_name + \"/\"\n",
        "  full_directory = leaf_directory + model_name + \".h5\"\n",
        "  if not os.path.exists(leaf_directory):\n",
        "    os.mkdir(leaf_directory)\n",
        "  return full_directory\n",
        "\n",
        "def get_callbacks(model_name):\n",
        "  return [\n",
        "    # tf.keras.callbacks.TensorBoard(logdir/str(model_name), histogram_freq=1),\n",
        "    tf.keras.callbacks.ModelCheckpoint(create_model_cp_dir(model_name),\n",
        "                                                 save_weights_only=True,\n",
        "                                                 verbose=1,\n",
        "                                                 monitor = 'val_loss',\n",
        "                                                 mode = 'min',\n",
        "                                                 save_best_only = True),\n",
        "    tf.keras.callbacks.EarlyStopping(monitor='val_loss', patience=5)\n",
        "  ]"
      ]
    },
    {
      "cell_type": "code",
      "execution_count": null,
      "metadata": {
        "id": "SXI251C7tAoW"
      },
      "outputs": [],
      "source": [
        "# Number of steps per epoch should be the number of batches of data  per epoch\n",
        "steps_per_epoch = len(train_cases) // batch_size\n",
        "validation_steps = len(val_cases) // batch_size  # similar calculation for validation data"
      ]
    },
    {
      "cell_type": "markdown",
      "metadata": {
        "id": "4yr2e0RNVqUl"
      },
      "source": [
        "## Compile Model"
      ]
    },
    {
      "cell_type": "code",
      "execution_count": null,
      "metadata": {
        "id": "hh079eSVVtgd"
      },
      "outputs": [],
      "source": [
        "# We should include callbacks e.g. Early Stopping\n",
        "baseline_model.compile(optimizer = optimizer_Adam,\n",
        "              loss=dice_coef_multilabel,\n",
        "              metrics=metrics,\n",
        "              callbacks = [get_callbacks(\"baseline_sample_model\")])"
      ]
    },
    {
      "cell_type": "markdown",
      "metadata": {
        "id": "xiHJUjdazH1-"
      },
      "source": [
        "This cell will take about 20 -30 mins to run.\n"
      ]
    },
    {
      "cell_type": "code",
      "execution_count": null,
      "metadata": {
        "colab": {
          "background_save": true,
          "base_uri": "https://localhost:8080/"
        },
        "id": "fzUPpWjktKKQ",
        "outputId": "265e9cba-0a5b-4d6a-bcb0-a37055c27f10"
      },
      "outputs": [
        {
          "name": "stdout",
          "output_type": "stream",
          "text": [
            "Epoch 1/10\n",
            "220/220 - 1747s - loss: 3.0532 - accuracy: 0.8868 - mean_io_u_2: 0.8951 - val_loss: 2.4218 - val_accuracy: 0.9898 - val_mean_io_u_2: 0.9865 - 1747s/epoch - 8s/step\n",
            "Epoch 2/10\n",
            "220/220 - 1535s - loss: 2.9413 - accuracy: 0.9902 - mean_io_u_2: 0.9871 - val_loss: 2.6291 - val_accuracy: 0.9918 - val_mean_io_u_2: 0.9891 - 1535s/epoch - 7s/step\n",
            "Epoch 3/10\n",
            "220/220 - 1654s - loss: 2.8549 - accuracy: 0.9902 - mean_io_u_2: 0.9870 - val_loss: 2.3823 - val_accuracy: 0.9856 - val_mean_io_u_2: 0.9810 - 1654s/epoch - 8s/step\n",
            "Epoch 4/10\n",
            "220/220 - 1553s - loss: 2.8285 - accuracy: 0.9896 - mean_io_u_2: 0.9863 - val_loss: 2.5055 - val_accuracy: 0.9890 - val_mean_io_u_2: 0.9855 - 1553s/epoch - 7s/step\n",
            "Epoch 5/10\n"
          ]
        }
      ],
      "source": [
        "baseline_history=baseline_model.fit(train_gen,\n",
        "          steps_per_epoch=steps_per_epoch,\n",
        "          epochs=10,\n",
        "          verbose=2,\n",
        "          validation_data=val_gen,\n",
        "          validation_steps=validation_steps,\n",
        "          )"
      ]
    },
    {
      "cell_type": "markdown",
      "metadata": {
        "id": "V_zXD-YHZiV6"
      },
      "source": [
        "# Plot Metrics"
      ]
    },
    {
      "cell_type": "code",
      "execution_count": null,
      "metadata": {
        "colab": {
          "base_uri": "https://localhost:8080/",
          "height": 251
        },
        "id": "Z-_gE3xtZmYC",
        "outputId": "4b0a7b4e-7e69-4311-e9fa-e5c7818d090d"
      },
      "outputs": [
        {
          "output_type": "error",
          "ename": "NameError",
          "evalue": "ignored",
          "traceback": [
            "\u001b[0;31m---------------------------------------------------------------------------\u001b[0m",
            "\u001b[0;31mNameError\u001b[0m                                 Traceback (most recent call last)",
            "\u001b[0;32m<ipython-input-1-6651a11eed31>\u001b[0m in \u001b[0;36m<cell line: 1>\u001b[0;34m()\u001b[0m\n\u001b[0;32m----> 1\u001b[0;31m \u001b[0mloss\u001b[0m \u001b[0;34m=\u001b[0m \u001b[0mhistory\u001b[0m\u001b[0;34m.\u001b[0m\u001b[0mhistory\u001b[0m\u001b[0;34m[\u001b[0m\u001b[0;34m'loss'\u001b[0m\u001b[0;34m]\u001b[0m\u001b[0;34m\u001b[0m\u001b[0;34m\u001b[0m\u001b[0m\n\u001b[0m\u001b[1;32m      2\u001b[0m \u001b[0mval_loss\u001b[0m \u001b[0;34m=\u001b[0m \u001b[0mhistory\u001b[0m\u001b[0;34m.\u001b[0m\u001b[0mhistory\u001b[0m\u001b[0;34m[\u001b[0m\u001b[0;34m'val_loss'\u001b[0m\u001b[0;34m]\u001b[0m\u001b[0;34m\u001b[0m\u001b[0;34m\u001b[0m\u001b[0m\n\u001b[1;32m      3\u001b[0m \u001b[0mepochs\u001b[0m \u001b[0;34m=\u001b[0m \u001b[0mrange\u001b[0m\u001b[0;34m(\u001b[0m\u001b[0;36m1\u001b[0m\u001b[0;34m,\u001b[0m \u001b[0mlen\u001b[0m\u001b[0;34m(\u001b[0m\u001b[0mloss\u001b[0m\u001b[0;34m)\u001b[0m \u001b[0;34m+\u001b[0m \u001b[0;36m1\u001b[0m\u001b[0;34m)\u001b[0m\u001b[0;34m\u001b[0m\u001b[0;34m\u001b[0m\u001b[0m\n\u001b[1;32m      4\u001b[0m \u001b[0mplt\u001b[0m\u001b[0;34m.\u001b[0m\u001b[0mplot\u001b[0m\u001b[0;34m(\u001b[0m\u001b[0mepochs\u001b[0m\u001b[0;34m,\u001b[0m \u001b[0mloss\u001b[0m\u001b[0;34m,\u001b[0m \u001b[0;34m'y'\u001b[0m\u001b[0;34m,\u001b[0m \u001b[0mlabel\u001b[0m\u001b[0;34m=\u001b[0m\u001b[0;34m'Training loss'\u001b[0m\u001b[0;34m)\u001b[0m\u001b[0;34m\u001b[0m\u001b[0;34m\u001b[0m\u001b[0m\n\u001b[1;32m      5\u001b[0m \u001b[0mplt\u001b[0m\u001b[0;34m.\u001b[0m\u001b[0mplot\u001b[0m\u001b[0;34m(\u001b[0m\u001b[0mepochs\u001b[0m\u001b[0;34m,\u001b[0m \u001b[0mval_loss\u001b[0m\u001b[0;34m,\u001b[0m \u001b[0;34m'r'\u001b[0m\u001b[0;34m,\u001b[0m \u001b[0mlabel\u001b[0m\u001b[0;34m=\u001b[0m\u001b[0;34m'Validation loss'\u001b[0m\u001b[0;34m)\u001b[0m\u001b[0;34m\u001b[0m\u001b[0;34m\u001b[0m\u001b[0m\n",
            "\u001b[0;31mNameError\u001b[0m: name 'history' is not defined"
          ]
        }
      ],
      "source": [
        "loss = baseline_history.history['loss']\n",
        "val_loss = baseline_history.history['val_loss']\n",
        "epochs = range(1, len(loss) + 1)\n",
        "plt.plot(epochs, loss, 'y', label='Training loss')\n",
        "plt.plot(epochs, val_loss, 'r', label='Validation loss')\n",
        "plt.title('Training and validation loss')\n",
        "plt.xlabel('Epochs')\n",
        "plt.ylabel('Loss')\n",
        "plt.legend()\n",
        "plt.show()\n",
        "\n",
        "acc = baseline_history.history['accuracy']\n",
        "val_acc = baseline_history.history['val_accuracy']\n",
        "\n",
        "plt.plot(epochs, acc, 'y', label='Training accuracy')\n",
        "plt.plot(epochs, val_acc, 'r', label='Validation accuracy')\n",
        "plt.title('Training and validation accuracy')\n",
        "plt.xlabel('Epochs')\n",
        "plt.ylabel('Accuracy')\n",
        "plt.legend()\n",
        "plt.show()\n",
        "\n"
      ]
    },
    {
      "cell_type": "code",
      "execution_count": null,
      "metadata": {
        "id": "ooDOKno0zhFn"
      },
      "outputs": [],
      "source": []
    }
  ],
  "metadata": {
    "accelerator": "GPU",
    "colab": {
      "machine_shape": "hm",
      "provenance": []
    },
    "kernelspec": {
      "display_name": "Python 3",
      "name": "python3"
    },
    "language_info": {
      "name": "python"
    }
  },
  "nbformat": 4,
  "nbformat_minor": 0
}