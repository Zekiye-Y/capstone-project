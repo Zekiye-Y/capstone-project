{
  "nbformat": 4,
  "nbformat_minor": 0,
  "metadata": {
    "colab": {
      "provenance": [],
      "machine_shape": "hm",
      "gpuType": "T4"
    },
    "kernelspec": {
      "name": "python3",
      "display_name": "Python 3"
    },
    "language_info": {
      "name": "python"
    },
    "accelerator": "GPU"
  },
  "cells": [
    {
      "cell_type": "code",
      "source": [
        "import os\n",
        "os.environ[\"KERAS_BACKEND\"] = \"tensorflow\"\n",
        "import numpy as np\n",
        "import nibabel as nib\n",
        "import matplotlib.pyplot as plt\n",
        "from google.colab import drive\n",
        "import keras\n",
        "import tensorflow as tf\n",
        "from scipy.ndimage import zoom"
      ],
      "metadata": {
        "id": "089nLKbwffad"
      },
      "execution_count": 1,
      "outputs": []
    },
    {
      "cell_type": "code",
      "source": [
        "tf.__version__"
      ],
      "metadata": {
        "colab": {
          "base_uri": "https://localhost:8080/",
          "height": 35
        },
        "id": "L-gIbTkEPRa1",
        "outputId": "ac5d7e34-f50e-4c00-d800-1daf41ecf096"
      },
      "execution_count": 43,
      "outputs": [
        {
          "output_type": "execute_result",
          "data": {
            "text/plain": [
              "'2.13.0'"
            ],
            "application/vnd.google.colaboratory.intrinsic+json": {
              "type": "string"
            }
          },
          "metadata": {},
          "execution_count": 43
        }
      ]
    },
    {
      "cell_type": "code",
      "source": [
        "keras.__version__"
      ],
      "metadata": {
        "colab": {
          "base_uri": "https://localhost:8080/",
          "height": 35
        },
        "id": "RzgyT4-yT6U4",
        "outputId": "38ce7e37-5438-4630-9a24-06f884c58d3e"
      },
      "execution_count": 15,
      "outputs": [
        {
          "output_type": "execute_result",
          "data": {
            "text/plain": [
              "'2.13.1'"
            ],
            "application/vnd.google.colaboratory.intrinsic+json": {
              "type": "string"
            }
          },
          "metadata": {},
          "execution_count": 15
        }
      ]
    },
    {
      "cell_type": "code",
      "execution_count": 2,
      "metadata": {
        "id": "7wM9fXAED0KL",
        "colab": {
          "base_uri": "https://localhost:8080/"
        },
        "outputId": "785424dd-05c5-4288-856d-dce736da849b"
      },
      "outputs": [
        {
          "output_type": "stream",
          "name": "stdout",
          "text": [
            "Mounted at /content/drive\n"
          ]
        }
      ],
      "source": [
        "drive.mount('/content/drive')"
      ]
    },
    {
      "cell_type": "code",
      "source": [
        "dataset_dir = \"/content/drive/MyDrive/kits23-sample/dataset\"\n",
        "dataset_folder_path = '/content/drive/MyDrive/kits23-sample/dataset'"
      ],
      "metadata": {
        "id": "znH7W5eIE9aH"
      },
      "execution_count": 3,
      "outputs": []
    },
    {
      "cell_type": "code",
      "source": [
        "import os\n",
        "def list_files(startpath):\n",
        "    for root, dirs, files in os.walk(startpath):\n",
        "        level = root.replace(startpath, '').count(os.sep)\n",
        "        indent = ' ' * 4 * (level)\n",
        "        print('{}{}/'.format(indent, os.path.basename(root)))\n",
        "        sub_indent = ' ' * 4 * (level + 1)\n",
        "        for f in files:\n",
        "            print('{}{}'.format(sub_indent, f))\n",
        "\n",
        "list_files(dataset_folder_path)"
      ],
      "metadata": {
        "id": "UkTd8peleEil",
        "colab": {
          "base_uri": "https://localhost:8080/"
        },
        "outputId": "fedcc7cb-735b-4059-a1a1-e8e08ece97c7"
      },
      "execution_count": 4,
      "outputs": [
        {
          "output_type": "stream",
          "name": "stdout",
          "text": [
            "    case_7/\n",
            "        imaging.nii.gz\n",
            "        segmentation.nii.gz\n",
            "        instances/\n",
            "            kidney_instance-2_annotation-1.nii.gz\n",
            "            kidney_instance-1_annotation-1.nii.gz\n",
            "            tumor_instance-1_annotation-3.nii.gz\n",
            "            tumor_instance-1_annotation-2.nii.gz\n",
            "            kidney_instance-2_annotation-3.nii.gz\n",
            "            tumor_instance-1_annotation-1.nii.gz\n",
            "            kidney_instance-2_annotation-2.nii.gz\n",
            "            kidney_instance-1_annotation-3.nii.gz\n",
            "            kidney_instance-1_annotation-2.nii.gz\n",
            "    case_8/\n",
            "        imaging.nii.gz\n",
            "        segmentation.nii.gz\n",
            "        instances/\n",
            "            cyst_instance-8_annotation-2.nii.gz\n",
            "            cyst_instance-1_annotation-2.nii.gz\n",
            "            cyst_instance-8_annotation-1.nii.gz\n",
            "            cyst_instance-2_annotation-2.nii.gz\n",
            "            kidney_instance-2_annotation-1.nii.gz\n",
            "            kidney_instance-1_annotation-1.nii.gz\n",
            "            cyst_instance-4_annotation-2.nii.gz\n",
            "            tumor_instance-1_annotation-3.nii.gz\n",
            "            cyst_instance-4_annotation-1.nii.gz\n",
            "            cyst_instance-6_annotation-2.nii.gz\n",
            "            cyst_instance-2_annotation-1.nii.gz\n",
            "            cyst_instance-5_annotation-2.nii.gz\n",
            "            cyst_instance-8_annotation-3.nii.gz\n",
            "            kidney_instance-1_annotation-3.nii.gz\n",
            "            cyst_instance-3_annotation-1.nii.gz\n",
            "            tumor_instance-1_annotation-2.nii.gz\n",
            "            cyst_instance-6_annotation-1.nii.gz\n",
            "            kidney_instance-2_annotation-2.nii.gz\n",
            "            cyst_instance-4_annotation-3.nii.gz\n",
            "            cyst_instance-5_annotation-3.nii.gz\n",
            "            cyst_instance-3_annotation-3.nii.gz\n",
            "            cyst_instance-5_annotation-1.nii.gz\n",
            "            kidney_instance-1_annotation-2.nii.gz\n",
            "            cyst_instance-7_annotation-1.nii.gz\n",
            "            cyst_instance-3_annotation-2.nii.gz\n",
            "            cyst_instance-1_annotation-1.nii.gz\n",
            "            kidney_instance-2_annotation-3.nii.gz\n",
            "            cyst_instance-2_annotation-3.nii.gz\n",
            "            cyst_instance-6_annotation-3.nii.gz\n",
            "            cyst_instance-7_annotation-3.nii.gz\n",
            "            tumor_instance-1_annotation-1.nii.gz\n",
            "            cyst_instance-7_annotation-2.nii.gz\n",
            "            cyst_instance-1_annotation-3.nii.gz\n",
            "    case_9/\n",
            "        imaging.nii.gz\n",
            "        segmentation.nii.gz\n",
            "        instances/\n",
            "            kidney_instance-2_annotation-3.nii.gz\n",
            "            kidney_instance-1_annotation-2.nii.gz\n",
            "            tumor_instance-1_annotation-2.nii.gz\n",
            "            tumor_instance-1_annotation-1.nii.gz\n",
            "            kidney_instance-1_annotation-1.nii.gz\n",
            "            kidney_instance-1_annotation-3.nii.gz\n",
            "            kidney_instance-2_annotation-1.nii.gz\n",
            "            kidney_instance-2_annotation-2.nii.gz\n",
            "            tumor_instance-1_annotation-3.nii.gz\n",
            "    case_1/\n",
            "        imaging.nii.gz\n",
            "        segmentation.nii.gz\n",
            "        instances/\n",
            "            kidney_instance-1_annotation-2.nii.gz\n",
            "            tumor_instance-1_annotation-3.nii.gz\n",
            "            kidney_instance-1_annotation-1.nii.gz\n",
            "            tumor_instance-1_annotation-2.nii.gz\n",
            "            tumor_instance-1_annotation-1.nii.gz\n",
            "            kidney_instance-2_annotation-3.nii.gz\n",
            "            kidney_instance-1_annotation-3.nii.gz\n",
            "            kidney_instance-2_annotation-2.nii.gz\n",
            "            kidney_instance-2_annotation-1.nii.gz\n",
            "    case_11/\n",
            "        imaging.nii.gz\n",
            "        segmentation.nii.gz\n",
            "        instances/\n",
            "            kidney_instance-2_annotation-2.nii.gz\n",
            "            tumor_instance-1_annotation-1.nii.gz\n",
            "            kidney_instance-1_annotation-1.nii.gz\n",
            "            kidney_instance-2_annotation-3.nii.gz\n",
            "            kidney_instance-2_annotation-1.nii.gz\n",
            "            kidney_instance-1_annotation-2.nii.gz\n",
            "            tumor_instance-1_annotation-3.nii.gz\n",
            "            tumor_instance-1_annotation-2.nii.gz\n",
            "            kidney_instance-1_annotation-3.nii.gz\n",
            "    case_12/\n",
            "        imaging.nii.gz\n",
            "        segmentation.nii.gz\n",
            "        instances/\n",
            "            kidney_instance-2_annotation-1.nii.gz\n",
            "            kidney_instance-1_annotation-1.nii.gz\n",
            "            tumor_instance-1_annotation-3.nii.gz\n",
            "            tumor_instance-1_annotation-1.nii.gz\n",
            "            kidney_instance-1_annotation-2.nii.gz\n",
            "            kidney_instance-1_annotation-3.nii.gz\n",
            "            tumor_instance-1_annotation-2.nii.gz\n",
            "            kidney_instance-2_annotation-2.nii.gz\n",
            "            kidney_instance-2_annotation-3.nii.gz\n",
            "    case_13/\n",
            "        imaging.nii.gz\n",
            "        segmentation.nii.gz\n",
            "        instances/\n",
            "            kidney_instance-1_annotation-1.nii.gz\n",
            "            kidney_instance-2_annotation-2.nii.gz\n",
            "            tumor_instance-1_annotation-3.nii.gz\n",
            "            tumor_instance-1_annotation-1.nii.gz\n",
            "            tumor_instance-1_annotation-2.nii.gz\n",
            "            kidney_instance-2_annotation-3.nii.gz\n",
            "            kidney_instance-2_annotation-1.nii.gz\n",
            "            kidney_instance-1_annotation-3.nii.gz\n",
            "            kidney_instance-1_annotation-2.nii.gz\n",
            "    case_14/\n",
            "        imaging.nii.gz\n",
            "        segmentation.nii.gz\n",
            "        instances/\n",
            "            tumor_instance-1_annotation-3.nii.gz\n",
            "            kidney_instance-2_annotation-1.nii.gz\n",
            "            kidney_instance-1_annotation-1.nii.gz\n",
            "            kidney_instance-2_annotation-2.nii.gz\n",
            "            kidney_instance-1_annotation-3.nii.gz\n",
            "            kidney_instance-2_annotation-3.nii.gz\n",
            "            tumor_instance-1_annotation-1.nii.gz\n",
            "            tumor_instance-1_annotation-2.nii.gz\n",
            "            kidney_instance-1_annotation-2.nii.gz\n",
            "    case_15/\n",
            "        imaging.nii.gz\n",
            "        segmentation.nii.gz\n",
            "        instances/\n",
            "            cyst_instance-2_annotation-3.nii.gz\n",
            "            cyst_instance-2_annotation-2.nii.gz\n",
            "            cyst_instance-1_annotation-3.nii.gz\n",
            "            cyst_instance-1_annotation-1.nii.gz\n",
            "            kidney_instance-1_annotation-1.nii.gz\n",
            "            kidney_instance-1_annotation-2.nii.gz\n",
            "            tumor_instance-1_annotation-2.nii.gz\n",
            "            cyst_instance-2_annotation-1.nii.gz\n",
            "            kidney_instance-2_annotation-2.nii.gz\n",
            "            tumor_instance-1_annotation-3.nii.gz\n",
            "            kidney_instance-1_annotation-3.nii.gz\n",
            "            kidney_instance-2_annotation-3.nii.gz\n",
            "            cyst_instance-1_annotation-2.nii.gz\n",
            "            kidney_instance-2_annotation-1.nii.gz\n",
            "            tumor_instance-1_annotation-1.nii.gz\n",
            "    case_16/\n",
            "        imaging.nii.gz\n",
            "        segmentation.nii.gz\n",
            "        instances/\n",
            "            kidney_instance-1_annotation-3.nii.gz\n",
            "            kidney_instance-1_annotation-2.nii.gz\n",
            "            tumor_instance-1_annotation-2.nii.gz\n",
            "            kidney_instance-2_annotation-2.nii.gz\n",
            "            tumor_instance-1_annotation-3.nii.gz\n",
            "            kidney_instance-2_annotation-1.nii.gz\n",
            "            tumor_instance-1_annotation-1.nii.gz\n",
            "            kidney_instance-2_annotation-3.nii.gz\n",
            "            kidney_instance-1_annotation-1.nii.gz\n",
            "    case_17/\n",
            "        imaging.nii.gz\n",
            "        segmentation.nii.gz\n",
            "        instances/\n",
            "            tumor_instance-1_annotation-2.nii.gz\n",
            "            kidney_instance-2_annotation-1.nii.gz\n",
            "            kidney_instance-2_annotation-3.nii.gz\n",
            "            kidney_instance-1_annotation-3.nii.gz\n",
            "            kidney_instance-2_annotation-2.nii.gz\n",
            "            kidney_instance-1_annotation-1.nii.gz\n",
            "            tumor_instance-1_annotation-1.nii.gz\n",
            "            tumor_instance-1_annotation-3.nii.gz\n",
            "            kidney_instance-1_annotation-2.nii.gz\n",
            "    case_18/\n",
            "        imaging.nii.gz\n",
            "        segmentation.nii.gz\n",
            "        instances/\n",
            "            kidney_instance-1_annotation-2.nii.gz\n",
            "            kidney_instance-2_annotation-1.nii.gz\n",
            "            kidney_instance-1_annotation-1.nii.gz\n",
            "            kidney_instance-1_annotation-3.nii.gz\n",
            "            kidney_instance-2_annotation-3.nii.gz\n",
            "            tumor_instance-1_annotation-1.nii.gz\n",
            "            tumor_instance-1_annotation-3.nii.gz\n",
            "            tumor_instance-1_annotation-2.nii.gz\n",
            "            kidney_instance-2_annotation-2.nii.gz\n",
            "    case_19/\n",
            "        imaging.nii.gz\n",
            "        segmentation.nii.gz\n",
            "        instances/\n",
            "            tumor_instance-1_annotation-2.nii.gz\n",
            "            tumor_instance-1_annotation-1.nii.gz\n",
            "            kidney_instance-1_annotation-1.nii.gz\n",
            "            tumor_instance-1_annotation-3.nii.gz\n",
            "            kidney_instance-2_annotation-1.nii.gz\n",
            "            kidney_instance-2_annotation-3.nii.gz\n",
            "            kidney_instance-1_annotation-2.nii.gz\n",
            "            kidney_instance-2_annotation-2.nii.gz\n",
            "            kidney_instance-1_annotation-3.nii.gz\n",
            "    case_2/\n",
            "        imaging.nii.gz\n",
            "        segmentation.nii.gz\n",
            "        instances/\n",
            "            kidney_instance-1_annotation-1.nii.gz\n",
            "            cyst_instance-1_annotation-2.nii.gz\n",
            "            tumor_instance-1_annotation-1.nii.gz\n",
            "            tumor_instance-1_annotation-2.nii.gz\n",
            "            kidney_instance-2_annotation-1.nii.gz\n",
            "            kidney_instance-2_annotation-2.nii.gz\n",
            "            kidney_instance-1_annotation-3.nii.gz\n",
            "            cyst_instance-1_annotation-1.nii.gz\n",
            "            kidney_instance-1_annotation-2.nii.gz\n",
            "            tumor_instance-1_annotation-3.nii.gz\n",
            "            kidney_instance-2_annotation-3.nii.gz\n",
            "            cyst_instance-1_annotation-3.nii.gz\n",
            "    case_21/\n",
            "        imaging.nii.gz\n",
            "        segmentation.nii.gz\n",
            "        instances/\n",
            "            kidney_instance-1_annotation-3.nii.gz\n",
            "            kidney_instance-2_annotation-1.nii.gz\n",
            "            cyst_instance-2_annotation-1.nii.gz\n",
            "            cyst_instance-1_annotation-3.nii.gz\n",
            "            kidney_instance-2_annotation-2.nii.gz\n",
            "            cyst_instance-1_annotation-2.nii.gz\n",
            "            tumor_instance-1_annotation-2.nii.gz\n",
            "            tumor_instance-1_annotation-3.nii.gz\n",
            "            cyst_instance-2_annotation-3.nii.gz\n",
            "            kidney_instance-1_annotation-1.nii.gz\n",
            "            cyst_instance-1_annotation-1.nii.gz\n",
            "            kidney_instance-2_annotation-3.nii.gz\n",
            "            cyst_instance-2_annotation-2.nii.gz\n",
            "            kidney_instance-1_annotation-2.nii.gz\n",
            "            tumor_instance-1_annotation-1.nii.gz\n",
            "    case_22/\n",
            "        imaging.nii.gz\n",
            "        segmentation.nii.gz\n",
            "        instances/\n",
            "            kidney_instance-1_annotation-3.nii.gz\n",
            "            kidney_instance-1_annotation-1.nii.gz\n",
            "            kidney_instance-2_annotation-1.nii.gz\n",
            "            tumor_instance-1_annotation-1.nii.gz\n",
            "            kidney_instance-2_annotation-3.nii.gz\n",
            "            tumor_instance-1_annotation-3.nii.gz\n",
            "            kidney_instance-1_annotation-2.nii.gz\n",
            "            kidney_instance-2_annotation-2.nii.gz\n",
            "            tumor_instance-1_annotation-2.nii.gz\n",
            "    case_23/\n",
            "        imaging.nii.gz\n",
            "        segmentation.nii.gz\n",
            "        instances/\n",
            "            kidney_instance-2_annotation-2.nii.gz\n",
            "            kidney_instance-1_annotation-1.nii.gz\n",
            "            tumor_instance-1_annotation-3.nii.gz\n",
            "            kidney_instance-1_annotation-2.nii.gz\n",
            "            tumor_instance-1_annotation-1.nii.gz\n",
            "            kidney_instance-1_annotation-3.nii.gz\n",
            "            kidney_instance-2_annotation-3.nii.gz\n",
            "            kidney_instance-2_annotation-1.nii.gz\n",
            "            tumor_instance-1_annotation-2.nii.gz\n",
            "    case_24/\n",
            "        imaging.nii.gz\n",
            "        segmentation.nii.gz\n",
            "        instances/\n",
            "            tumor_instance-1_annotation-3.nii.gz\n",
            "            kidney_instance-2_annotation-2.nii.gz\n",
            "            tumor_instance-1_annotation-1.nii.gz\n",
            "            kidney_instance-1_annotation-3.nii.gz\n",
            "            tumor_instance-1_annotation-2.nii.gz\n",
            "            kidney_instance-2_annotation-3.nii.gz\n",
            "            kidney_instance-1_annotation-1.nii.gz\n",
            "            kidney_instance-2_annotation-1.nii.gz\n",
            "            kidney_instance-1_annotation-2.nii.gz\n",
            "    case_25/\n",
            "        imaging.nii.gz\n",
            "        segmentation.nii.gz\n",
            "        instances/\n",
            "            kidney_instance-1_annotation-1.nii.gz\n",
            "            kidney_instance-1_annotation-3.nii.gz\n",
            "            tumor_instance-1_annotation-3.nii.gz\n",
            "            tumor_instance-1_annotation-2.nii.gz\n",
            "            kidney_instance-2_annotation-1.nii.gz\n",
            "            kidney_instance-1_annotation-2.nii.gz\n",
            "            tumor_instance-1_annotation-1.nii.gz\n",
            "            kidney_instance-2_annotation-3.nii.gz\n",
            "            kidney_instance-2_annotation-2.nii.gz\n",
            "    case_26/\n",
            "        imaging.nii.gz\n",
            "        segmentation.nii.gz\n",
            "        instances/\n",
            "            cyst_instance-1_annotation-3.nii.gz\n",
            "            kidney_instance-2_annotation-3.nii.gz\n",
            "            kidney_instance-2_annotation-2.nii.gz\n",
            "            kidney_instance-1_annotation-1.nii.gz\n",
            "            kidney_instance-2_annotation-1.nii.gz\n",
            "            cyst_instance-1_annotation-2.nii.gz\n",
            "            tumor_instance-1_annotation-1.nii.gz\n",
            "            tumor_instance-1_annotation-3.nii.gz\n",
            "            kidney_instance-1_annotation-2.nii.gz\n",
            "            cyst_instance-1_annotation-1.nii.gz\n",
            "            tumor_instance-1_annotation-2.nii.gz\n",
            "            kidney_instance-1_annotation-3.nii.gz\n",
            "    case_27/\n",
            "        imaging.nii.gz\n",
            "        segmentation.nii.gz\n",
            "        instances/\n",
            "            cyst_instance-1_annotation-1.nii.gz\n",
            "            tumor_instance-1_annotation-2.nii.gz\n",
            "            cyst_instance-1_annotation-2.nii.gz\n",
            "            kidney_instance-2_annotation-3.nii.gz\n",
            "            kidney_instance-1_annotation-2.nii.gz\n",
            "            cyst_instance-1_annotation-3.nii.gz\n",
            "            tumor_instance-1_annotation-1.nii.gz\n",
            "            kidney_instance-1_annotation-3.nii.gz\n",
            "            tumor_instance-1_annotation-3.nii.gz\n",
            "            kidney_instance-2_annotation-1.nii.gz\n",
            "            kidney_instance-2_annotation-2.nii.gz\n",
            "            kidney_instance-1_annotation-1.nii.gz\n",
            "    case_28/\n",
            "        imaging.nii.gz\n",
            "        segmentation.nii.gz\n",
            "        instances/\n",
            "            cyst_instance-2_annotation-2.nii.gz\n",
            "            cyst_instance-4_annotation-3.nii.gz\n",
            "            tumor_instance-2_annotation-1.nii.gz\n",
            "            kidney_instance-2_annotation-1.nii.gz\n",
            "            tumor_instance-1_annotation-3.nii.gz\n",
            "            cyst_instance-1_annotation-1.nii.gz\n",
            "            tumor_instance-1_annotation-2.nii.gz\n",
            "            cyst_instance-4_annotation-1.nii.gz\n",
            "            cyst_instance-2_annotation-3.nii.gz\n",
            "            cyst_instance-1_annotation-3.nii.gz\n",
            "            cyst_instance-5_annotation-3.nii.gz\n",
            "            tumor_instance-2_annotation-3.nii.gz\n",
            "            cyst_instance-5_annotation-2.nii.gz\n",
            "            cyst_instance-3_annotation-3.nii.gz\n",
            "            cyst_instance-3_annotation-1.nii.gz\n",
            "            cyst_instance-4_annotation-2.nii.gz\n",
            "            kidney_instance-2_annotation-3.nii.gz\n",
            "            cyst_instance-1_annotation-2.nii.gz\n",
            "            kidney_instance-1_annotation-1.nii.gz\n",
            "            tumor_instance-1_annotation-1.nii.gz\n",
            "            kidney_instance-1_annotation-3.nii.gz\n",
            "            tumor_instance-2_annotation-2.nii.gz\n",
            "            kidney_instance-1_annotation-2.nii.gz\n",
            "            kidney_instance-2_annotation-2.nii.gz\n",
            "            cyst_instance-3_annotation-2.nii.gz\n",
            "            cyst_instance-5_annotation-1.nii.gz\n",
            "            cyst_instance-2_annotation-1.nii.gz\n",
            "    case_29/\n",
            "        imaging.nii.gz\n",
            "        segmentation.nii.gz\n",
            "        instances/\n",
            "            kidney_instance-1_annotation-2.nii.gz\n",
            "            kidney_instance-2_annotation-2.nii.gz\n",
            "            kidney_instance-2_annotation-3.nii.gz\n",
            "            tumor_instance-1_annotation-2.nii.gz\n",
            "            tumor_instance-1_annotation-3.nii.gz\n",
            "            kidney_instance-1_annotation-3.nii.gz\n",
            "            tumor_instance-1_annotation-1.nii.gz\n",
            "            kidney_instance-1_annotation-1.nii.gz\n",
            "            kidney_instance-2_annotation-1.nii.gz\n",
            "    case_3/\n",
            "        imaging.nii.gz\n",
            "        segmentation.nii.gz\n",
            "        instances/\n",
            "            kidney_instance-2_annotation-1.nii.gz\n",
            "            tumor_instance-1_annotation-3.nii.gz\n",
            "            kidney_instance-2_annotation-3.nii.gz\n",
            "            cyst_instance-1_annotation-3.nii.gz\n",
            "            cyst_instance-1_annotation-1.nii.gz\n",
            "            tumor_instance-1_annotation-2.nii.gz\n",
            "            kidney_instance-1_annotation-2.nii.gz\n",
            "            kidney_instance-1_annotation-3.nii.gz\n",
            "            kidney_instance-1_annotation-1.nii.gz\n",
            "            kidney_instance-2_annotation-2.nii.gz\n",
            "            tumor_instance-1_annotation-1.nii.gz\n",
            "            cyst_instance-1_annotation-2.nii.gz\n",
            "    case_579/\n",
            "        imaging.nii.gz\n",
            "        segmentation.nii.gz\n",
            "        instances/\n",
            "            kidney_instance-2_annotation-1.nii.gz\n",
            "            tumor_instance-1_annotation-1.nii.gz\n",
            "            kidney_instance-1_annotation-1.nii.gz\n",
            "    case_58/\n",
            "        imaging.nii.gz\n",
            "        segmentation.nii.gz\n",
            "        instances/\n",
            "            kidney_instance-1_annotation-1.nii.gz\n",
            "            tumor_instance-1_annotation-1.nii.gz\n",
            "            kidney_instance-2_annotation-1.nii.gz\n",
            "    case_581/\n",
            "        imaging.nii.gz\n",
            "        segmentation.nii.gz\n",
            "        instances/\n",
            "            kidney_instance-1_annotation-1.nii.gz\n",
            "            tumor_instance-1_annotation-1.nii.gz\n",
            "            kidney_instance-2_annotation-1.nii.gz\n",
            "    case_582/\n",
            "        imaging.nii.gz\n",
            "        segmentation.nii.gz\n",
            "        instances/\n",
            "            .suppl.tumor_instance-1_annotation-1.nii.gz\n",
            "            kidney_instance-2_annotation-1.nii.gz\n",
            "            kidney_instance-1_annotation-1.nii.gz\n",
            "            tumor_instance-1_annotation-1.nii.gz\n",
            "    case_583/\n",
            "        imaging.nii.gz\n",
            "        segmentation.nii.gz\n",
            "        instances/\n",
            "            kidney_instance-2_annotation-1.nii.gz\n",
            "            tumor_instance-1_annotation-1.nii.gz\n",
            "            kidney_instance-1_annotation-1.nii.gz\n",
            "    case_584/\n",
            "        imaging.nii.gz\n",
            "        segmentation.nii.gz\n",
            "        instances/\n",
            "            kidney_instance-1_annotation-1.nii.gz\n",
            "            kidney_instance-2_annotation-1.nii.gz\n",
            "            tumor_instance-3_annotation-1.nii.gz\n",
            "            tumor_instance-1_annotation-1.nii.gz\n",
            "            tumor_instance-2_annotation-1.nii.gz\n",
            "            .suppl.tumor_instance-1_annotation-1.nii.gz\n",
            "    case_585/\n",
            "        imaging.nii.gz\n",
            "        segmentation.nii.gz\n",
            "        instances/\n",
            "            kidney_instance-1_annotation-1.nii.gz\n",
            "            kidney_instance-2_annotation-1.nii.gz\n",
            "            tumor_instance-1_annotation-1.nii.gz\n",
            "    case_586/\n",
            "        imaging.nii.gz\n",
            "        segmentation.nii.gz\n",
            "        instances/\n",
            "            cyst_instance-2_annotation-1.nii.gz\n",
            "            tumor_instance-3_annotation-1.nii.gz\n",
            "            cyst_instance-5_annotation-1.nii.gz\n",
            "            cyst_instance-6_annotation-1.nii.gz\n",
            "            cyst_instance-1_annotation-1.nii.gz\n",
            "            tumor_instance-1_annotation-1.nii.gz\n",
            "            cyst_instance-7_annotation-1.nii.gz\n",
            "            kidney_instance-1_annotation-1.nii.gz\n",
            "            tumor_instance-2_annotation-1.nii.gz\n",
            "            kidney_instance-2_annotation-1.nii.gz\n",
            "            cyst_instance-4_annotation-1.nii.gz\n",
            "            cyst_instance-3_annotation-1.nii.gz\n",
            "    case_587/\n",
            "        imaging.nii.gz\n",
            "        segmentation.nii.gz\n",
            "        instances/\n",
            "            kidney_instance-1_annotation-1.nii.gz\n",
            "            kidney_instance-2_annotation-1.nii.gz\n",
            "            cyst_instance-1_annotation-1.nii.gz\n",
            "            tumor_instance-1_annotation-1.nii.gz\n",
            "    case_0/\n",
            "        imaging.nii.gz\n",
            "        segmentation.nii.gz\n",
            "        instances/\n",
            "            kidney_instance-1_annotation-3.nii.gz\n",
            "            kidney_instance-1_annotation-1.nii.gz\n",
            "            tumor_instance-1_annotation-1.nii.gz\n",
            "            tumor_instance-1_annotation-2.nii.gz\n",
            "            kidney_instance-2_annotation-1.nii.gz\n",
            "            kidney_instance-1_annotation-2.nii.gz\n",
            "            kidney_instance-2_annotation-2.nii.gz\n",
            "            tumor_instance-1_annotation-3.nii.gz\n",
            "            kidney_instance-2_annotation-3.nii.gz\n",
            "        png_axial_view/\n",
            "            00000.png\n",
            "            00001.png\n",
            "            00002.png\n",
            "            00003.png\n",
            "            00004.png\n",
            "            00005.png\n",
            "            00006.png\n",
            "            00007.png\n",
            "            00008.png\n",
            "            00009.png\n",
            "            00010.png\n",
            "            00011.png\n",
            "            00012.png\n",
            "            00013.png\n",
            "            00014.png\n",
            "            00015.png\n",
            "            00016.png\n",
            "            00017.png\n",
            "            00018.png\n",
            "            00019.png\n",
            "            00020.png\n",
            "            00021.png\n",
            "            00022.png\n",
            "            00023.png\n",
            "            00024.png\n",
            "            00025.png\n",
            "            00026.png\n",
            "            00027.png\n",
            "            00028.png\n",
            "            00029.png\n",
            "            00030.png\n",
            "            00031.png\n",
            "            00032.png\n",
            "            00033.png\n",
            "            00034.png\n",
            "            00035.png\n",
            "            00036.png\n",
            "            00037.png\n",
            "            00038.png\n",
            "            00039.png\n",
            "            00040.png\n",
            "            00041.png\n",
            "            00042.png\n",
            "            00043.png\n",
            "            00044.png\n",
            "            00045.png\n",
            "            00046.png\n",
            "            00047.png\n",
            "            00048.png\n",
            "            00049.png\n",
            "            00050.png\n",
            "            00051.png\n",
            "            00052.png\n",
            "            00053.png\n",
            "            00054.png\n",
            "            00055.png\n",
            "            00056.png\n",
            "            00057.png\n",
            "            00058.png\n",
            "            00059.png\n",
            "            00060.png\n",
            "            00061.png\n",
            "            00062.png\n",
            "            00063.png\n",
            "            00064.png\n",
            "            00065.png\n",
            "            00066.png\n",
            "            00067.png\n",
            "            00068.png\n",
            "            00069.png\n",
            "            00070.png\n",
            "            00071.png\n",
            "            00072.png\n",
            "            00073.png\n",
            "            00074.png\n",
            "            00075.png\n",
            "            00076.png\n",
            "            00077.png\n",
            "            00078.png\n",
            "            00079.png\n",
            "            00080.png\n",
            "            00081.png\n",
            "            00082.png\n",
            "            00083.png\n",
            "            00084.png\n",
            "            00085.png\n",
            "            00086.png\n",
            "            00087.png\n",
            "            00088.png\n",
            "            00089.png\n",
            "            00090.png\n",
            "            00091.png\n",
            "            00092.png\n",
            "            00093.png\n",
            "            00094.png\n",
            "            00095.png\n",
            "            00096.png\n",
            "            00097.png\n",
            "            00098.png\n",
            "            00099.png\n",
            "            00100.png\n",
            "            00101.png\n",
            "            00102.png\n",
            "            00103.png\n",
            "            00104.png\n",
            "            00105.png\n",
            "            00106.png\n",
            "            00107.png\n",
            "            00108.png\n",
            "            00109.png\n",
            "            00110.png\n",
            "            00111.png\n",
            "            00112.png\n",
            "            00113.png\n",
            "            00114.png\n",
            "            00115.png\n",
            "            00116.png\n",
            "            00117.png\n",
            "            00118.png\n",
            "            00119.png\n",
            "            00120.png\n",
            "            00121.png\n",
            "            00122.png\n",
            "            00123.png\n",
            "            00124.png\n",
            "            00125.png\n",
            "            00126.png\n",
            "            00127.png\n",
            "            00128.png\n",
            "            00129.png\n",
            "            00130.png\n",
            "            00131.png\n",
            "            00132.png\n",
            "            00133.png\n",
            "            00134.png\n",
            "            00135.png\n",
            "            00136.png\n",
            "            00137.png\n",
            "            00138.png\n",
            "            00139.png\n",
            "            00140.png\n",
            "            00141.png\n",
            "            00142.png\n",
            "            00143.png\n",
            "            00144.png\n",
            "            00145.png\n",
            "            00146.png\n",
            "            00147.png\n",
            "            00148.png\n",
            "            00149.png\n",
            "            00150.png\n",
            "            00151.png\n",
            "            00152.png\n",
            "            00153.png\n",
            "            00154.png\n",
            "            00155.png\n",
            "            00156.png\n",
            "            00157.png\n",
            "            00158.png\n",
            "            00159.png\n",
            "            00160.png\n",
            "            00161.png\n",
            "            00162.png\n",
            "            00163.png\n",
            "            00164.png\n",
            "            00165.png\n",
            "            00166.png\n",
            "            00167.png\n",
            "            00168.png\n",
            "            00169.png\n",
            "            00170.png\n",
            "            00171.png\n",
            "            00172.png\n",
            "            00173.png\n",
            "            00174.png\n",
            "            00175.png\n",
            "            00176.png\n",
            "            00177.png\n",
            "            00178.png\n",
            "            00179.png\n",
            "            00180.png\n",
            "            00181.png\n",
            "            00182.png\n",
            "            00183.png\n",
            "            00184.png\n",
            "            00185.png\n",
            "            00186.png\n",
            "            00187.png\n",
            "            00188.png\n",
            "            00189.png\n",
            "            00190.png\n",
            "            00191.png\n",
            "            00192.png\n",
            "            00193.png\n",
            "            00194.png\n",
            "            00195.png\n",
            "            00196.png\n",
            "            00197.png\n",
            "            00198.png\n",
            "            00199.png\n",
            "            00200.png\n",
            "            00201.png\n",
            "            00202.png\n",
            "            00203.png\n",
            "            00204.png\n",
            "            00205.png\n",
            "            00206.png\n",
            "            00207.png\n",
            "            00208.png\n",
            "            00209.png\n",
            "            00210.png\n",
            "            00211.png\n",
            "            00212.png\n",
            "            00213.png\n",
            "            00214.png\n",
            "            00215.png\n",
            "            00216.png\n",
            "            00217.png\n",
            "            00218.png\n",
            "            00219.png\n",
            "            00220.png\n",
            "            00221.png\n",
            "            00222.png\n",
            "            00223.png\n",
            "            00224.png\n",
            "            00225.png\n",
            "            00226.png\n",
            "            00227.png\n",
            "            00228.png\n",
            "            00229.png\n",
            "            00230.png\n",
            "            00231.png\n",
            "            00232.png\n",
            "            00233.png\n",
            "            00234.png\n",
            "            00235.png\n",
            "            00236.png\n",
            "            00237.png\n",
            "            00238.png\n",
            "            00239.png\n",
            "            00240.png\n",
            "            00241.png\n",
            "            00242.png\n",
            "            00243.png\n",
            "            00244.png\n",
            "            00245.png\n",
            "            00246.png\n",
            "            00247.png\n",
            "            00248.png\n",
            "            00249.png\n",
            "            00250.png\n",
            "            00251.png\n",
            "            00252.png\n",
            "            00253.png\n",
            "            00254.png\n",
            "            00255.png\n",
            "            00256.png\n",
            "            00257.png\n",
            "            00258.png\n",
            "            00259.png\n",
            "            00260.png\n",
            "            00261.png\n",
            "            00262.png\n",
            "            00263.png\n",
            "            00264.png\n",
            "            00265.png\n",
            "            00266.png\n",
            "            00267.png\n",
            "            00268.png\n",
            "            00269.png\n",
            "            00270.png\n",
            "            00271.png\n",
            "            00272.png\n",
            "            00273.png\n",
            "            00274.png\n",
            "            00275.png\n",
            "            00276.png\n",
            "            00277.png\n",
            "            00278.png\n",
            "            00279.png\n",
            "            00280.png\n",
            "            00281.png\n",
            "            00282.png\n",
            "            00283.png\n",
            "            00284.png\n",
            "            00285.png\n",
            "            00286.png\n",
            "            00287.png\n",
            "            00288.png\n",
            "            00289.png\n",
            "            00290.png\n",
            "            00291.png\n",
            "            00292.png\n",
            "            00293.png\n",
            "            00294.png\n",
            "            00295.png\n",
            "            00296.png\n",
            "            00297.png\n",
            "            00298.png\n",
            "            00299.png\n",
            "            00300.png\n",
            "            00301.png\n",
            "            00302.png\n",
            "            00303.png\n",
            "            00304.png\n",
            "            00305.png\n",
            "            00306.png\n",
            "            00307.png\n",
            "            00308.png\n",
            "            00309.png\n",
            "            00310.png\n",
            "            00311.png\n",
            "            00312.png\n",
            "            00313.png\n",
            "            00314.png\n",
            "            00315.png\n",
            "            00316.png\n",
            "            00317.png\n",
            "            00318.png\n",
            "            00319.png\n",
            "            00320.png\n",
            "            00321.png\n",
            "            00322.png\n",
            "            00323.png\n",
            "            00324.png\n",
            "            00325.png\n",
            "            00326.png\n",
            "            00327.png\n",
            "            00328.png\n",
            "            00329.png\n",
            "            00330.png\n",
            "            00331.png\n",
            "            00332.png\n",
            "            00333.png\n",
            "            00334.png\n",
            "            00335.png\n",
            "            00336.png\n",
            "            00337.png\n",
            "            00338.png\n",
            "            00339.png\n",
            "            00340.png\n",
            "            00341.png\n",
            "            00342.png\n",
            "            00343.png\n",
            "            00344.png\n",
            "            00345.png\n",
            "            00346.png\n",
            "            00347.png\n",
            "            00348.png\n",
            "            00349.png\n",
            "            00350.png\n",
            "            00351.png\n",
            "            00352.png\n",
            "            00353.png\n",
            "            00354.png\n",
            "            00355.png\n",
            "            00356.png\n",
            "            00357.png\n",
            "            00358.png\n",
            "            00359.png\n",
            "            00360.png\n",
            "            00361.png\n",
            "            00362.png\n",
            "            00363.png\n",
            "            00364.png\n",
            "            00365.png\n",
            "            00366.png\n",
            "            00367.png\n",
            "            00368.png\n",
            "            00369.png\n",
            "            00370.png\n",
            "            00371.png\n",
            "            00372.png\n",
            "            00373.png\n",
            "            00374.png\n",
            "            00375.png\n",
            "            00376.png\n",
            "            00377.png\n",
            "            00378.png\n",
            "            00379.png\n",
            "            00380.png\n",
            "            00381.png\n",
            "            00382.png\n",
            "            00383.png\n",
            "            00384.png\n",
            "            00385.png\n",
            "            00386.png\n",
            "            00387.png\n",
            "            00388.png\n",
            "            00389.png\n",
            "            00390.png\n",
            "            00391.png\n",
            "            00392.png\n",
            "            00393.png\n",
            "            00394.png\n",
            "            00395.png\n",
            "            00396.png\n",
            "            00397.png\n",
            "            00398.png\n",
            "            00399.png\n",
            "            00400.png\n",
            "            00401.png\n",
            "            00402.png\n",
            "            00403.png\n",
            "            00404.png\n",
            "            00405.png\n",
            "            00406.png\n",
            "            00407.png\n",
            "            00408.png\n",
            "            00409.png\n",
            "            00410.png\n",
            "            00411.png\n",
            "            00412.png\n",
            "            00413.png\n",
            "            00414.png\n",
            "            00415.png\n",
            "            00416.png\n",
            "            00417.png\n",
            "            00418.png\n",
            "            00419.png\n",
            "            00420.png\n",
            "            00421.png\n",
            "            00422.png\n",
            "            00423.png\n",
            "            00424.png\n",
            "            00425.png\n",
            "            00426.png\n",
            "            00427.png\n",
            "            00428.png\n",
            "            00429.png\n",
            "            00430.png\n",
            "            00431.png\n",
            "            00432.png\n",
            "            00433.png\n",
            "            00434.png\n",
            "            00435.png\n",
            "            00436.png\n",
            "            00437.png\n",
            "            00438.png\n",
            "            00439.png\n",
            "            00440.png\n",
            "            00441.png\n",
            "            00442.png\n",
            "            00443.png\n",
            "            00444.png\n",
            "            00445.png\n",
            "            00446.png\n",
            "            00447.png\n",
            "            00448.png\n",
            "            00449.png\n",
            "            00450.png\n",
            "            00451.png\n",
            "            00452.png\n",
            "            00453.png\n",
            "            00454.png\n",
            "            00455.png\n",
            "            00456.png\n",
            "            00457.png\n",
            "            00458.png\n",
            "            00459.png\n",
            "            00460.png\n",
            "            00461.png\n",
            "            00462.png\n",
            "            00463.png\n",
            "            00464.png\n",
            "            00465.png\n",
            "            00466.png\n",
            "            00467.png\n",
            "            00468.png\n",
            "            00469.png\n",
            "            00470.png\n",
            "            00471.png\n",
            "            00472.png\n",
            "            00473.png\n",
            "            00474.png\n",
            "            00475.png\n",
            "            00476.png\n",
            "            00477.png\n",
            "            00478.png\n",
            "            00479.png\n",
            "            00480.png\n",
            "            00481.png\n",
            "            00482.png\n",
            "            00483.png\n",
            "            00484.png\n",
            "            00485.png\n",
            "            00486.png\n",
            "            00487.png\n",
            "            00488.png\n",
            "            00489.png\n",
            "            00490.png\n",
            "            00491.png\n",
            "            00492.png\n",
            "            00493.png\n",
            "            00494.png\n",
            "            00495.png\n",
            "            00496.png\n",
            "            00497.png\n",
            "            00498.png\n",
            "            00499.png\n",
            "            00500.png\n",
            "            00501.png\n",
            "            00502.png\n",
            "            00503.png\n",
            "            00504.png\n",
            "            00505.png\n",
            "            00506.png\n",
            "            00507.png\n",
            "            00508.png\n",
            "            00509.png\n",
            "            00510.png\n",
            "            00511.png\n",
            "            00512.png\n",
            "            00513.png\n",
            "            00514.png\n",
            "            00515.png\n",
            "            00516.png\n",
            "            00517.png\n",
            "            00518.png\n",
            "            00519.png\n",
            "            00520.png\n",
            "            00521.png\n",
            "            00522.png\n",
            "            00523.png\n",
            "            00524.png\n",
            "            00525.png\n",
            "            00526.png\n",
            "            00527.png\n",
            "            00528.png\n",
            "            00529.png\n",
            "            00530.png\n",
            "            00531.png\n",
            "            00532.png\n",
            "            00533.png\n",
            "            00534.png\n",
            "            00535.png\n",
            "            00536.png\n",
            "            00537.png\n",
            "            00538.png\n",
            "            00539.png\n",
            "            00540.png\n",
            "            00541.png\n",
            "            00542.png\n",
            "            00543.png\n",
            "            00544.png\n",
            "            00545.png\n",
            "            00546.png\n",
            "            00547.png\n",
            "            00548.png\n",
            "            00549.png\n",
            "            00550.png\n",
            "            00551.png\n",
            "            00552.png\n",
            "            00553.png\n",
            "            00554.png\n",
            "            00555.png\n",
            "            00556.png\n",
            "            00557.png\n",
            "            00558.png\n",
            "            00559.png\n",
            "            00560.png\n",
            "            00561.png\n",
            "            00562.png\n",
            "            00563.png\n",
            "            00564.png\n",
            "            00565.png\n",
            "            00566.png\n",
            "            00567.png\n",
            "            00568.png\n",
            "            00569.png\n",
            "            00570.png\n",
            "            00571.png\n",
            "            00572.png\n",
            "            00573.png\n",
            "            00574.png\n",
            "            00575.png\n",
            "            00576.png\n",
            "            00577.png\n",
            "            00578.png\n",
            "            00579.png\n",
            "            00580.png\n",
            "            00581.png\n",
            "            00582.png\n",
            "            00583.png\n",
            "            00584.png\n",
            "            00585.png\n",
            "            00586.png\n",
            "            00587.png\n",
            "            00588.png\n",
            "            00589.png\n",
            "            00590.png\n",
            "            00591.png\n",
            "            00592.png\n",
            "            00593.png\n",
            "            00594.png\n",
            "            00595.png\n",
            "            00596.png\n",
            "            00597.png\n",
            "            00598.png\n",
            "            00599.png\n",
            "            00600.png\n",
            "            00601.png\n",
            "            00602.png\n",
            "            00603.png\n",
            "            00604.png\n",
            "            00605.png\n",
            "            00606.png\n",
            "            00607.png\n",
            "            00608.png\n",
            "            00609.png\n",
            "            00610.png\n"
          ]
        }
      ]
    },
    {
      "cell_type": "code",
      "source": [
        "#!pip install nibabel"
      ],
      "metadata": {
        "id": "GjSGDN77ZZjl",
        "colab": {
          "base_uri": "https://localhost:8080/"
        },
        "outputId": "7b5257a4-d654-4b5c-cca2-76d2066fed21"
      },
      "execution_count": 5,
      "outputs": [
        {
          "output_type": "stream",
          "name": "stdout",
          "text": [
            "Requirement already satisfied: nibabel in /usr/local/lib/python3.10/dist-packages (4.0.2)\n",
            "Requirement already satisfied: numpy>=1.17 in /usr/local/lib/python3.10/dist-packages (from nibabel) (1.23.5)\n",
            "Requirement already satisfied: packaging>=17.0 in /usr/local/lib/python3.10/dist-packages (from nibabel) (23.1)\n",
            "Requirement already satisfied: setuptools in /usr/local/lib/python3.10/dist-packages (from nibabel) (67.7.2)\n"
          ]
        }
      ]
    },
    {
      "cell_type": "code",
      "source": [
        "def get_all_case_dirs(root_path):\n",
        "    \"\"\"Get all case directories under the root path.\"\"\"\n",
        "    paths = [os.path.join(root_path, d) for d in os.listdir(root_path) if os.path.isdir(os.path.join(root_path, d))]\n",
        "    return paths\n",
        "\n",
        "def safe_load_nii_gz_data(case_path, filename):\n",
        "    \"\"\"Load .nii.gz data using nibabel, return None if file doesn't exist.\"\"\"\n",
        "    file_path = os.path.join(case_path, filename)\n",
        "    if os.path.exists(file_path):\n",
        "        nii_data = nib.load(file_path)\n",
        "        return nii_data.get_fdata()\n",
        "    else:\n",
        "        print(f\"File {file_path} not found.\")\n",
        "        return None\n",
        "\n",
        "def visualize_slice(data, slice_index):\n",
        "    \"\"\"Visualize a slice of the 3D data.\"\"\"\n",
        "    plt.imshow(data[slice_index, :, :].T, cmap=\"gray\")\n",
        "    plt.axis('off')\n",
        "    plt.show()\n",
        "\n"
      ],
      "metadata": {
        "id": "zFwLPIgUflDT"
      },
      "execution_count": 5,
      "outputs": []
    },
    {
      "cell_type": "code",
      "source": [
        "all_case_dirs = get_all_case_dirs(dataset_dir)\n",
        "\n",
        "# Loading segmentations for the first few cases and visualize the first one that works\n",
        "for case_dir in all_case_dirs[:10]:  # only testing first 10 for quick verification\n",
        "    if case_dir.endswith('.ipynb_checkpoints') : continue\n",
        "    segmentation_data = safe_load_nii_gz_data(\"/content/drive/MyDrive/kits23-sample/dataset/case_4\", \"segmentation.nii.gz\")\n",
        "    if segmentation_data is not None:\n",
        "        visualize_slice(segmentation_data, 50)\n",
        "        print(segmentation_data.shape)\n",
        "        print(type(segmentation_data))\n",
        "        print(np.unique(segmentation_data))\n",
        "        break\n"
      ],
      "metadata": {
        "colab": {
          "base_uri": "https://localhost:8080/",
          "height": 458
        },
        "id": "Y1owBRZZfox2",
        "outputId": "e532f8ff-1c00-4a2c-9cd8-d1d713204ab2"
      },
      "execution_count": 27,
      "outputs": [
        {
          "output_type": "display_data",
          "data": {
            "text/plain": [
              "<Figure size 640x480 with 1 Axes>"
            ],
            "image/png": "[encoded data removed]"
          },
          "metadata": {}
        },
        {
          "output_type": "stream",
          "name": "stdout",
          "text": [
            "(64, 512, 512)\n",
            "<class 'numpy.ndarray'>\n",
            "[0. 1. 2.]\n"
          ]
        }
      ]
    },
    {
      "cell_type": "code",
      "source": [],
      "metadata": {
        "id": "2AfMJ1DtgYyr"
      },
      "execution_count": null,
      "outputs": []
    },
    {
      "cell_type": "code",
      "source": [
        "# Loading segmentations for the first few cases and visualize the first one that works\n",
        "for case_dir in all_case_dirs[:10]:  # only testing first 10 for quick verification\n",
        "    if case_dir.endswith('.ipynb_checkpoints') : continue\n",
        "    segmentation_data = safe_load_nii_gz_data(\"/content/drive/MyDrive/kits23-sample/dataset/case_4\", \"imaging.nii.gz\")\n",
        "    if segmentation_data is not None:\n",
        "        visualize_slice(segmentation_data, 60)\n",
        "        break"
      ],
      "metadata": {
        "colab": {
          "base_uri": "https://localhost:8080/",
          "height": 406
        },
        "id": "FF4Nl2NJ2wja",
        "outputId": "aa565504-5ff6-4a03-9eb5-9edfb4ea8393"
      },
      "execution_count": 7,
      "outputs": [
        {
          "output_type": "display_data",
          "data": {
            "text/plain": [
              "<Figure size 640x480 with 1 Axes>"
            ],
            "image/png": "[encoded data removed]"
          },
          "metadata": {}
        }
      ]
    },
    {
      "cell_type": "code",
      "source": [
        "# Loading segmentations for the first few cases and visualize the first one that works\n",
        "for case_dir in all_case_dirs[:10]:  # only testing first 10 for quick verification\n",
        "    if case_dir.endswith('.ipynb_checkpoints') : continue\n",
        "    segmentation_data = safe_load_nii_gz_data(\"/content/drive/MyDrive/kits23-sample/dataset/case_4/instances\", \"tumor_instance-1_annotation-1.nii.gz\")\n",
        "    if segmentation_data is not None:\n",
        "        visualize_slice(segmentation_data, 60)\n",
        "        break"
      ],
      "metadata": {
        "colab": {
          "base_uri": "https://localhost:8080/",
          "height": 406
        },
        "id": "-yF8yco5-Agb",
        "outputId": "961ef410-c39b-4f9c-8fd3-bb923b732111"
      },
      "execution_count": 8,
      "outputs": [
        {
          "output_type": "display_data",
          "data": {
            "text/plain": [
              "<Figure size 640x480 with 1 Axes>"
            ],
            "image/png": "[encoded data removed]"
          },
          "metadata": {}
        }
      ]
    },
    {
      "cell_type": "code",
      "source": [
        "seg_file = nib.load(\"/content/drive/MyDrive/kits23-sample/dataset/case_4/segmentation.nii.gz\").get_fdata()\n",
        "seg_file = seg_file.astype(np.uint8)\n",
        "\n",
        "print(np.unique(seg_file))"
      ],
      "metadata": {
        "colab": {
          "base_uri": "https://localhost:8080/"
        },
        "id": "hOUB8GKMYaIC",
        "outputId": "b423d956-0ca2-4657-dc6e-f6b81f0c3995"
      },
      "execution_count": 9,
      "outputs": [
        {
          "output_type": "stream",
          "name": "stdout",
          "text": [
            "[0 1 2]\n"
          ]
        }
      ]
    },
    {
      "cell_type": "code",
      "source": [
        "#!python \"/content/drive/MyDrive/kits23-sample/kits23/annotation/visualize.py\" -c case_0 -d \"/content/drive/MyDrive/kits23-sample/dataset/case_0/png_axial_view\""
      ],
      "metadata": {
        "colab": {
          "base_uri": "https://localhost:8080/"
        },
        "id": "jtDb5UnIGqaB",
        "outputId": "a1e71fbc-129c-4ad2-9398-a185164ed698"
      },
      "execution_count": 43,
      "outputs": [
        {
          "output_type": "stream",
          "name": "stdout",
          "text": [
            "/content/drive/MyDrive/kits23-sample/kits23/annotation/visualize.py:81: DeprecationWarning: get_data() is deprecated in favor of get_fdata(), which has a more predictable return type. To obtain get_data() behavior going forward, use numpy.asanyarray(img.dataobj).\n",
            "\n",
            "* deprecated from version: 3.0\n",
            "* Will raise <class 'nibabel.deprecator.ExpiredDeprecationError'> as of version: 5.0\n",
            "  vol = vol.get_data()\n",
            "/content/drive/MyDrive/kits23-sample/kits23/annotation/visualize.py:82: DeprecationWarning: get_data() is deprecated in favor of get_fdata(), which has a more predictable return type. To obtain get_data() behavior going forward, use numpy.asanyarray(img.dataobj).\n",
            "\n",
            "* deprecated from version: 3.0\n",
            "* Will raise <class 'nibabel.deprecator.ExpiredDeprecationError'> as of version: 5.0\n",
            "  seg = seg.get_data()\n"
          ]
        }
      ]
    },
    {
      "cell_type": "markdown",
      "source": [
        "#Filtering Out Incomplete Data"
      ],
      "metadata": {
        "id": "T72Nb1RhhrT0"
      }
    },
    {
      "cell_type": "markdown",
      "source": [
        "### Data Preparation"
      ],
      "metadata": {
        "id": "WTarGcskhyPS"
      }
    },
    {
      "cell_type": "markdown",
      "source": [
        "####Cleaning the dataset by identifying and removing any cases that lack the segmentation.nii.gz file. If a case lacks segmentation.nii.gz, it implies that we don't have a reference segmentation for that particular case, making it unsuitable for training (since we wouldn't have a ground truth to compare the model's output to)."
      ],
      "metadata": {
        "id": "Aoh9CT8uq80r"
      }
    },
    {
      "cell_type": "code",
      "source": [
        "# Helper function to determine if a directory contains at least one instance (kidney, tumor, or cyst)\n",
        "def contains_instance(case_dir):\n",
        "    instance_files = os.listdir(case_dir)\n",
        "    for filename in instance_files:\n",
        "        if filename.startswith((\"kidney\", \"tumor\", \"cyst\")):\n",
        "            return True\n",
        "    return False\n"
      ],
      "metadata": {
        "id": "2rpKAlhOxHbb"
      },
      "execution_count": 6,
      "outputs": []
    },
    {
      "cell_type": "code",
      "source": [
        "# List all cases\n",
        "all_cases = [d for d in os.listdir(dataset_dir) if os.path.isdir(os.path.join(dataset_dir, d))]"
      ],
      "metadata": {
        "id": "_F8MMoTZ2weL"
      },
      "execution_count": 7,
      "outputs": []
    },
    {
      "cell_type": "code",
      "source": [
        "# Filter cases that have segmentation.nii.gz and at least one instance\n",
        "valid_cases = [\n",
        "    case\n",
        "    for case in all_cases\n",
        "    if os.path.exists(os.path.join(dataset_dir, case, \"segmentation.nii.gz\")) and\n",
        "    contains_instance(os.path.join(dataset_dir, case, \"instances\"))\n",
        "]\n",
        "\n",
        "print(f\"Total cases: {len(all_cases)}\")\n",
        "print(f\"Valid cases with segmentation and at least one instance: {len(valid_cases)}\")\n",
        "\n"
      ],
      "metadata": {
        "colab": {
          "base_uri": "https://localhost:8080/"
        },
        "id": "tTIJIgt6xPNE",
        "outputId": "7ce7ac50-ec8d-4509-c03a-c2c4d327896e"
      },
      "execution_count": 8,
      "outputs": [
        {
          "output_type": "stream",
          "name": "stdout",
          "text": [
            "Total cases: 39\n",
            "Valid cases with segmentation and at least one instance: 38\n"
          ]
        }
      ]
    },
    {
      "cell_type": "code",
      "source": [
        "# Print the names of the valid cases in order\n",
        "print(\"\\nNames of valid cases:\")\n",
        "for case_name in sorted(valid_cases):\n",
        "    print(case_name)\n"
      ],
      "metadata": {
        "colab": {
          "base_uri": "https://localhost:8080/"
        },
        "id": "o8zyXwtXwjsK",
        "outputId": "1dda06e3-a8ac-4160-ddb0-4e53f7873c0b"
      },
      "execution_count": 23,
      "outputs": [
        {
          "output_type": "stream",
          "name": "stdout",
          "text": [
            "\n",
            "Names of valid cases:\n",
            "case_0\n",
            "case_1\n",
            "case_11\n",
            "case_12\n",
            "case_13\n",
            "case_14\n",
            "case_15\n",
            "case_16\n",
            "case_17\n",
            "case_18\n",
            "case_19\n",
            "case_2\n",
            "case_21\n",
            "case_22\n",
            "case_23\n",
            "case_24\n",
            "case_25\n",
            "case_26\n",
            "case_27\n",
            "case_28\n",
            "case_29\n",
            "case_3\n",
            "case_4\n",
            "case_5\n",
            "case_579\n",
            "case_58\n",
            "case_581\n",
            "case_582\n",
            "case_583\n",
            "case_584\n",
            "case_585\n",
            "case_586\n",
            "case_587\n",
            "case_588\n",
            "case_6\n",
            "case_7\n",
            "case_8\n",
            "case_9\n"
          ]
        }
      ]
    },
    {
      "cell_type": "code",
      "source": [
        "set(all_cases) - set(valid_cases)"
      ],
      "metadata": {
        "colab": {
          "base_uri": "https://localhost:8080/"
        },
        "id": "k4B4gB1s6PBr",
        "outputId": "9ea3319e-a351-429f-dd6b-53cf51d9d58e"
      },
      "execution_count": 13,
      "outputs": [
        {
          "output_type": "execute_result",
          "data": {
            "text/plain": [
              "{'.ipynb_checkpoints'}"
            ]
          },
          "metadata": {},
          "execution_count": 13
        }
      ]
    },
    {
      "cell_type": "markdown",
      "source": [
        "#Data Preprocessing"
      ],
      "metadata": {
        "id": "eGdzbYZXr7zg"
      }
    },
    {
      "cell_type": "code",
      "source": [
        "#!! Need to change to 'to_categorical' using TF\n",
        "\n",
        "def one_hot_encode(segmentation, num_classes):\n",
        "    \"\"\"\n",
        "    One hot encodes the segmentation mask.\n",
        "    Args:\n",
        "    - segmentation : numpy array, the segmentation mask\n",
        "    - num_classes : int, number of classes\n",
        "    Returns:\n",
        "    - one_hot : numpy array, the one-hot encoded mask\n",
        "    \"\"\"\n",
        "    one_hot = np.zeros((*segmentation.shape, num_classes))\n",
        "    for i in range(num_classes):\n",
        "        one_hot[..., i] = (segmentation == i)\n",
        "    return one_hot\n"
      ],
      "metadata": {
        "id": "I8iAFt2e5EYw"
      },
      "execution_count": 9,
      "outputs": []
    },
    {
      "cell_type": "code",
      "source": [
        "def preprocess_data(image, label, num_classes=4):\n",
        "    \"\"\"\n",
        "    Preprocesses the image and label:\n",
        "    - Resizes to the target shape.\n",
        "    - Normalizes the image to [0, 1] range.\n",
        "    - One-hot encodes the label.\n",
        "\n",
        "    Parameters:\n",
        "    - image: The MRI image.\n",
        "    - label: The corresponding label.\n",
        "\n",
        "    Returns:\n",
        "    - preprocessed_image: Resized and normalized image.\n",
        "    - preprocessed_label: Resized and one-hot encoded label.\n",
        "    \"\"\"\n",
        "\n",
        "    # Determine the current shape of the image data\n",
        "    current_shape = image.shape\n",
        "\n",
        "    # Calculate the zoom factors\n",
        "    zoom_factors = (128/current_shape[0], 128/current_shape[1], 64/current_shape[2])\n",
        "\n",
        "    # Resizing\n",
        "    resized_image = zoom(image, zoom_factors, mode='nearest')\n",
        "    resized_label = zoom(label, zoom_factors, order=0, mode='nearest')\n",
        "    # using order=0 (nearest neighbor) for labels\n",
        "\n",
        "    # Normalizing image data to [0, 1]\n",
        "    normalized_image = (resized_image - np.min(resized_image)) / (np.max(resized_image) - np.min(resized_image))\n",
        "\n",
        "    # One-hot encode the label\n",
        "    one_hot_label = one_hot_encode(resized_label, num_classes)\n",
        "    # print(one_hot_label)\n",
        "\n",
        "    return normalized_image, one_hot_label\n"
      ],
      "metadata": {
        "id": "dbujrJaKr-dI"
      },
      "execution_count": 10,
      "outputs": []
    },
    {
      "cell_type": "markdown",
      "source": [
        "#Generator : data is loaded and preprocessed on-the-fly during training"
      ],
      "metadata": {
        "id": "_Q_sqREwmOmq"
      }
    },
    {
      "cell_type": "code",
      "source": [
        " #Each batch is consistent and has a shape (batch_size, 128, 128, 64, 1) for images and (batch_size, 128, 128, 64, num_classes) for labels\n",
        "def data_generator(case_list, dataset_dir, batch_size=2, image_shape=(128, 128, 64, 1), num_classes=4):\n",
        "    while True:\n",
        "        # Randomly sample batch_size cases\n",
        "        batch_cases = np.random.choice(case_list, size=batch_size)\n",
        "\n",
        "        batch_images = []\n",
        "        batch_labels = []\n",
        "\n",
        "        for case in batch_cases:\n",
        "            instances_dir = os.path.join(dataset_dir, case)\n",
        "\n",
        "            # List all instance files within the directory\n",
        "            all_files = os.listdir(instances_dir)\n",
        "\n",
        "            # Filter out the kidney, cyst, and tumor instances\n",
        "            image_files = [f for f in all_files if f.startswith(\"segmentation\")]\n",
        "\n",
        "            # print(image_files)\n",
        "\n",
        "            if not image_files:\n",
        "                continue  # If there are no instance files, skip this case\n",
        "\n",
        "            # Select a random instance for this case (assuming each case might have different instances)\n",
        "            random_instance = np.random.choice(image_files)\n",
        "\n",
        "            image_path = os.path.join(instances_dir, random_instance)\n",
        "            label_path = os.path.join(dataset_dir, case, 'segmentation.nii.gz')\n",
        "\n",
        "            # Load the image and label\n",
        "            image = nib.load(image_path).get_fdata()\n",
        "            label = nib.load(label_path).get_fdata()\n",
        "\n",
        "            #print(np.unique(label))\n",
        "\n",
        "            # Preprocess (resize and normalize) the image and label\n",
        "            image, label = preprocess_data(image, label)\n",
        "\n",
        "            # One-hot encode the labels\n",
        "            #label = one_hot_encode(label, num_classes=num_classes)\n",
        "\n",
        "            batch_images.append(image)\n",
        "            batch_labels.append(label)\n",
        "\n",
        "        # Ensure batch size consistency\n",
        "        while len(batch_images) < batch_size:\n",
        "            # simply reuse the data from the current batch. This is a basic approach, may change it\n",
        "            batch_images.extend(batch_images[:batch_size - len(batch_images)])\n",
        "            batch_labels.extend(batch_labels[:batch_size - len(batch_labels)])\n",
        "\n",
        "        # Convert lists to numpy arrays and try to reshape them to ensure the consistency\n",
        "        batch_images = np.array(batch_images)\n",
        "        batch_labels = np.array(batch_labels)\n",
        "\n",
        "        # Print the shapes before reshaping\n",
        "        # print(\"Shapes before reshaping:\", batch_images.shape, batch_labels.shape)\n",
        "\n",
        "        # Now, try reshaping , problem here\n",
        "        try:\n",
        "            batch_images = batch_images.reshape((batch_size, *image_shape))\n",
        "            batch_labels = batch_labels.reshape((batch_size, *image_shape[:-1], num_classes))\n",
        "        except ValueError as e:\n",
        "            print(f\"Error reshaping for batch: {e}\")\n",
        "            print(\"Cases in the problematic batch:\", batch_cases)\n",
        "            continue  # Skip the problematic batch\n",
        "\n",
        "        yield (batch_images, batch_labels)"
      ],
      "metadata": {
        "id": "6d2t_T0WmhY5"
      },
      "execution_count": 11,
      "outputs": []
    },
    {
      "cell_type": "markdown",
      "source": [
        "#Splitting Dataset into Training and Validation"
      ],
      "metadata": {
        "id": "VloULHJlsj9W"
      }
    },
    {
      "cell_type": "code",
      "source": [
        "from sklearn.model_selection import train_test_split\n",
        "train_cases, val_cases = train_test_split(valid_cases, test_size=0.1)  # Split 10% for validation"
      ],
      "metadata": {
        "id": "hwN-ikSVsl93"
      },
      "execution_count": 12,
      "outputs": []
    },
    {
      "cell_type": "code",
      "source": [
        "print(train_cases)"
      ],
      "metadata": {
        "colab": {
          "base_uri": "https://localhost:8080/"
        },
        "id": "WoHlMQuO7QRl",
        "outputId": "ef848419-4aaa-4b76-bceb-75e278292489"
      },
      "execution_count": 14,
      "outputs": [
        {
          "output_type": "stream",
          "name": "stdout",
          "text": [
            "['case_585', 'case_15', 'case_7', 'case_26', 'case_14', 'case_19', 'case_584', 'case_11', 'case_586', 'case_2', 'case_587', 'case_3', 'case_8', 'case_28', 'case_27', 'case_29', 'case_579', 'case_24', 'case_58', 'case_9', 'case_583', 'case_0', 'case_25', 'case_6', 'case_13', 'case_17', 'case_22', 'case_1', 'case_588', 'case_582', 'case_16', 'case_23', 'case_4', 'case_18']\n"
          ]
        }
      ]
    },
    {
      "cell_type": "code",
      "source": [
        "batch_size = 2  #change this value if needed\n",
        "\n",
        "train_gen = data_generator(train_cases, dataset_dir, batch_size=batch_size)\n",
        "val_gen = data_generator(val_cases, dataset_dir, batch_size=batch_size)"
      ],
      "metadata": {
        "id": "kowpMMJksrGB"
      },
      "execution_count": 13,
      "outputs": []
    },
    {
      "cell_type": "code",
      "source": [
        "x, y = next(train_gen)\n",
        "print(x.shape, y.shape)"
      ],
      "metadata": {
        "id": "HmTZrGai89AN",
        "colab": {
          "base_uri": "https://localhost:8080/"
        },
        "outputId": "f9136c8b-46fd-455e-affd-72dfe82513f2"
      },
      "execution_count": 13,
      "outputs": [
        {
          "output_type": "stream",
          "name": "stdout",
          "text": [
            "(2, 128, 128, 64, 1) (2, 128, 128, 64, 4)\n"
          ]
        }
      ]
    },
    {
      "cell_type": "markdown",
      "source": [
        "#Model"
      ],
      "metadata": {
        "id": "nCkqQeQ6nkl0"
      }
    },
    {
      "cell_type": "markdown",
      "source": [
        "###Define the U-Net Model"
      ],
      "metadata": {
        "id": "pgbK3j-5nqGN"
      }
    },
    {
      "cell_type": "code",
      "source": [
        "from keras.models import Model\n",
        "from keras.layers import Input, Conv3D, MaxPooling3D, concatenate, Conv3DTranspose, BatchNormalization, Dropout, Lambda\n",
        "from keras.optimizers import Adam\n",
        "from keras.metrics import MeanIoU"
      ],
      "metadata": {
        "id": "0Y_quZTqnmpa"
      },
      "execution_count": 40,
      "outputs": []
    },
    {
      "cell_type": "code",
      "source": [
        "kernel_initializer =  'he_uniform'"
      ],
      "metadata": {
        "id": "_hqoNsNHKbkh"
      },
      "execution_count": 15,
      "outputs": []
    },
    {
      "cell_type": "code",
      "source": [
        "#https://github.com/bnsreenu/python_for_microscopists/blob/master/231_234_BraTa2020_Unet_segmentation/simple_3d_unet.py\n",
        "\n",
        "def simple_unet_model(IMG_HEIGHT, IMG_WIDTH, IMG_DEPTH, IMG_CHANNELS, num_classes):\n",
        "\n",
        "    #Build the model\n",
        "    inputs = Input((IMG_HEIGHT, IMG_WIDTH, IMG_DEPTH, IMG_CHANNELS))\n",
        "    #s = Lambda(lambda x: x / 255)(inputs)   #No need for this if we normalize our inputs beforehand\n",
        "    s = inputs\n",
        "\n",
        "    #Contraction path\n",
        "    c1 = Conv3D(16, (3, 3, 3), activation='relu', kernel_initializer=kernel_initializer, padding='same')(s)\n",
        "    c1 = Dropout(0.1)(c1)\n",
        "    c1 = Conv3D(16, (3, 3, 3), activation='relu', kernel_initializer=kernel_initializer, padding='same')(c1)\n",
        "    p1 = MaxPooling3D((2, 2, 2))(c1)\n",
        "\n",
        "    c2 = Conv3D(32, (3, 3, 3), activation='relu', kernel_initializer=kernel_initializer, padding='same')(p1)\n",
        "    c2 = Dropout(0.1)(c2)\n",
        "    c2 = Conv3D(32, (3, 3, 3), activation='relu', kernel_initializer=kernel_initializer, padding='same')(c2)\n",
        "    p2 = MaxPooling3D((2, 2, 2))(c2)\n",
        "\n",
        "    c3 = Conv3D(64, (3, 3, 3), activation='relu', kernel_initializer=kernel_initializer, padding='same')(p2)\n",
        "    c3 = Dropout(0.2)(c3)\n",
        "    c3 = Conv3D(64, (3, 3, 3), activation='relu', kernel_initializer=kernel_initializer, padding='same')(c3)\n",
        "    p3 = MaxPooling3D((2, 2, 2))(c3)\n",
        "\n",
        "    c4 = Conv3D(128, (3, 3, 3), activation='relu', kernel_initializer=kernel_initializer, padding='same')(p3)\n",
        "    c4 = Dropout(0.2)(c4)\n",
        "    c4 = Conv3D(128, (3, 3, 3), activation='relu', kernel_initializer=kernel_initializer, padding='same')(c4)\n",
        "    p4 = MaxPooling3D(pool_size=(2, 2, 2))(c4)\n",
        "\n",
        "    c5 = Conv3D(256, (3, 3, 3), activation='relu', kernel_initializer=kernel_initializer, padding='same')(p4)\n",
        "    c5 = Dropout(0.3)(c5)\n",
        "    c5 = Conv3D(256, (3, 3, 3), activation='relu', kernel_initializer=kernel_initializer, padding='same')(c5)\n",
        "\n",
        "    #Expansive path\n",
        "    u6 = Conv3DTranspose(128, (2, 2, 2), strides=(2, 2, 2), padding='same')(c5)\n",
        "    u6 = concatenate([u6, c4])\n",
        "    c6 = Conv3D(128, (3, 3, 3), activation='relu', kernel_initializer=kernel_initializer, padding='same')(u6)\n",
        "    c6 = Dropout(0.2)(c6)\n",
        "    c6 = Conv3D(128, (3, 3, 3), activation='relu', kernel_initializer=kernel_initializer, padding='same')(c6)\n",
        "\n",
        "    u7 = Conv3DTranspose(64, (2, 2, 2), strides=(2, 2, 2), padding='same')(c6)\n",
        "    u7 = concatenate([u7, c3])\n",
        "    c7 = Conv3D(64, (3, 3, 3), activation='relu', kernel_initializer=kernel_initializer, padding='same')(u7)\n",
        "    c7 = Dropout(0.2)(c7)\n",
        "    c7 = Conv3D(64, (3, 3, 3), activation='relu', kernel_initializer=kernel_initializer, padding='same')(c7)\n",
        "\n",
        "    u8 = Conv3DTranspose(32, (2, 2, 2), strides=(2, 2, 2), padding='same')(c7)\n",
        "    u8 = concatenate([u8, c2])\n",
        "    c8 = Conv3D(32, (3, 3, 3), activation='relu', kernel_initializer=kernel_initializer, padding='same')(u8)\n",
        "    c8 = Dropout(0.1)(c8)\n",
        "    c8 = Conv3D(32, (3, 3, 3), activation='relu', kernel_initializer=kernel_initializer, padding='same')(c8)\n",
        "\n",
        "    u9 = Conv3DTranspose(16, (2, 2, 2), strides=(2, 2, 2), padding='same')(c8)\n",
        "    u9 = concatenate([u9, c1])\n",
        "    c9 = Conv3D(16, (3, 3, 3), activation='relu', kernel_initializer=kernel_initializer, padding='same')(u9)\n",
        "    c9 = Dropout(0.1)(c9)\n",
        "    c9 = Conv3D(16, (3, 3, 3), activation='relu', kernel_initializer=kernel_initializer, padding='same')(c9)\n",
        "\n",
        "    outputs = Conv3D(num_classes, (1, 1, 1), activation='softmax')(c9)\n",
        "\n",
        "    model = Model(inputs=[inputs], outputs=[outputs])\n",
        "    #compile model outside of this function to make it flexible.\n",
        "    model.summary()\n",
        "\n",
        "    return model\n",
        "\n",
        "#Test if everything is working ok.\n",
        "model = simple_unet_model(128, 128, 64, 1, 4)\n",
        "print(model.input_shape)\n",
        "print(model.output_shape)"
      ],
      "metadata": {
        "colab": {
          "base_uri": "https://localhost:8080/"
        },
        "id": "v82FU1jkKMGj",
        "outputId": "2bc93fb5-3a29-40d6-bd53-f03ec0efe5a4"
      },
      "execution_count": 26,
      "outputs": [
        {
          "output_type": "stream",
          "name": "stdout",
          "text": [
            "Model: \"model_1\"\n",
            "__________________________________________________________________________________________________\n",
            " Layer (type)                Output Shape                 Param #   Connected to                  \n",
            "==================================================================================================\n",
            " input_2 (InputLayer)        [(None, 128, 128, 64, 1)]    0         []                            \n",
            "                                                                                                  \n",
            " conv3d_19 (Conv3D)          (None, 128, 128, 64, 16)     448       ['input_2[0][0]']             \n",
            "                                                                                                  \n",
            " dropout_9 (Dropout)         (None, 128, 128, 64, 16)     0         ['conv3d_19[0][0]']           \n",
            "                                                                                                  \n",
            " conv3d_20 (Conv3D)          (None, 128, 128, 64, 16)     6928      ['dropout_9[0][0]']           \n",
            "                                                                                                  \n",
            " max_pooling3d_4 (MaxPoolin  (None, 64, 64, 32, 16)       0         ['conv3d_20[0][0]']           \n",
            " g3D)                                                                                             \n",
            "                                                                                                  \n",
            " conv3d_21 (Conv3D)          (None, 64, 64, 32, 32)       13856     ['max_pooling3d_4[0][0]']     \n",
            "                                                                                                  \n",
            " dropout_10 (Dropout)        (None, 64, 64, 32, 32)       0         ['conv3d_21[0][0]']           \n",
            "                                                                                                  \n",
            " conv3d_22 (Conv3D)          (None, 64, 64, 32, 32)       27680     ['dropout_10[0][0]']          \n",
            "                                                                                                  \n",
            " max_pooling3d_5 (MaxPoolin  (None, 32, 32, 16, 32)       0         ['conv3d_22[0][0]']           \n",
            " g3D)                                                                                             \n",
            "                                                                                                  \n",
            " conv3d_23 (Conv3D)          (None, 32, 32, 16, 64)       55360     ['max_pooling3d_5[0][0]']     \n",
            "                                                                                                  \n",
            " dropout_11 (Dropout)        (None, 32, 32, 16, 64)       0         ['conv3d_23[0][0]']           \n",
            "                                                                                                  \n",
            " conv3d_24 (Conv3D)          (None, 32, 32, 16, 64)       110656    ['dropout_11[0][0]']          \n",
            "                                                                                                  \n",
            " max_pooling3d_6 (MaxPoolin  (None, 16, 16, 8, 64)        0         ['conv3d_24[0][0]']           \n",
            " g3D)                                                                                             \n",
            "                                                                                                  \n",
            " conv3d_25 (Conv3D)          (None, 16, 16, 8, 128)       221312    ['max_pooling3d_6[0][0]']     \n",
            "                                                                                                  \n",
            " dropout_12 (Dropout)        (None, 16, 16, 8, 128)       0         ['conv3d_25[0][0]']           \n",
            "                                                                                                  \n",
            " conv3d_26 (Conv3D)          (None, 16, 16, 8, 128)       442496    ['dropout_12[0][0]']          \n",
            "                                                                                                  \n",
            " max_pooling3d_7 (MaxPoolin  (None, 8, 8, 4, 128)         0         ['conv3d_26[0][0]']           \n",
            " g3D)                                                                                             \n",
            "                                                                                                  \n",
            " conv3d_27 (Conv3D)          (None, 8, 8, 4, 256)         884992    ['max_pooling3d_7[0][0]']     \n",
            "                                                                                                  \n",
            " dropout_13 (Dropout)        (None, 8, 8, 4, 256)         0         ['conv3d_27[0][0]']           \n",
            "                                                                                                  \n",
            " conv3d_28 (Conv3D)          (None, 8, 8, 4, 256)         1769728   ['dropout_13[0][0]']          \n",
            "                                                                                                  \n",
            " conv3d_transpose_4 (Conv3D  (None, 16, 16, 8, 128)       262272    ['conv3d_28[0][0]']           \n",
            " Transpose)                                                                                       \n",
            "                                                                                                  \n",
            " concatenate_4 (Concatenate  (None, 16, 16, 8, 256)       0         ['conv3d_transpose_4[0][0]',  \n",
            " )                                                                   'conv3d_26[0][0]']           \n",
            "                                                                                                  \n",
            " conv3d_29 (Conv3D)          (None, 16, 16, 8, 128)       884864    ['concatenate_4[0][0]']       \n",
            "                                                                                                  \n",
            " dropout_14 (Dropout)        (None, 16, 16, 8, 128)       0         ['conv3d_29[0][0]']           \n",
            "                                                                                                  \n",
            " conv3d_30 (Conv3D)          (None, 16, 16, 8, 128)       442496    ['dropout_14[0][0]']          \n",
            "                                                                                                  \n",
            " conv3d_transpose_5 (Conv3D  (None, 32, 32, 16, 64)       65600     ['conv3d_30[0][0]']           \n",
            " Transpose)                                                                                       \n",
            "                                                                                                  \n",
            " concatenate_5 (Concatenate  (None, 32, 32, 16, 128)      0         ['conv3d_transpose_5[0][0]',  \n",
            " )                                                                   'conv3d_24[0][0]']           \n",
            "                                                                                                  \n",
            " conv3d_31 (Conv3D)          (None, 32, 32, 16, 64)       221248    ['concatenate_5[0][0]']       \n",
            "                                                                                                  \n",
            " dropout_15 (Dropout)        (None, 32, 32, 16, 64)       0         ['conv3d_31[0][0]']           \n",
            "                                                                                                  \n",
            " conv3d_32 (Conv3D)          (None, 32, 32, 16, 64)       110656    ['dropout_15[0][0]']          \n",
            "                                                                                                  \n",
            " conv3d_transpose_6 (Conv3D  (None, 64, 64, 32, 32)       16416     ['conv3d_32[0][0]']           \n",
            " Transpose)                                                                                       \n",
            "                                                                                                  \n",
            " concatenate_6 (Concatenate  (None, 64, 64, 32, 64)       0         ['conv3d_transpose_6[0][0]',  \n",
            " )                                                                   'conv3d_22[0][0]']           \n",
            "                                                                                                  \n",
            " conv3d_33 (Conv3D)          (None, 64, 64, 32, 32)       55328     ['concatenate_6[0][0]']       \n",
            "                                                                                                  \n",
            " dropout_16 (Dropout)        (None, 64, 64, 32, 32)       0         ['conv3d_33[0][0]']           \n",
            "                                                                                                  \n",
            " conv3d_34 (Conv3D)          (None, 64, 64, 32, 32)       27680     ['dropout_16[0][0]']          \n",
            "                                                                                                  \n",
            " conv3d_transpose_7 (Conv3D  (None, 128, 128, 64, 16)     4112      ['conv3d_34[0][0]']           \n",
            " Transpose)                                                                                       \n",
            "                                                                                                  \n",
            " concatenate_7 (Concatenate  (None, 128, 128, 64, 32)     0         ['conv3d_transpose_7[0][0]',  \n",
            " )                                                                   'conv3d_20[0][0]']           \n",
            "                                                                                                  \n",
            " conv3d_35 (Conv3D)          (None, 128, 128, 64, 16)     13840     ['concatenate_7[0][0]']       \n",
            "                                                                                                  \n",
            " dropout_17 (Dropout)        (None, 128, 128, 64, 16)     0         ['conv3d_35[0][0]']           \n",
            "                                                                                                  \n",
            " conv3d_36 (Conv3D)          (None, 128, 128, 64, 16)     6928      ['dropout_17[0][0]']          \n",
            "                                                                                                  \n",
            " conv3d_37 (Conv3D)          (None, 128, 128, 64, 4)      68        ['conv3d_36[0][0]']           \n",
            "                                                                                                  \n",
            "==================================================================================================\n",
            "Total params: 5644964 (21.53 MB)\n",
            "Trainable params: 5644964 (21.53 MB)\n",
            "Non-trainable params: 0 (0.00 Byte)\n",
            "__________________________________________________________________________________________________\n",
            "(None, 128, 128, 64, 1)\n",
            "(None, 128, 128, 64, 4)\n"
          ]
        }
      ]
    },
    {
      "cell_type": "markdown",
      "source": [
        "##Define Losses, Metrics and Optimisers"
      ],
      "metadata": {
        "id": "4xIbfAN6o8RU"
      }
    },
    {
      "cell_type": "code",
      "source": [
        "def dice_loss(y_true, y_pred, smooth=1):\n",
        "    intersection = np.sum(y_true * y_pred, axis=[1, 2, 3, 4])\n",
        "    union = np.sum(y_true, axis=[1, 2, 3, 4]) + np.sum(y_pred, axis=[1, 2, 3, 4])\n",
        "    dice = (2.0 * intersection + smooth) / (union + smooth)\n",
        "    return 1 - np.mean(dice)"
      ],
      "metadata": {
        "id": "smeasEqBTYOS"
      },
      "execution_count": 30,
      "outputs": []
    },
    {
      "cell_type": "code",
      "source": [
        "# https://saturncloud.io/blog/implementing-generalized-dice-loss-for-multiclass-segmentation-in-keras/\n",
        "\n",
        "def generalized_dice_loss(y_true, y_pred):\n",
        "    # Define epsilon to prevent division by zero\n",
        "    epsilon = tf.keras.backend.epsilon()\n",
        "\n",
        "    # Calculate the sum of y_true and y_pred for each class\n",
        "    y_true_sum = tf.reduce_sum(y_true, axis=[0, 1, 2, 3, 4])\n",
        "    y_pred_sum = tf.reduce_sum(y_pred, axis=[0, 1, 2, 3, 4])\n",
        "\n",
        "    # Calculate the intersection and union of y_true and y_pred\n",
        "    intersection = tf.reduce_sum(y_true * y_pred, axis=[0, 1, 2, 3, 4])\n",
        "    union = y_true_sum + y_pred_sum\n",
        "\n",
        "    # Calculate the Dice coefficient for each class\n",
        "    dice = (2. * intersection + epsilon) / (union + epsilon)\n",
        "\n",
        "    # Calculate the weight for each class\n",
        "    weight = 1. / ((y_true_sum**2) + epsilon)\n",
        "\n",
        "    # Calculate the generalized Dice loss\n",
        "    generalized_dice = tf.reduce_sum(weight * dice)\n",
        "    generalized_dice_loss = 1. - (2. * generalized_dice)\n",
        "\n",
        "    return generalized_dice_loss"
      ],
      "metadata": {
        "id": "3F2EYdKjwZnU"
      },
      "execution_count": 34,
      "outputs": []
    },
    {
      "cell_type": "code",
      "source": [
        "# https://stackoverflow.com/questions/66023106/how-to-create-hybrid-loss-consisting-from-dice-loss-and-focal-loss-python\n",
        "\n",
        "def dice_coef(y_true, y_pred, smooth=1e-16):\n",
        "    y_true_f = tf.nest.flatten(y_true)\n",
        "    y_pred_f = tf.nest.flatten(y_pred)\n",
        "    intersection = tf.math.reduce_sum(tf.math.multiply(y_true_f, y_pred_f))\n",
        "    return (2. * intersection + smooth) / (tf.math.reduce_sum(y_true_f) + tf.math.reduce_sum(y_pred_f) + smooth)\n",
        "\n",
        "def dice_coef_multilabel(y_true, y_pred, numLabels=4):\n",
        "    dice=0\n",
        "    for index in range(numLabels):\n",
        "        dice -= dice_coef(y_true[..., index], y_pred[..., index])\n",
        "    return numLabels + dice"
      ],
      "metadata": {
        "id": "1tHkJBZg2KXM"
      },
      "execution_count": 44,
      "outputs": []
    },
    {
      "cell_type": "code",
      "source": [
        "# It would be ideal to use IOUScore as another metric\n",
        "metrics = ['accuracy', keras.metrics.MeanIoU(4)]"
      ],
      "metadata": {
        "id": "0XeS-dUtUwAf"
      },
      "execution_count": 48,
      "outputs": []
    },
    {
      "cell_type": "code",
      "source": [
        "STEPS_PER_EPOCH = len(train_cases) // batch_size\n",
        "lr = 0.0001\n",
        "\n",
        "lr_schedule = tf.keras.optimizers.schedules.InverseTimeDecay(\n",
        "  lr,\n",
        "  decay_steps=STEPS_PER_EPOCH*1000,\n",
        "  decay_rate=10,\n",
        "  staircase=False)\n",
        "\n",
        "optimizer_Adam = Adam(learning_rate=lr_schedule)"
      ],
      "metadata": {
        "id": "CI7vOO2F0tnC"
      },
      "execution_count": 37,
      "outputs": []
    },
    {
      "cell_type": "markdown",
      "source": [
        "#Train Model"
      ],
      "metadata": {
        "id": "0c1zY6Qps-Fd"
      }
    },
    {
      "cell_type": "markdown",
      "source": [
        "## Set Up Callbacks"
      ],
      "metadata": {
        "id": "4sj-dlIn77Eo"
      }
    },
    {
      "cell_type": "code",
      "source": [
        "def create_model_cp_dir(model_name):\n",
        "  parent_directory = \"/content/drive/MyDrive/kits23-sample/CheckPointing\"\n",
        "  leaf_directory = parent_directory + model_name + \"/\"\n",
        "  full_directory = leaf_directory + model_name + \".{epoch:04d}-{val_loss:.4f}.ckpt\"\n",
        "  if not os.path.exists(leaf_directory):\n",
        "    os.mkdir(leaf_directory)\n",
        "  return full_directory\n",
        "\n",
        "def create_saved_model_dir(model_name):\n",
        "  parent_directory = \"/content/drive/MyDrive/kits23-sample/SavedModels\"\n",
        "  leaf_directory = parent_directory + model_name + \"/\"\n",
        "  full_directory = leaf_directory + model_name + \".h5\"\n",
        "  if not os.path.exists(leaf_directory):\n",
        "    os.mkdir(leaf_directory)\n",
        "  return full_directory\n",
        "\n",
        "def get_callbacks(model_name):\n",
        "  return [\n",
        "    # tf.keras.callbacks.TensorBoard(logdir/str(model_name), histogram_freq=1),\n",
        "    tf.keras.callbacks.ModelCheckpoint(create_model_cp_dir(model_name),\n",
        "                                                 save_weights_only=True,\n",
        "                                                 verbose=1,\n",
        "                                                 monitor = 'val_loss',\n",
        "                                                 mode = 'min',\n",
        "                                                 save_best_only = True),\n",
        "    tf.keras.callbacks.EarlyStopping(monitor='val_loss', patience=5)\n",
        "  ]"
      ],
      "metadata": {
        "id": "HDbqTt5Q7-Q5"
      },
      "execution_count": 51,
      "outputs": []
    },
    {
      "cell_type": "code",
      "source": [
        "# Number of steps per epoch should be the number of batches of data  per epoch\n",
        "steps_per_epoch = len(train_cases) // batch_size\n",
        "validation_steps = len(val_cases) // batch_size  # similar calculation for validation data"
      ],
      "metadata": {
        "id": "SXI251C7tAoW"
      },
      "execution_count": 42,
      "outputs": []
    },
    {
      "cell_type": "markdown",
      "source": [
        "## Compile Model"
      ],
      "metadata": {
        "id": "4yr2e0RNVqUl"
      }
    },
    {
      "cell_type": "code",
      "source": [
        "# We should include callbacks e.g. Early Stopping\n",
        "model.compile(optimizer = optimizer_Adam, loss=dice_coef_multilabel, metrics=metrics)"
      ],
      "metadata": {
        "id": "hh079eSVVtgd"
      },
      "execution_count": 49,
      "outputs": []
    },
    {
      "cell_type": "code",
      "source": [
        "history=model.fit(train_gen,\n",
        "          steps_per_epoch=steps_per_epoch,\n",
        "          epochs=10,\n",
        "          verbose=2,\n",
        "          validation_data=val_gen,\n",
        "          validation_steps=validation_steps,\n",
        "          )"
      ],
      "metadata": {
        "colab": {
          "base_uri": "https://localhost:8080/"
        },
        "id": "fzUPpWjktKKQ",
        "outputId": "a500d8a5-c273-49e4-8cca-c9b16eed5862"
      },
      "execution_count": 50,
      "outputs": [
        {
          "output_type": "stream",
          "name": "stdout",
          "text": [
            "Epoch 1/10\n",
            "17/17 - 160s - loss: 3.5959 - accuracy: 0.0771 - mean_io_u: 0.3750 - val_loss: 3.5457 - val_accuracy: 0.3469 - val_mean_io_u: 0.3750 - 160s/epoch - 9s/step\n",
            "Epoch 2/10\n",
            "17/17 - 142s - loss: 3.3051 - accuracy: 0.5342 - mean_io_u: 0.4825 - val_loss: 3.0722 - val_accuracy: 0.8630 - val_mean_io_u: 0.7934 - 142s/epoch - 8s/step\n",
            "Epoch 3/10\n",
            "17/17 - 118s - loss: 3.0431 - accuracy: 0.9011 - mean_io_u: 0.8754 - val_loss: 3.0101 - val_accuracy: 0.9668 - val_mean_io_u: 0.9544 - 118s/epoch - 7s/step\n",
            "Epoch 4/10\n",
            "17/17 - 108s - loss: 3.0093 - accuracy: 0.9630 - mean_io_u: 0.9520 - val_loss: 3.0053 - val_accuracy: 0.9840 - val_mean_io_u: 0.9785 - 108s/epoch - 6s/step\n",
            "Epoch 5/10\n",
            "17/17 - 124s - loss: 3.0089 - accuracy: 0.9799 - mean_io_u: 0.9735 - val_loss: 3.0051 - val_accuracy: 0.9898 - val_mean_io_u: 0.9862 - 124s/epoch - 7s/step\n",
            "Epoch 6/10\n",
            "17/17 - 107s - loss: 3.0077 - accuracy: 0.9845 - mean_io_u: 0.9796 - val_loss: 3.0035 - val_accuracy: 0.9931 - val_mean_io_u: 0.9904 - 107s/epoch - 6s/step\n",
            "Epoch 7/10\n",
            "17/17 - 130s - loss: 3.0065 - accuracy: 0.9870 - mean_io_u: 0.9828 - val_loss: 3.0029 - val_accuracy: 0.9943 - val_mean_io_u: 0.9921 - 130s/epoch - 8s/step\n",
            "Epoch 8/10\n",
            "17/17 - 118s - loss: 3.0052 - accuracy: 0.9896 - mean_io_u: 0.9862 - val_loss: 3.0032 - val_accuracy: 0.9936 - val_mean_io_u: 0.9913 - 118s/epoch - 7s/step\n",
            "Epoch 9/10\n",
            "17/17 - 153s - loss: 3.0054 - accuracy: 0.9892 - mean_io_u: 0.9857 - val_loss: 3.0027 - val_accuracy: 0.9946 - val_mean_io_u: 0.9925 - 153s/epoch - 9s/step\n",
            "Epoch 10/10\n",
            "17/17 - 115s - loss: 3.0053 - accuracy: 0.9895 - mean_io_u: 0.9860 - val_loss: 3.0040 - val_accuracy: 0.9920 - val_mean_io_u: 0.9892 - 115s/epoch - 7s/step\n"
          ]
        }
      ]
    },
    {
      "cell_type": "markdown",
      "source": [
        "# Plot Metrics"
      ],
      "metadata": {
        "id": "V_zXD-YHZiV6"
      }
    },
    {
      "cell_type": "code",
      "source": [
        "loss = history.history['loss']\n",
        "val_loss = history.history['val_loss']\n",
        "epochs = range(1, len(loss) + 1)\n",
        "plt.plot(epochs, loss, 'y', label='Training loss')\n",
        "plt.plot(epochs, val_loss, 'r', label='Validation loss')\n",
        "plt.title('Training and validation loss')\n",
        "plt.xlabel('Epochs')\n",
        "plt.ylabel('Loss')\n",
        "plt.legend()\n",
        "plt.show()\n",
        "\n",
        "acc = history.history['accuracy']\n",
        "val_acc = history.history['val_accuracy']\n",
        "\n",
        "plt.plot(epochs, acc, 'y', label='Training accuracy')\n",
        "plt.plot(epochs, val_acc, 'r', label='Validation accuracy')\n",
        "plt.title('Training and validation accuracy')\n",
        "plt.xlabel('Epochs')\n",
        "plt.ylabel('Accuracy')\n",
        "plt.legend()\n",
        "plt.show()\n",
        "\n"
      ],
      "metadata": {
        "colab": {
          "base_uri": "https://localhost:8080/",
          "height": 927
        },
        "id": "Z-_gE3xtZmYC",
        "outputId": "46817ac3-9a68-4228-e9fc-32bd54c7cfa2"
      },
      "execution_count": 52,
      "outputs": [
        {
          "output_type": "display_data",
          "data": {
            "text/plain": [
              "<Figure size 640x480 with 1 Axes>"
            ],
            "image/png": "[encoded data removed]"
          },
          "metadata": {}
        },
        {
          "output_type": "display_data",
          "data": {
            "text/plain": [
              "<Figure size 640x480 with 1 Axes>"
            ],
            "image/png": "[encoded data removed]"
          },
          "metadata": {}
        }
      ]
    }
  ]
}