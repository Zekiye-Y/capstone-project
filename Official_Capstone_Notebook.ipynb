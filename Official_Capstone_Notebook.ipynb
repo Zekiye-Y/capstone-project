{
  "nbformat": 4,
  "nbformat_minor": 0,
  "metadata": {
    "colab": {
      "provenance": [],
      "gpuType": "T4"
    },
    "kernelspec": {
      "name": "python3",
      "display_name": "Python 3"
    },
    "language_info": {
      "name": "python"
    },
    "accelerator": "GPU"
  },
  "cells": [
    {
      "cell_type": "code",
      "source": [
        "import os\n",
        "os.environ[\"KERAS_BACKEND\"] = \"tensorflow\"\n",
        "import numpy as np\n",
        "import nibabel as nib\n",
        "import matplotlib.pyplot as plt\n",
        "from google.colab import drive\n",
        "import keras\n",
        "import tensorflow as tf\n",
        "from scipy.ndimage import zoom"
      ],
      "metadata": {
        "id": "089nLKbwffad"
      },
      "execution_count": 22,
      "outputs": []
    },
    {
      "cell_type": "code",
      "source": [
        "tf.__version__"
      ],
      "metadata": {
        "colab": {
          "base_uri": "https://localhost:8080/",
          "height": 35
        },
        "id": "L-gIbTkEPRa1",
        "outputId": "ac5d7e34-f50e-4c00-d800-1daf41ecf096"
      },
      "execution_count": 43,
      "outputs": [
        {
          "output_type": "execute_result",
          "data": {
            "text/plain": [
              "'2.13.0'"
            ],
            "application/vnd.google.colaboratory.intrinsic+json": {
              "type": "string"
            }
          },
          "metadata": {},
          "execution_count": 43
        }
      ]
    },
    {
      "cell_type": "code",
      "source": [
        "keras.__version__"
      ],
      "metadata": {
        "colab": {
          "base_uri": "https://localhost:8080/",
          "height": 35
        },
        "id": "RzgyT4-yT6U4",
        "outputId": "38ce7e37-5438-4630-9a24-06f884c58d3e"
      },
      "execution_count": 15,
      "outputs": [
        {
          "output_type": "execute_result",
          "data": {
            "text/plain": [
              "'2.13.1'"
            ],
            "application/vnd.google.colaboratory.intrinsic+json": {
              "type": "string"
            }
          },
          "metadata": {},
          "execution_count": 15
        }
      ]
    },
    {
      "cell_type": "code",
      "execution_count": 7,
      "metadata": {
        "id": "7wM9fXAED0KL",
        "colab": {
          "base_uri": "https://localhost:8080/"
        },
        "outputId": "ea978486-f4a1-4c09-e5d5-dba22e4b56e4"
      },
      "outputs": [
        {
          "output_type": "stream",
          "name": "stdout",
          "text": [
            "Mounted at /content/drive\n"
          ]
        }
      ],
      "source": [
        "drive.mount('/content/drive')"
      ]
    },
    {
      "cell_type": "code",
      "source": [
        "dataset_dir = \"/content/drive/MyDrive/kits23-sample/dataset\"\n",
        "dataset_folder_path = '/content/drive/MyDrive/kits23-sample/dataset'"
      ],
      "metadata": {
        "id": "znH7W5eIE9aH"
      },
      "execution_count": 5,
      "outputs": []
    },
    {
      "cell_type": "code",
      "source": [
        "import os\n",
        "def list_files(startpath):\n",
        "    for root, dirs, files in os.walk(startpath):\n",
        "        level = root.replace(startpath, '').count(os.sep)\n",
        "        indent = ' ' * 4 * (level)\n",
        "        print('{}{}/'.format(indent, os.path.basename(root)))\n",
        "        sub_indent = ' ' * 4 * (level + 1)\n",
        "        for f in files:\n",
        "            print('{}{}'.format(sub_indent, f))\n",
        "\n",
        "list_files(dataset_folder_path)"
      ],
      "metadata": {
        "id": "UkTd8peleEil"
      },
      "execution_count": null,
      "outputs": []
    },
    {
      "cell_type": "code",
      "source": [
        "#!pip install nibabel"
      ],
      "metadata": {
        "id": "GjSGDN77ZZjl",
        "colab": {
          "base_uri": "https://localhost:8080/"
        },
        "outputId": "7b5257a4-d654-4b5c-cca2-76d2066fed21"
      },
      "execution_count": 5,
      "outputs": [
        {
          "output_type": "stream",
          "name": "stdout",
          "text": [
            "Requirement already satisfied: nibabel in /usr/local/lib/python3.10/dist-packages (4.0.2)\n",
            "Requirement already satisfied: numpy>=1.17 in /usr/local/lib/python3.10/dist-packages (from nibabel) (1.23.5)\n",
            "Requirement already satisfied: packaging>=17.0 in /usr/local/lib/python3.10/dist-packages (from nibabel) (23.1)\n",
            "Requirement already satisfied: setuptools in /usr/local/lib/python3.10/dist-packages (from nibabel) (67.7.2)\n"
          ]
        }
      ]
    },
    {
      "cell_type": "code",
      "source": [
        "def get_all_case_dirs(root_path):\n",
        "    \"\"\"Get all case directories under the root path.\"\"\"\n",
        "    paths = [os.path.join(root_path, d) for d in os.listdir(root_path) if os.path.isdir(os.path.join(root_path, d))]\n",
        "    return paths\n",
        "\n",
        "def safe_load_nii_gz_data(case_path, filename):\n",
        "    \"\"\"Load .nii.gz data using nibabel, return None if file doesn't exist.\"\"\"\n",
        "    file_path = os.path.join(case_path, filename)\n",
        "    if os.path.exists(file_path):\n",
        "        nii_data = nib.load(file_path)\n",
        "        return nii_data.get_fdata()\n",
        "    else:\n",
        "        print(f\"File {file_path} not found.\")\n",
        "        return None\n",
        "\n",
        "def visualize_slice(data, slice_index):\n",
        "    \"\"\"Visualize a slice of the 3D data.\"\"\"\n",
        "    plt.imshow(data[slice_index, :, :].T, cmap=\"gray\")\n",
        "    plt.axis('off')\n",
        "    plt.show()\n",
        "\n"
      ],
      "metadata": {
        "id": "zFwLPIgUflDT"
      },
      "execution_count": 5,
      "outputs": []
    },
    {
      "cell_type": "code",
      "source": [
        "all_case_dirs = get_all_case_dirs(dataset_dir)\n",
        "\n",
        "# Loading segmentations for the first few cases and visualize the first one that works\n",
        "for case_dir in all_case_dirs[:10]:  # only testing first 10 for quick verification\n",
        "    if case_dir.endswith('.ipynb_checkpoints') : continue\n",
        "    segmentation_data = safe_load_nii_gz_data(\"/content/drive/MyDrive/kits23-sample/dataset/case_4\", \"segmentation.nii.gz\")\n",
        "    if segmentation_data is not None:\n",
        "        visualize_slice(segmentation_data, 50)\n",
        "        break\n"
      ],
      "metadata": {
        "colab": {
          "base_uri": "https://localhost:8080/",
          "height": 406
        },
        "id": "Y1owBRZZfox2",
        "outputId": "a5f6d34c-e9a1-4d40-b4c8-7726ff051381"
      },
      "execution_count": 6,
      "outputs": [
        {
          "output_type": "display_data",
          "data": {
            "text/plain": [
              "<Figure size 640x480 with 1 Axes>"
            ],
            "image/png": "[encoded data removed]"
          },
          "metadata": {}
        }
      ]
    },
    {
      "cell_type": "code",
      "source": [
        "# Loading segmentations for the first few cases and visualize the first one that works\n",
        "for case_dir in all_case_dirs[:10]:  # only testing first 10 for quick verification\n",
        "    if case_dir.endswith('.ipynb_checkpoints') : continue\n",
        "    segmentation_data = safe_load_nii_gz_data(\"/content/drive/MyDrive/kits23-sample/dataset/case_4\", \"imaging.nii.gz\")\n",
        "    if segmentation_data is not None:\n",
        "        visualize_slice(segmentation_data, 60)\n",
        "        break"
      ],
      "metadata": {
        "colab": {
          "base_uri": "https://localhost:8080/",
          "height": 406
        },
        "id": "FF4Nl2NJ2wja",
        "outputId": "aa565504-5ff6-4a03-9eb5-9edfb4ea8393"
      },
      "execution_count": 7,
      "outputs": [
        {
          "output_type": "display_data",
          "data": {
            "text/plain": [
              "<Figure size 640x480 with 1 Axes>"
            ],
            "image/png": "[encoded data removed]"
          },
          "metadata": {}
        }
      ]
    },
    {
      "cell_type": "code",
      "source": [
        "# Loading segmentations for the first few cases and visualize the first one that works\n",
        "for case_dir in all_case_dirs[:10]:  # only testing first 10 for quick verification\n",
        "    if case_dir.endswith('.ipynb_checkpoints') : continue\n",
        "    segmentation_data = safe_load_nii_gz_data(\"/content/drive/MyDrive/kits23-sample/dataset/case_4/instances\", \"tumor_instance-1_annotation-1.nii.gz\")\n",
        "    if segmentation_data is not None:\n",
        "        visualize_slice(segmentation_data, 60)\n",
        "        break"
      ],
      "metadata": {
        "colab": {
          "base_uri": "https://localhost:8080/",
          "height": 406
        },
        "id": "-yF8yco5-Agb",
        "outputId": "961ef410-c39b-4f9c-8fd3-bb923b732111"
      },
      "execution_count": 8,
      "outputs": [
        {
          "output_type": "display_data",
          "data": {
            "text/plain": [
              "<Figure size 640x480 with 1 Axes>"
            ],
            "image/png": "[encoded data removed]"
          },
          "metadata": {}
        }
      ]
    },
    {
      "cell_type": "code",
      "source": [
        "seg_file = nib.load(\"/content/drive/MyDrive/kits23-sample/dataset/case_4/segmentation.nii.gz\").get_fdata()\n",
        "seg_file = seg_file.astype(np.uint8)\n",
        "\n",
        "print(np.unique(seg_file))"
      ],
      "metadata": {
        "colab": {
          "base_uri": "https://localhost:8080/"
        },
        "id": "hOUB8GKMYaIC",
        "outputId": "b423d956-0ca2-4657-dc6e-f6b81f0c3995"
      },
      "execution_count": 9,
      "outputs": [
        {
          "output_type": "stream",
          "name": "stdout",
          "text": [
            "[0 1 2]\n"
          ]
        }
      ]
    },
    {
      "cell_type": "code",
      "source": [
        "#!python \"/content/drive/MyDrive/kits23-sample/kits23/annotation/visualize.py\" -c case_0 -d \"/content/drive/MyDrive/kits23-sample/dataset/case_0/png_axial_view\""
      ],
      "metadata": {
        "colab": {
          "base_uri": "https://localhost:8080/"
        },
        "id": "jtDb5UnIGqaB",
        "outputId": "a1e71fbc-129c-4ad2-9398-a185164ed698"
      },
      "execution_count": 43,
      "outputs": [
        {
          "output_type": "stream",
          "name": "stdout",
          "text": [
            "/content/drive/MyDrive/kits23-sample/kits23/annotation/visualize.py:81: DeprecationWarning: get_data() is deprecated in favor of get_fdata(), which has a more predictable return type. To obtain get_data() behavior going forward, use numpy.asanyarray(img.dataobj).\n",
            "\n",
            "* deprecated from version: 3.0\n",
            "* Will raise <class 'nibabel.deprecator.ExpiredDeprecationError'> as of version: 5.0\n",
            "  vol = vol.get_data()\n",
            "/content/drive/MyDrive/kits23-sample/kits23/annotation/visualize.py:82: DeprecationWarning: get_data() is deprecated in favor of get_fdata(), which has a more predictable return type. To obtain get_data() behavior going forward, use numpy.asanyarray(img.dataobj).\n",
            "\n",
            "* deprecated from version: 3.0\n",
            "* Will raise <class 'nibabel.deprecator.ExpiredDeprecationError'> as of version: 5.0\n",
            "  seg = seg.get_data()\n"
          ]
        }
      ]
    },
    {
      "cell_type": "markdown",
      "source": [
        "#Filtering Out Incomplete Data"
      ],
      "metadata": {
        "id": "T72Nb1RhhrT0"
      }
    },
    {
      "cell_type": "markdown",
      "source": [
        "### Data Preparation"
      ],
      "metadata": {
        "id": "WTarGcskhyPS"
      }
    },
    {
      "cell_type": "markdown",
      "source": [
        "####Cleaning the dataset by identifying and removing any cases that lack the segmentation.nii.gz file. If a case lacks segmentation.nii.gz, it implies that we don't have a reference segmentation for that particular case, making it unsuitable for training (since we wouldn't have a ground truth to compare the model's output to)."
      ],
      "metadata": {
        "id": "Aoh9CT8uq80r"
      }
    },
    {
      "cell_type": "code",
      "source": [
        "# Helper function to determine if a directory contains at least one instance (kidney, tumor, or cyst)\n",
        "def contains_instance(case_dir):\n",
        "    instance_files = os.listdir(case_dir)\n",
        "    for filename in instance_files:\n",
        "        if filename.startswith((\"kidney\", \"tumor\", \"cyst\")):\n",
        "            return True\n",
        "    return False\n"
      ],
      "metadata": {
        "id": "2rpKAlhOxHbb"
      },
      "execution_count": 3,
      "outputs": []
    },
    {
      "cell_type": "code",
      "source": [
        "# List all cases\n",
        "all_cases = [d for d in os.listdir(dataset_dir) if os.path.isdir(os.path.join(dataset_dir, d))]"
      ],
      "metadata": {
        "id": "_F8MMoTZ2weL"
      },
      "execution_count": 8,
      "outputs": []
    },
    {
      "cell_type": "code",
      "source": [
        "# Filter cases that have segmentation.nii.gz and at least one instance\n",
        "valid_cases = [\n",
        "    case\n",
        "    for case in all_cases\n",
        "    if os.path.exists(os.path.join(dataset_dir, case, \"segmentation.nii.gz\")) and\n",
        "    contains_instance(os.path.join(dataset_dir, case, \"instances\"))\n",
        "]\n",
        "\n",
        "print(f\"Total cases: {len(all_cases)}\")\n",
        "print(f\"Valid cases with segmentation and at least one instance: {len(valid_cases)}\")\n",
        "\n"
      ],
      "metadata": {
        "colab": {
          "base_uri": "https://localhost:8080/"
        },
        "id": "tTIJIgt6xPNE",
        "outputId": "a4746970-5f7f-47e0-c296-056548e2ff1e"
      },
      "execution_count": 9,
      "outputs": [
        {
          "output_type": "stream",
          "name": "stdout",
          "text": [
            "Total cases: 39\n",
            "Valid cases with segmentation and at least one instance: 38\n"
          ]
        }
      ]
    },
    {
      "cell_type": "code",
      "source": [
        "# Print the names of the valid cases in order\n",
        "print(\"\\nNames of valid cases:\")\n",
        "for case_name in sorted(valid_cases):\n",
        "    print(case_name)\n"
      ],
      "metadata": {
        "colab": {
          "base_uri": "https://localhost:8080/"
        },
        "id": "o8zyXwtXwjsK",
        "outputId": "1dda06e3-a8ac-4160-ddb0-4e53f7873c0b"
      },
      "execution_count": 23,
      "outputs": [
        {
          "output_type": "stream",
          "name": "stdout",
          "text": [
            "\n",
            "Names of valid cases:\n",
            "case_0\n",
            "case_1\n",
            "case_11\n",
            "case_12\n",
            "case_13\n",
            "case_14\n",
            "case_15\n",
            "case_16\n",
            "case_17\n",
            "case_18\n",
            "case_19\n",
            "case_2\n",
            "case_21\n",
            "case_22\n",
            "case_23\n",
            "case_24\n",
            "case_25\n",
            "case_26\n",
            "case_27\n",
            "case_28\n",
            "case_29\n",
            "case_3\n",
            "case_4\n",
            "case_5\n",
            "case_579\n",
            "case_58\n",
            "case_581\n",
            "case_582\n",
            "case_583\n",
            "case_584\n",
            "case_585\n",
            "case_586\n",
            "case_587\n",
            "case_588\n",
            "case_6\n",
            "case_7\n",
            "case_8\n",
            "case_9\n"
          ]
        }
      ]
    },
    {
      "cell_type": "code",
      "source": [
        "set(all_cases) - set(valid_cases)"
      ],
      "metadata": {
        "colab": {
          "base_uri": "https://localhost:8080/"
        },
        "id": "k4B4gB1s6PBr",
        "outputId": "9ea3319e-a351-429f-dd6b-53cf51d9d58e"
      },
      "execution_count": 13,
      "outputs": [
        {
          "output_type": "execute_result",
          "data": {
            "text/plain": [
              "{'.ipynb_checkpoints'}"
            ]
          },
          "metadata": {},
          "execution_count": 13
        }
      ]
    },
    {
      "cell_type": "markdown",
      "source": [
        "#Data Preprocessing"
      ],
      "metadata": {
        "id": "eGdzbYZXr7zg"
      }
    },
    {
      "cell_type": "code",
      "source": [
        "#!! Need to change to 'to_categorical' using TF\n",
        "\n",
        "def one_hot_encode(segmentation, num_classes):\n",
        "    \"\"\"\n",
        "    One hot encodes the segmentation mask.\n",
        "    Args:\n",
        "    - segmentation : numpy array, the segmentation mask\n",
        "    - num_classes : int, number of classes\n",
        "    Returns:\n",
        "    - one_hot : numpy array, the one-hot encoded mask\n",
        "    \"\"\"\n",
        "    one_hot = np.zeros((*segmentation.shape, num_classes))\n",
        "    for i in range(num_classes):\n",
        "        one_hot[..., i] = (segmentation == i)\n",
        "    return one_hot\n"
      ],
      "metadata": {
        "id": "I8iAFt2e5EYw"
      },
      "execution_count": 10,
      "outputs": []
    },
    {
      "cell_type": "code",
      "source": [
        "def preprocess_data(image, label, num_classes=4):\n",
        "    \"\"\"\n",
        "    Preprocesses the image and label:\n",
        "    - Resizes to the target shape.\n",
        "    - Normalizes the image to [0, 1] range.\n",
        "    - One-hot encodes the label.\n",
        "\n",
        "    Parameters:\n",
        "    - image: The MRI image.\n",
        "    - label: The corresponding label.\n",
        "\n",
        "    Returns:\n",
        "    - preprocessed_image: Resized and normalized image.\n",
        "    - preprocessed_label: Resized and one-hot encoded label.\n",
        "    \"\"\"\n",
        "\n",
        "    # Determine the current shape of the image data\n",
        "    current_shape = image.shape\n",
        "\n",
        "    # Calculate the zoom factors\n",
        "    zoom_factors = (128/current_shape[0], 128/current_shape[1], 64/current_shape[2])\n",
        "\n",
        "    # Resizing\n",
        "    resized_image = zoom(image, zoom_factors, mode='nearest')\n",
        "    resized_label = zoom(label, zoom_factors, order=0, mode='nearest')\n",
        "    # using order=0 (nearest neighbor) for labels\n",
        "\n",
        "    # Normalizing image data to [0, 1]\n",
        "    normalized_image = (resized_image - np.min(resized_image)) / (np.max(resized_image) - np.min(resized_image))\n",
        "\n",
        "    # One-hot encode the label\n",
        "    one_hot_label = one_hot_encode(resized_label, num_classes)\n",
        "    # print(one_hot_label)\n",
        "\n",
        "    return normalized_image, one_hot_label\n"
      ],
      "metadata": {
        "id": "dbujrJaKr-dI"
      },
      "execution_count": 11,
      "outputs": []
    },
    {
      "cell_type": "markdown",
      "source": [
        "#Generator : data is loaded and preprocessed on-the-fly during training"
      ],
      "metadata": {
        "id": "_Q_sqREwmOmq"
      }
    },
    {
      "cell_type": "code",
      "source": [
        " #Each batch is consistent and has a shape (batch_size, 128, 128, 64, 1) for images and (batch_size, 128, 128, 64, num_classes) for labels\n",
        "def data_generator(case_list, dataset_dir, batch_size=2, image_shape=(128, 128, 64, 1), num_classes=4):\n",
        "    while True:\n",
        "        # Randomly sample batch_size cases\n",
        "        batch_cases = np.random.choice(case_list, size=batch_size)\n",
        "\n",
        "        batch_images = []\n",
        "        batch_labels = []\n",
        "\n",
        "        for case in batch_cases:\n",
        "            instances_dir = os.path.join(dataset_dir, case)\n",
        "\n",
        "            # List all instance files within the directory\n",
        "            all_files = os.listdir(instances_dir)\n",
        "\n",
        "            # Filter out the kidney, cyst, and tumor instances\n",
        "            image_files = [f for f in all_files if f.startswith(\"segmentation\")]\n",
        "\n",
        "            # print(image_files)\n",
        "\n",
        "            if not image_files:\n",
        "                continue  # If there are no instance files, skip this case\n",
        "\n",
        "            # Select a random instance for this case (assuming each case might have different instances)\n",
        "            random_instance = np.random.choice(image_files)\n",
        "\n",
        "            image_path = os.path.join(instances_dir, random_instance)\n",
        "            label_path = os.path.join(dataset_dir, case, 'segmentation.nii.gz')\n",
        "\n",
        "            # Load the image and label\n",
        "            image = nib.load(image_path).get_fdata()\n",
        "            label = nib.load(label_path).get_fdata()\n",
        "\n",
        "            #print(np.unique(label))\n",
        "\n",
        "            # Preprocess (resize and normalize) the image and label\n",
        "            image, label = preprocess_data(image, label)\n",
        "\n",
        "            # One-hot encode the labels\n",
        "            #label = one_hot_encode(label, num_classes=num_classes)\n",
        "\n",
        "            batch_images.append(image)\n",
        "            batch_labels.append(label)\n",
        "\n",
        "        # Ensure batch size consistency\n",
        "        while len(batch_images) < batch_size:\n",
        "            # simply reuse the data from the current batch. This is a basic approach, may change it\n",
        "            batch_images.extend(batch_images[:batch_size - len(batch_images)])\n",
        "            batch_labels.extend(batch_labels[:batch_size - len(batch_labels)])\n",
        "\n",
        "        # Convert lists to numpy arrays and try to reshape them to ensure the consistency\n",
        "        batch_images = np.array(batch_images)\n",
        "        batch_labels = np.array(batch_labels)\n",
        "\n",
        "        # Print the shapes before reshaping\n",
        "        # print(\"Shapes before reshaping:\", batch_images.shape, batch_labels.shape)\n",
        "\n",
        "        # Now, try reshaping , problem here\n",
        "        try:\n",
        "            batch_images = batch_images.reshape((batch_size, *image_shape))\n",
        "            batch_labels = batch_labels.reshape((batch_size, *image_shape[:-1], num_classes))\n",
        "        except ValueError as e:\n",
        "            print(f\"Error reshaping for batch: {e}\")\n",
        "            print(\"Cases in the problematic batch:\", batch_cases)\n",
        "            continue  # Skip the problematic batch\n",
        "\n",
        "        yield (batch_images, batch_labels)"
      ],
      "metadata": {
        "id": "6d2t_T0WmhY5"
      },
      "execution_count": 12,
      "outputs": []
    },
    {
      "cell_type": "markdown",
      "source": [
        "#Splitting Dataset into Training and Validation"
      ],
      "metadata": {
        "id": "VloULHJlsj9W"
      }
    },
    {
      "cell_type": "code",
      "source": [
        "from sklearn.model_selection import train_test_split\n",
        "train_cases, val_cases = train_test_split(valid_cases, test_size=0.1)  # Split 10% for validation"
      ],
      "metadata": {
        "id": "hwN-ikSVsl93"
      },
      "execution_count": 13,
      "outputs": []
    },
    {
      "cell_type": "code",
      "source": [
        "print(train_cases)"
      ],
      "metadata": {
        "colab": {
          "base_uri": "https://localhost:8080/"
        },
        "id": "WoHlMQuO7QRl",
        "outputId": "ef848419-4aaa-4b76-bceb-75e278292489"
      },
      "execution_count": 14,
      "outputs": [
        {
          "output_type": "stream",
          "name": "stdout",
          "text": [
            "['case_585', 'case_15', 'case_7', 'case_26', 'case_14', 'case_19', 'case_584', 'case_11', 'case_586', 'case_2', 'case_587', 'case_3', 'case_8', 'case_28', 'case_27', 'case_29', 'case_579', 'case_24', 'case_58', 'case_9', 'case_583', 'case_0', 'case_25', 'case_6', 'case_13', 'case_17', 'case_22', 'case_1', 'case_588', 'case_582', 'case_16', 'case_23', 'case_4', 'case_18']\n"
          ]
        }
      ]
    },
    {
      "cell_type": "code",
      "source": [
        "batch_size = 2  #change this value if needed\n",
        "\n",
        "train_gen = data_generator(train_cases, dataset_dir, batch_size=batch_size)\n",
        "val_gen = data_generator(val_cases, dataset_dir, batch_size=batch_size)"
      ],
      "metadata": {
        "id": "kowpMMJksrGB"
      },
      "execution_count": 15,
      "outputs": []
    },
    {
      "cell_type": "code",
      "source": [
        "x, y = next(train_gen)\n",
        "print(x.shape, y.shape)"
      ],
      "metadata": {
        "id": "HmTZrGai89AN",
        "colab": {
          "base_uri": "https://localhost:8080/"
        },
        "outputId": "6f71ae49-872f-4153-acfe-f81ab34a2b87"
      },
      "execution_count": 21,
      "outputs": [
        {
          "output_type": "stream",
          "name": "stdout",
          "text": [
            "(2, 128, 128, 64, 1) (2, 128, 128, 64, 4)\n"
          ]
        }
      ]
    },
    {
      "cell_type": "markdown",
      "source": [
        "#Model"
      ],
      "metadata": {
        "id": "nCkqQeQ6nkl0"
      }
    },
    {
      "cell_type": "markdown",
      "source": [
        "###Define the U-Net Model"
      ],
      "metadata": {
        "id": "pgbK3j-5nqGN"
      }
    },
    {
      "cell_type": "code",
      "source": [
        "from keras.models import Model\n",
        "from keras.layers import Input, Conv3D, MaxPooling3D, concatenate, Conv3DTranspose, BatchNormalization, Dropout, Lambda\n",
        "from keras.optimizers import Adam\n",
        "from keras.metrics import MeanIoU"
      ],
      "metadata": {
        "id": "0Y_quZTqnmpa"
      },
      "execution_count": 16,
      "outputs": []
    },
    {
      "cell_type": "code",
      "source": [
        "kernel_initializer =  'he_uniform'"
      ],
      "metadata": {
        "id": "_hqoNsNHKbkh"
      },
      "execution_count": 17,
      "outputs": []
    },
    {
      "cell_type": "code",
      "source": [
        "#https://github.com/bnsreenu/python_for_microscopists/blob/master/231_234_BraTa2020_Unet_segmentation/simple_3d_unet.py\n",
        "\n",
        "def simple_unet_model(IMG_HEIGHT, IMG_WIDTH, IMG_DEPTH, IMG_CHANNELS, num_classes):\n",
        "\n",
        "    #Build the model\n",
        "    inputs = Input((IMG_HEIGHT, IMG_WIDTH, IMG_DEPTH, IMG_CHANNELS))\n",
        "    #s = Lambda(lambda x: x / 255)(inputs)   #No need for this if we normalize our inputs beforehand\n",
        "    s = inputs\n",
        "\n",
        "    #Contraction path\n",
        "    c1 = Conv3D(16, (3, 3, 3), activation='relu', kernel_initializer=kernel_initializer, padding='same')(s)\n",
        "    c1 = Dropout(0.1)(c1)\n",
        "    c1 = Conv3D(16, (3, 3, 3), activation='relu', kernel_initializer=kernel_initializer, padding='same')(c1)\n",
        "    p1 = MaxPooling3D((2, 2, 2))(c1)\n",
        "\n",
        "    c2 = Conv3D(32, (3, 3, 3), activation='relu', kernel_initializer=kernel_initializer, padding='same')(p1)\n",
        "    c2 = Dropout(0.1)(c2)\n",
        "    c2 = Conv3D(32, (3, 3, 3), activation='relu', kernel_initializer=kernel_initializer, padding='same')(c2)\n",
        "    p2 = MaxPooling3D((2, 2, 2))(c2)\n",
        "\n",
        "    c3 = Conv3D(64, (3, 3, 3), activation='relu', kernel_initializer=kernel_initializer, padding='same')(p2)\n",
        "    c3 = Dropout(0.2)(c3)\n",
        "    c3 = Conv3D(64, (3, 3, 3), activation='relu', kernel_initializer=kernel_initializer, padding='same')(c3)\n",
        "    p3 = MaxPooling3D((2, 2, 2))(c3)\n",
        "\n",
        "    c4 = Conv3D(128, (3, 3, 3), activation='relu', kernel_initializer=kernel_initializer, padding='same')(p3)\n",
        "    c4 = Dropout(0.2)(c4)\n",
        "    c4 = Conv3D(128, (3, 3, 3), activation='relu', kernel_initializer=kernel_initializer, padding='same')(c4)\n",
        "    p4 = MaxPooling3D(pool_size=(2, 2, 2))(c4)\n",
        "\n",
        "    c5 = Conv3D(256, (3, 3, 3), activation='relu', kernel_initializer=kernel_initializer, padding='same')(p4)\n",
        "    c5 = Dropout(0.3)(c5)\n",
        "    c5 = Conv3D(256, (3, 3, 3), activation='relu', kernel_initializer=kernel_initializer, padding='same')(c5)\n",
        "\n",
        "    #Expansive path\n",
        "    u6 = Conv3DTranspose(128, (2, 2, 2), strides=(2, 2, 2), padding='same')(c5)\n",
        "    u6 = concatenate([u6, c4])\n",
        "    c6 = Conv3D(128, (3, 3, 3), activation='relu', kernel_initializer=kernel_initializer, padding='same')(u6)\n",
        "    c6 = Dropout(0.2)(c6)\n",
        "    c6 = Conv3D(128, (3, 3, 3), activation='relu', kernel_initializer=kernel_initializer, padding='same')(c6)\n",
        "\n",
        "    u7 = Conv3DTranspose(64, (2, 2, 2), strides=(2, 2, 2), padding='same')(c6)\n",
        "    u7 = concatenate([u7, c3])\n",
        "    c7 = Conv3D(64, (3, 3, 3), activation='relu', kernel_initializer=kernel_initializer, padding='same')(u7)\n",
        "    c7 = Dropout(0.2)(c7)\n",
        "    c7 = Conv3D(64, (3, 3, 3), activation='relu', kernel_initializer=kernel_initializer, padding='same')(c7)\n",
        "\n",
        "    u8 = Conv3DTranspose(32, (2, 2, 2), strides=(2, 2, 2), padding='same')(c7)\n",
        "    u8 = concatenate([u8, c2])\n",
        "    c8 = Conv3D(32, (3, 3, 3), activation='relu', kernel_initializer=kernel_initializer, padding='same')(u8)\n",
        "    c8 = Dropout(0.1)(c8)\n",
        "    c8 = Conv3D(32, (3, 3, 3), activation='relu', kernel_initializer=kernel_initializer, padding='same')(c8)\n",
        "\n",
        "    u9 = Conv3DTranspose(16, (2, 2, 2), strides=(2, 2, 2), padding='same')(c8)\n",
        "    u9 = concatenate([u9, c1])\n",
        "    c9 = Conv3D(16, (3, 3, 3), activation='relu', kernel_initializer=kernel_initializer, padding='same')(u9)\n",
        "    c9 = Dropout(0.1)(c9)\n",
        "    c9 = Conv3D(16, (3, 3, 3), activation='relu', kernel_initializer=kernel_initializer, padding='same')(c9)\n",
        "\n",
        "    outputs = Conv3D(num_classes, (1, 1, 1), activation='softmax')(c9)\n",
        "\n",
        "    model = Model(inputs=[inputs], outputs=[outputs])\n",
        "    #compile model outside of this function to make it flexible.\n",
        "    model.summary()\n",
        "\n",
        "    return model\n",
        "\n",
        "#Test if everything is working ok.\n",
        "model = simple_unet_model(128, 128, 64, 1, 4)\n",
        "print(model.input_shape)\n",
        "print(model.output_shape)"
      ],
      "metadata": {
        "colab": {
          "base_uri": "https://localhost:8080/"
        },
        "id": "v82FU1jkKMGj",
        "outputId": "4b90f7a3-bc09-45b6-8ecc-9bf7888d9a09"
      },
      "execution_count": 18,
      "outputs": [
        {
          "output_type": "stream",
          "name": "stdout",
          "text": [
            "Model: \"model\"\n",
            "__________________________________________________________________________________________________\n",
            " Layer (type)                Output Shape                 Param #   Connected to                  \n",
            "==================================================================================================\n",
            " input_1 (InputLayer)        [(None, 128, 128, 64, 1)]    0         []                            \n",
            "                                                                                                  \n",
            " conv3d (Conv3D)             (None, 128, 128, 64, 16)     448       ['input_1[0][0]']             \n",
            "                                                                                                  \n",
            " dropout (Dropout)           (None, 128, 128, 64, 16)     0         ['conv3d[0][0]']              \n",
            "                                                                                                  \n",
            " conv3d_1 (Conv3D)           (None, 128, 128, 64, 16)     6928      ['dropout[0][0]']             \n",
            "                                                                                                  \n",
            " max_pooling3d (MaxPooling3  (None, 64, 64, 32, 16)       0         ['conv3d_1[0][0]']            \n",
            " D)                                                                                               \n",
            "                                                                                                  \n",
            " conv3d_2 (Conv3D)           (None, 64, 64, 32, 32)       13856     ['max_pooling3d[0][0]']       \n",
            "                                                                                                  \n",
            " dropout_1 (Dropout)         (None, 64, 64, 32, 32)       0         ['conv3d_2[0][0]']            \n",
            "                                                                                                  \n",
            " conv3d_3 (Conv3D)           (None, 64, 64, 32, 32)       27680     ['dropout_1[0][0]']           \n",
            "                                                                                                  \n",
            " max_pooling3d_1 (MaxPoolin  (None, 32, 32, 16, 32)       0         ['conv3d_3[0][0]']            \n",
            " g3D)                                                                                             \n",
            "                                                                                                  \n",
            " conv3d_4 (Conv3D)           (None, 32, 32, 16, 64)       55360     ['max_pooling3d_1[0][0]']     \n",
            "                                                                                                  \n",
            " dropout_2 (Dropout)         (None, 32, 32, 16, 64)       0         ['conv3d_4[0][0]']            \n",
            "                                                                                                  \n",
            " conv3d_5 (Conv3D)           (None, 32, 32, 16, 64)       110656    ['dropout_2[0][0]']           \n",
            "                                                                                                  \n",
            " max_pooling3d_2 (MaxPoolin  (None, 16, 16, 8, 64)        0         ['conv3d_5[0][0]']            \n",
            " g3D)                                                                                             \n",
            "                                                                                                  \n",
            " conv3d_6 (Conv3D)           (None, 16, 16, 8, 128)       221312    ['max_pooling3d_2[0][0]']     \n",
            "                                                                                                  \n",
            " dropout_3 (Dropout)         (None, 16, 16, 8, 128)       0         ['conv3d_6[0][0]']            \n",
            "                                                                                                  \n",
            " conv3d_7 (Conv3D)           (None, 16, 16, 8, 128)       442496    ['dropout_3[0][0]']           \n",
            "                                                                                                  \n",
            " max_pooling3d_3 (MaxPoolin  (None, 8, 8, 4, 128)         0         ['conv3d_7[0][0]']            \n",
            " g3D)                                                                                             \n",
            "                                                                                                  \n",
            " conv3d_8 (Conv3D)           (None, 8, 8, 4, 256)         884992    ['max_pooling3d_3[0][0]']     \n",
            "                                                                                                  \n",
            " dropout_4 (Dropout)         (None, 8, 8, 4, 256)         0         ['conv3d_8[0][0]']            \n",
            "                                                                                                  \n",
            " conv3d_9 (Conv3D)           (None, 8, 8, 4, 256)         1769728   ['dropout_4[0][0]']           \n",
            "                                                                                                  \n",
            " conv3d_transpose (Conv3DTr  (None, 16, 16, 8, 128)       262272    ['conv3d_9[0][0]']            \n",
            " anspose)                                                                                         \n",
            "                                                                                                  \n",
            " concatenate (Concatenate)   (None, 16, 16, 8, 256)       0         ['conv3d_transpose[0][0]',    \n",
            "                                                                     'conv3d_7[0][0]']            \n",
            "                                                                                                  \n",
            " conv3d_10 (Conv3D)          (None, 16, 16, 8, 128)       884864    ['concatenate[0][0]']         \n",
            "                                                                                                  \n",
            " dropout_5 (Dropout)         (None, 16, 16, 8, 128)       0         ['conv3d_10[0][0]']           \n",
            "                                                                                                  \n",
            " conv3d_11 (Conv3D)          (None, 16, 16, 8, 128)       442496    ['dropout_5[0][0]']           \n",
            "                                                                                                  \n",
            " conv3d_transpose_1 (Conv3D  (None, 32, 32, 16, 64)       65600     ['conv3d_11[0][0]']           \n",
            " Transpose)                                                                                       \n",
            "                                                                                                  \n",
            " concatenate_1 (Concatenate  (None, 32, 32, 16, 128)      0         ['conv3d_transpose_1[0][0]',  \n",
            " )                                                                   'conv3d_5[0][0]']            \n",
            "                                                                                                  \n",
            " conv3d_12 (Conv3D)          (None, 32, 32, 16, 64)       221248    ['concatenate_1[0][0]']       \n",
            "                                                                                                  \n",
            " dropout_6 (Dropout)         (None, 32, 32, 16, 64)       0         ['conv3d_12[0][0]']           \n",
            "                                                                                                  \n",
            " conv3d_13 (Conv3D)          (None, 32, 32, 16, 64)       110656    ['dropout_6[0][0]']           \n",
            "                                                                                                  \n",
            " conv3d_transpose_2 (Conv3D  (None, 64, 64, 32, 32)       16416     ['conv3d_13[0][0]']           \n",
            " Transpose)                                                                                       \n",
            "                                                                                                  \n",
            " concatenate_2 (Concatenate  (None, 64, 64, 32, 64)       0         ['conv3d_transpose_2[0][0]',  \n",
            " )                                                                   'conv3d_3[0][0]']            \n",
            "                                                                                                  \n",
            " conv3d_14 (Conv3D)          (None, 64, 64, 32, 32)       55328     ['concatenate_2[0][0]']       \n",
            "                                                                                                  \n",
            " dropout_7 (Dropout)         (None, 64, 64, 32, 32)       0         ['conv3d_14[0][0]']           \n",
            "                                                                                                  \n",
            " conv3d_15 (Conv3D)          (None, 64, 64, 32, 32)       27680     ['dropout_7[0][0]']           \n",
            "                                                                                                  \n",
            " conv3d_transpose_3 (Conv3D  (None, 128, 128, 64, 16)     4112      ['conv3d_15[0][0]']           \n",
            " Transpose)                                                                                       \n",
            "                                                                                                  \n",
            " concatenate_3 (Concatenate  (None, 128, 128, 64, 32)     0         ['conv3d_transpose_3[0][0]',  \n",
            " )                                                                   'conv3d_1[0][0]']            \n",
            "                                                                                                  \n",
            " conv3d_16 (Conv3D)          (None, 128, 128, 64, 16)     13840     ['concatenate_3[0][0]']       \n",
            "                                                                                                  \n",
            " dropout_8 (Dropout)         (None, 128, 128, 64, 16)     0         ['conv3d_16[0][0]']           \n",
            "                                                                                                  \n",
            " conv3d_17 (Conv3D)          (None, 128, 128, 64, 16)     6928      ['dropout_8[0][0]']           \n",
            "                                                                                                  \n",
            " conv3d_18 (Conv3D)          (None, 128, 128, 64, 4)      68        ['conv3d_17[0][0]']           \n",
            "                                                                                                  \n",
            "==================================================================================================\n",
            "Total params: 5644964 (21.53 MB)\n",
            "Trainable params: 5644964 (21.53 MB)\n",
            "Non-trainable params: 0 (0.00 Byte)\n",
            "__________________________________________________________________________________________________\n",
            "(None, 128, 128, 64, 1)\n",
            "(None, 128, 128, 64, 4)\n"
          ]
        }
      ]
    },
    {
      "cell_type": "markdown",
      "source": [
        "##Define Losses, Metrics and Optimisers"
      ],
      "metadata": {
        "id": "4xIbfAN6o8RU"
      }
    },
    {
      "cell_type": "code",
      "source": [
        "def dice_loss(y_true, y_pred, smooth=1):\n",
        "    intersection = K.sum(y_true * y_pred, axis=[1, 2, 3, 4])\n",
        "    union = K.sum(y_true, axis=[1, 2, 3, 4]) + K.sum(y_pred, axis=[1, 2, 3, 4])\n",
        "    dice = (2.0 * intersection + smooth) / (union + smooth)\n",
        "    return 1 - K.mean(dice)"
      ],
      "metadata": {
        "id": "smeasEqBTYOS"
      },
      "execution_count": 19,
      "outputs": []
    },
    {
      "cell_type": "code",
      "source": [
        "# It would be ideal to use IOUScore as another metric\n",
        "metrics = ['accuracy']"
      ],
      "metadata": {
        "id": "0XeS-dUtUwAf"
      },
      "execution_count": 20,
      "outputs": []
    },
    {
      "cell_type": "code",
      "source": [
        "LR = 0.0001\n",
        "optim = keras.optimizers.Adam(LR)"
      ],
      "metadata": {
        "id": "vc1XOCiTVbe1"
      },
      "execution_count": 23,
      "outputs": []
    },
    {
      "cell_type": "markdown",
      "source": [
        "#Train Model"
      ],
      "metadata": {
        "id": "0c1zY6Qps-Fd"
      }
    },
    {
      "cell_type": "code",
      "source": [
        "# Number of steps per epoch should be the number of batches of data  per epoch\n",
        "steps_per_epoch = len(train_cases) // batch_size\n",
        "validation_steps = len(val_cases) // batch_size  # similar calculation for validation data"
      ],
      "metadata": {
        "id": "SXI251C7tAoW"
      },
      "execution_count": 24,
      "outputs": []
    },
    {
      "cell_type": "markdown",
      "source": [
        "## Compile Model"
      ],
      "metadata": {
        "id": "4yr2e0RNVqUl"
      }
    },
    {
      "cell_type": "code",
      "source": [
        "model.compile(optimizer = optim, loss=dice_loss, metrics=metrics)"
      ],
      "metadata": {
        "id": "hh079eSVVtgd"
      },
      "execution_count": 25,
      "outputs": []
    },
    {
      "cell_type": "code",
      "source": [
        "history=model.fit(train_gen,\n",
        "          steps_per_epoch=steps_per_epoch,\n",
        "          epochs=10,\n",
        "          verbose=2,\n",
        "          validation_data=val_gen,\n",
        "          validation_steps=validation_steps,\n",
        "          )"
      ],
      "metadata": {
        "colab": {
          "base_uri": "https://localhost:8080/"
        },
        "id": "fzUPpWjktKKQ",
        "outputId": "5fe548a4-c923-4b7c-b32e-4476de98a35b"
      },
      "execution_count": null,
      "outputs": [
        {
          "output_type": "stream",
          "name": "stdout",
          "text": [
            "Epoch 1/10\n"
          ]
        }
      ]
    },
    {
      "cell_type": "markdown",
      "source": [
        "# Plot Metrics"
      ],
      "metadata": {
        "id": "V_zXD-YHZiV6"
      }
    },
    {
      "cell_type": "code",
      "source": [
        "oss = history.history['loss']\n",
        "val_loss = history.history['val_loss']\n",
        "epochs = range(1, len(loss) + 1)\n",
        "plt.plot(epochs, loss, 'y', label='Training loss')\n",
        "plt.plot(epochs, val_loss, 'r', label='Validation loss')\n",
        "plt.title('Training and validation loss')\n",
        "plt.xlabel('Epochs')\n",
        "plt.ylabel('Loss')\n",
        "plt.legend()\n",
        "plt.show()\n",
        "\n",
        "acc = history.history['accuracy']\n",
        "val_acc = history.history['val_accuracy']\n",
        "\n",
        "plt.plot(epochs, acc, 'y', label='Training accuracy')\n",
        "plt.plot(epochs, val_acc, 'r', label='Validation accuracy')\n",
        "plt.title('Training and validation accuracy')\n",
        "plt.xlabel('Epochs')\n",
        "plt.ylabel('Accuracy')\n",
        "plt.legend()\n",
        "plt.show()"
      ],
      "metadata": {
        "id": "Z-_gE3xtZmYC"
      },
      "execution_count": null,
      "outputs": []
    }
  ]
}